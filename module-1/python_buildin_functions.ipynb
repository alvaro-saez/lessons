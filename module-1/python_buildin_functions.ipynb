{
 "cells": [
  {
   "cell_type": "markdown",
   "id": "fbe26829",
   "metadata": {},
   "source": [
    "# Built-in Functions\n",
    "\n",
    "https://docs.python.org/3.7/library/functions.html\n",
    "\n",
    "- __enumerate(iterable, start=0)__\n",
    "    \n",
    "- __input([prompt])__\n",
    "    \n",
    "- __isinstance(object, classinfo)__\n",
    "\n",
    "- __sum(iterable[, start])__\n",
    "\n",
    "- __range(start, stop[, step])__\n",
    "\n",
    "- __map(function, iterable, ...)__"
   ]
  },
  {
   "cell_type": "code",
   "execution_count": 1,
   "id": "2a44b912",
   "metadata": {},
   "outputs": [
    {
     "name": "stdout",
     "output_type": "stream",
     "text": [
      "0 enumerate\n",
      "1 45\n",
      "2 ('key', 'value')\n"
     ]
    }
   ],
   "source": [
    "# https://docs.python.org/3.7/library/functions.html#enumerate\n",
    "\n",
    "values = ['enumerate', 45, ('key','value')]\n",
    "\n",
    "for count, value in enumerate(values):\n",
    "    print(count, value)"
   ]
  },
  {
   "cell_type": "code",
   "execution_count": 2,
   "id": "9f31673c",
   "metadata": {},
   "outputs": [
    {
     "name": "stdout",
     "output_type": "stream",
     "text": [
      "Enter a value here --> 983749\n"
     ]
    },
    {
     "data": {
      "text/plain": [
       "'The value is 983749'"
      ]
     },
     "execution_count": 2,
     "metadata": {},
     "output_type": "execute_result"
    }
   ],
   "source": [
    "# https://docs.python.org/3.7/library/functions.html#input\n",
    "\n",
    "value = input('Enter a value here --> ')\n",
    "f'The value is {value}'"
   ]
  },
  {
   "cell_type": "code",
   "execution_count": 3,
   "id": "65a5d1b8",
   "metadata": {},
   "outputs": [
    {
     "name": "stdout",
     "output_type": "stream",
     "text": [
      "Data type is correct\n"
     ]
    }
   ],
   "source": [
    "# https://docs.python.org/3.7/library/functions.html#isinstance\n",
    "\n",
    "value = 5\n",
    "\n",
    "if isinstance(value, int):\n",
    "    print('Data type is correct')\n",
    "else:\n",
    "    print('FATAL ERROR CALL HOUSTON ASAP!!!')"
   ]
  },
  {
   "cell_type": "code",
   "execution_count": 4,
   "id": "a96e1720",
   "metadata": {},
   "outputs": [
    {
     "data": {
      "text/plain": [
       "10"
      ]
     },
     "execution_count": 4,
     "metadata": {},
     "output_type": "execute_result"
    }
   ],
   "source": [
    "# https://docs.python.org/3.7/library/functions.html#sum\n",
    "\n",
    "my_values = [1, 2, 3, 4]\n",
    "\n",
    "sum(my_values)"
   ]
  },
  {
   "cell_type": "code",
   "execution_count": 5,
   "id": "543f5b2d",
   "metadata": {},
   "outputs": [
    {
     "data": {
      "text/plain": [
       "190"
      ]
     },
     "execution_count": 5,
     "metadata": {},
     "output_type": "execute_result"
    }
   ],
   "source": [
    "lista = [3,53,34]\n",
    "sum(lista,100)\n"
   ]
  },
  {
   "cell_type": "code",
   "execution_count": 8,
   "id": "5c3dc2bb",
   "metadata": {},
   "outputs": [
    {
     "name": "stdout",
     "output_type": "stream",
     "text": [
      "0 | 4 | 16 | 36 | 64 | 100 | 144 | 196 | 256 | 324 | "
     ]
    }
   ],
   "source": [
    "# https://docs.python.org/3.7/library/functions.html#func-range\n",
    "\n",
    "for i in range(0, 20, 2):\n",
    "    print(i * i, end=' | ')"
   ]
  },
  {
   "cell_type": "code",
   "execution_count": 9,
   "id": "fa5de128",
   "metadata": {},
   "outputs": [
    {
     "data": {
      "text/plain": [
       "[\"LET'S\", 'TAKE', 'A', 'BREAK']"
      ]
     },
     "execution_count": 9,
     "metadata": {},
     "output_type": "execute_result"
    }
   ],
   "source": [
    "# https://docs.python.org/3.7/library/functions.html#map\n",
    "\n",
    "my_words = [\"let's\", \"take\", \"a\", \"break\"]\n",
    "\n",
    "my_message = map(lambda word: word.upper(), my_words)\n",
    "list(my_message)"
   ]
  },
  {
   "cell_type": "code",
   "execution_count": null,
   "id": "6c469b91",
   "metadata": {},
   "outputs": [],
   "source": []
  }
 ],
 "metadata": {
  "kernelspec": {
   "display_name": "Python [conda env:ironhack]",
   "language": "python",
   "name": "conda-env-ironhack-py"
  },
  "language_info": {
   "codemirror_mode": {
    "name": "ipython",
    "version": 3
   },
   "file_extension": ".py",
   "mimetype": "text/x-python",
   "name": "python",
   "nbconvert_exporter": "python",
   "pygments_lexer": "ipython3",
   "version": "3.7.11"
  }
 },
 "nbformat": 4,
 "nbformat_minor": 5
}
