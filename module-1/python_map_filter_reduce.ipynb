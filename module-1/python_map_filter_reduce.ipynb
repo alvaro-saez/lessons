{
 "cells": [
  {
   "cell_type": "markdown",
   "id": "0b4f5cff",
   "metadata": {},
   "source": [
    "# Map\n",
    "\n",
    "- The goal of using the `map()` function is to apply a function to a sequence (https://docs.python.org/3.7/library/functions.html#map) "
   ]
  },
  {
   "cell_type": "code",
   "execution_count": 119,
   "id": "69b86c46",
   "metadata": {},
   "outputs": [],
   "source": [
    "import requests\n",
    "from bs4 import BeautifulSoup\n",
    "from lxml import etree\n",
    "import random"
   ]
  },
  {
   "cell_type": "code",
   "execution_count": 121,
   "id": "a55e1f91",
   "metadata": {},
   "outputs": [],
   "source": [
    "rate_content = requests.get('https://www.xe.com/currencyconverter/convert/?Amount=1&From=USD&To=EUR').content\n",
    "rate_soup = BeautifulSoup(rate_content, 'html.parser')\n",
    "rate_xpath = '//*[@id=\"__next\"]/div[2]/div[2]/section/div[2]/div/main/form/div[2]/div[1]/p[2]/text()[1]'\n",
    "rate_three = etree.HTML(str(rate_soup)).xpath(rate_xpath)[0]"
   ]
  },
  {
   "cell_type": "code",
   "execution_count": 124,
   "id": "47eae83e",
   "metadata": {},
   "outputs": [
    {
     "name": "stdout",
     "output_type": "stream",
     "text": [
      "[273, 1931, 1952, 1593, 699, 1770, 796, 565, 1801, 1631]\n",
      "0.88\n"
     ]
    }
   ],
   "source": [
    "random_amounts = [random.randint(20, 2000) for i in range(10)]\n",
    "current_rate = float(rate_three)\n",
    "print(random_amounts)\n",
    "print(current_rate)"
   ]
  },
  {
   "cell_type": "code",
   "execution_count": 125,
   "id": "a006f826",
   "metadata": {},
   "outputs": [],
   "source": [
    "def currency_converter(amount, current_rate):\n",
    "    c = amount * current_rate\n",
    "    return c\n",
    "#solo la estamos definiendo, además amount todavia no existe"
   ]
  },
  {
   "cell_type": "code",
   "execution_count": 135,
   "id": "a570d348",
   "metadata": {},
   "outputs": [],
   "source": [
    "#lo mismo pero con lambda\n",
    "#meto las dos variables otra vez para usar pantallazos mas cortos, pero no haria falta (las dos siguientes lineas)\n",
    "random_amounts = [273, 1931, 1952, 1593, 699, 1770, 796, 565, 1801, 1631]\n",
    "current_rate = 0.88\n",
    "lambda_function = lambda amount: amount * current_rate"
   ]
  },
  {
   "cell_type": "code",
   "execution_count": 141,
   "id": "d7fb73df",
   "metadata": {},
   "outputs": [
    {
     "name": "stdout",
     "output_type": "stream",
     "text": [
      "<map object at 0x000001E4016D3688>\n",
      "[240.24, 1699.28, 1717.76, 1401.84, 615.12, 1557.6, 700.48, 497.2, 1584.88, 1435.28]\n",
      "Wall time: 0 ns\n"
     ]
    }
   ],
   "source": [
    "%%time\n",
    "\n",
    "# Now we map the function to the list\n",
    "\n",
    "map_object = map(lambda_function, random_amounts)\n",
    "print(map_object)\n",
    "print(list(map_object))"
   ]
  },
  {
   "cell_type": "markdown",
   "id": "6a13ab6e",
   "metadata": {},
   "source": []
  },
  {
   "cell_type": "code",
   "execution_count": 114,
   "id": "7402a903",
   "metadata": {},
   "outputs": [
    {
     "data": {
      "text/plain": [
       "'IRONHACK'"
      ]
     },
     "execution_count": 114,
     "metadata": {},
     "output_type": "execute_result"
    }
   ],
   "source": [
    "string = 'Ironhack'\n",
    "lambda_function = lambda x : x.upper()\n",
    "lambda_function(string)\n"
   ]
  },
  {
   "cell_type": "code",
   "execution_count": 118,
   "id": "f5fdbc2c",
   "metadata": {},
   "outputs": [
    {
     "data": {
      "text/plain": [
       "['I', 'R', 'O', 'N', 'H', 'A', 'C', 'K']"
      ]
     },
     "execution_count": 118,
     "metadata": {},
     "output_type": "execute_result"
    }
   ],
   "source": [
    "#map solo se palica a iterables, por lo que te itera string\n",
    "#lo solemos utilizar con list() para poder usar su objeto iterado resultante\n",
    "string = 'Ironhack'\n",
    "list(map(lambda x : x.upper(), string))"
   ]
  },
  {
   "cell_type": "code",
   "execution_count": 116,
   "id": "b0689a28",
   "metadata": {},
   "outputs": [
    {
     "data": {
      "text/plain": [
       "['I']"
      ]
     },
     "execution_count": 116,
     "metadata": {},
     "output_type": "execute_result"
    }
   ],
   "source": [
    "#se pueden meter condiciones en las lambda\n",
    "string = 'Ironhack'\n",
    "list(filter(lambda x : x.upper() == \"I\", string))"
   ]
  },
  {
   "cell_type": "markdown",
   "id": "d9a3e801",
   "metadata": {},
   "source": [
    "---"
   ]
  },
  {
   "cell_type": "markdown",
   "id": "9c4eb621",
   "metadata": {},
   "source": [
    "# Filter\n",
    "\n",
    "- The goal of the `filter()` function is to use the function we pass to it to remove elements from our sequence (https://docs.python.org/3.7/library/functions.html#filter)"
   ]
  },
  {
   "cell_type": "code",
   "execution_count": 153,
   "id": "4e71a444",
   "metadata": {},
   "outputs": [
    {
     "name": "stdout",
     "output_type": "stream",
     "text": [
      "[1806, 1883, 1668, 1388]\n"
     ]
    }
   ],
   "source": [
    "import random\n",
    "random_amounts = [random.randint(20, 2000) for i in range(10)]\n",
    "\n",
    "filter_object = filter(lambda i : i >= 1000, random_amounts)\n",
    "print(list(filter_object))"
   ]
  },
  {
   "cell_type": "markdown",
   "id": "504fe4ed",
   "metadata": {},
   "source": [
    "---"
   ]
  },
  {
   "cell_type": "markdown",
   "id": "6597bd3c",
   "metadata": {},
   "source": [
    "# Reduce\n",
    "\n",
    "- The goal of the `reduce()` function is to aggregate all elements in a sequence (https://docs.python.org/3.7/library/functools.html#module-functools)"
   ]
  },
  {
   "cell_type": "code",
   "execution_count": 154,
   "id": "94d43faa",
   "metadata": {},
   "outputs": [
    {
     "name": "stdout",
     "output_type": "stream",
     "text": [
      "10541\n"
     ]
    }
   ],
   "source": [
    "from functools import reduce\n",
    "\n",
    "random_amounts = [random.randint(20, 2000) for i in range(10)]\n",
    "\n",
    "reduce_object = reduce(lambda x, y : x + y, random_amounts)\n",
    "\n",
    "print(reduce_object)"
   ]
  },
  {
   "cell_type": "code",
   "execution_count": 102,
   "id": "06524cf6",
   "metadata": {},
   "outputs": [
    {
     "name": "stdout",
     "output_type": "stream",
     "text": [
      "<class 'int'>\n",
      "10875\n",
      "Wall time: 0 ns\n"
     ]
    }
   ],
   "source": [
    "%%time\n",
    "\n",
    "#hace lo mismo que lo siguiente\n",
    "\n",
    "suma = sum(random_amounts)\n",
    "\n",
    "print(type(suma))\n",
    "print(suma)"
   ]
  },
  {
   "cell_type": "markdown",
   "id": "c0449ba1",
   "metadata": {},
   "source": [
    "---"
   ]
  },
  {
   "cell_type": "code",
   "execution_count": null,
   "id": "e932ecbe",
   "metadata": {},
   "outputs": [],
   "source": []
  }
 ],
 "metadata": {
  "kernelspec": {
   "display_name": "Python [conda env:ironhack]",
   "language": "python",
   "name": "conda-env-ironhack-py"
  },
  "language_info": {
   "codemirror_mode": {
    "name": "ipython",
    "version": 3
   },
   "file_extension": ".py",
   "mimetype": "text/x-python",
   "name": "python",
   "nbconvert_exporter": "python",
   "pygments_lexer": "ipython3",
   "version": "3.7.11"
  }
 },
 "nbformat": 4,
 "nbformat_minor": 5
}
