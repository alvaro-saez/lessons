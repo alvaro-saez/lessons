{
 "cells": [
  {
   "cell_type": "markdown",
   "id": "98a10ec3",
   "metadata": {},
   "source": [
    "# EXTRA: Data Aggregation Constructor"
   ]
  },
  {
   "cell_type": "code",
   "execution_count": 1,
   "id": "6837c5c1",
   "metadata": {},
   "outputs": [],
   "source": [
    "import pandas as pd"
   ]
  },
  {
   "cell_type": "code",
   "execution_count": 2,
   "id": "75b3e616",
   "metadata": {},
   "outputs": [
    {
     "name": "stdout",
     "output_type": "stream",
     "text": [
      "Wall time: 27.6 s\n"
     ]
    }
   ],
   "source": [
    "%%time\n",
    "\n",
    "df = pd.read_csv('./datasets/2021T2-SER-uso-parquimetros.csv', sep=';')"
   ]
  },
  {
   "cell_type": "code",
   "execution_count": 3,
   "id": "d3b207bb",
   "metadata": {},
   "outputs": [
    {
     "data": {
      "text/html": [
       "<div>\n",
       "<style scoped>\n",
       "    .dataframe tbody tr th:only-of-type {\n",
       "        vertical-align: middle;\n",
       "    }\n",
       "\n",
       "    .dataframe tbody tr th {\n",
       "        vertical-align: top;\n",
       "    }\n",
       "\n",
       "    .dataframe thead th {\n",
       "        text-align: right;\n",
       "    }\n",
       "</style>\n",
       "<table border=\"1\" class=\"dataframe\">\n",
       "  <thead>\n",
       "    <tr style=\"text-align: right;\">\n",
       "      <th></th>\n",
       "      <th>matricula_parquimetro</th>\n",
       "      <th>fecha_operacion</th>\n",
       "      <th>fecha_inicio</th>\n",
       "      <th>fecha_fin</th>\n",
       "      <th>cod_distrito</th>\n",
       "      <th>distrito</th>\n",
       "      <th>cod_barrio</th>\n",
       "      <th>barrio</th>\n",
       "      <th>tipo_zona</th>\n",
       "      <th>distintivo</th>\n",
       "      <th>minutos_tique</th>\n",
       "      <th>importe_tique</th>\n",
       "    </tr>\n",
       "  </thead>\n",
       "  <tbody>\n",
       "    <tr>\n",
       "      <th>0</th>\n",
       "      <td>205310544</td>\n",
       "      <td>2021-06-07 12:02:28</td>\n",
       "      <td>2021-06-07 12:02:28</td>\n",
       "      <td>2021-06-07 13:22:28</td>\n",
       "      <td>5</td>\n",
       "      <td>CHAMARTIN</td>\n",
       "      <td>3</td>\n",
       "      <td>CIUDAD JARDÍN</td>\n",
       "      <td>AZUL</td>\n",
       "      <td>B</td>\n",
       "      <td>80</td>\n",
       "      <td>1,50</td>\n",
       "    </tr>\n",
       "    <tr>\n",
       "      <th>1</th>\n",
       "      <td>205110427</td>\n",
       "      <td>2021-05-29 09:38:58</td>\n",
       "      <td>2021-05-29 09:38:58</td>\n",
       "      <td>2021-05-29 13:28:58</td>\n",
       "      <td>5</td>\n",
       "      <td>CHAMARTIN</td>\n",
       "      <td>1</td>\n",
       "      <td>EL VISO</td>\n",
       "      <td>AZUL</td>\n",
       "      <td>C</td>\n",
       "      <td>230</td>\n",
       "      <td>6,95</td>\n",
       "    </tr>\n",
       "    <tr>\n",
       "      <th>2</th>\n",
       "      <td>107630067</td>\n",
       "      <td>2021-04-13 11:50:28</td>\n",
       "      <td>2021-04-13 11:50:28</td>\n",
       "      <td>2021-04-13 12:20:28</td>\n",
       "      <td>7</td>\n",
       "      <td>CHAMBERI</td>\n",
       "      <td>6</td>\n",
       "      <td>VALLEHERMOSO</td>\n",
       "      <td>VERDE</td>\n",
       "      <td>INFORMACION NO DISPONIBLE</td>\n",
       "      <td>30</td>\n",
       "      <td>0,90</td>\n",
       "    </tr>\n",
       "    <tr>\n",
       "      <th>3</th>\n",
       "      <td>109330974</td>\n",
       "      <td>2021-05-31 16:48:49</td>\n",
       "      <td>2021-05-31 16:48:49</td>\n",
       "      <td>2021-05-31 17:04:49</td>\n",
       "      <td>9</td>\n",
       "      <td>MONCLOA</td>\n",
       "      <td>3</td>\n",
       "      <td>CIUDAD UNIVERSITARIA</td>\n",
       "      <td>VERDE</td>\n",
       "      <td>B</td>\n",
       "      <td>16</td>\n",
       "      <td>0,40</td>\n",
       "    </tr>\n",
       "    <tr>\n",
       "      <th>4</th>\n",
       "      <td>703430023</td>\n",
       "      <td>2021-05-08 14:09:56</td>\n",
       "      <td>2021-05-08 14:09:56</td>\n",
       "      <td>2021-05-08 14:55:56</td>\n",
       "      <td>3</td>\n",
       "      <td>RETIRO</td>\n",
       "      <td>4</td>\n",
       "      <td>IBIZA</td>\n",
       "      <td>VERDE</td>\n",
       "      <td>B</td>\n",
       "      <td>46</td>\n",
       "      <td>1,50</td>\n",
       "    </tr>\n",
       "  </tbody>\n",
       "</table>\n",
       "</div>"
      ],
      "text/plain": [
       "  matricula_parquimetro      fecha_operacion         fecha_inicio  \\\n",
       "0             205310544  2021-06-07 12:02:28  2021-06-07 12:02:28   \n",
       "1             205110427  2021-05-29 09:38:58  2021-05-29 09:38:58   \n",
       "2             107630067  2021-04-13 11:50:28  2021-04-13 11:50:28   \n",
       "3             109330974  2021-05-31 16:48:49  2021-05-31 16:48:49   \n",
       "4             703430023  2021-05-08 14:09:56  2021-05-08 14:09:56   \n",
       "\n",
       "             fecha_fin  cod_distrito   distrito  cod_barrio  \\\n",
       "0  2021-06-07 13:22:28             5  CHAMARTIN           3   \n",
       "1  2021-05-29 13:28:58             5  CHAMARTIN           1   \n",
       "2  2021-04-13 12:20:28             7   CHAMBERI           6   \n",
       "3  2021-05-31 17:04:49             9    MONCLOA           3   \n",
       "4  2021-05-08 14:55:56             3     RETIRO           4   \n",
       "\n",
       "                 barrio tipo_zona                 distintivo  minutos_tique  \\\n",
       "0         CIUDAD JARDÍN      AZUL                          B             80   \n",
       "1               EL VISO      AZUL                          C            230   \n",
       "2          VALLEHERMOSO     VERDE  INFORMACION NO DISPONIBLE             30   \n",
       "3  CIUDAD UNIVERSITARIA     VERDE                          B             16   \n",
       "4                 IBIZA     VERDE                          B             46   \n",
       "\n",
       "  importe_tique  \n",
       "0          1,50  \n",
       "1          6,95  \n",
       "2          0,90  \n",
       "3          0,40  \n",
       "4          1,50  "
      ]
     },
     "execution_count": 3,
     "metadata": {},
     "output_type": "execute_result"
    }
   ],
   "source": [
    "df.head()"
   ]
  },
  {
   "cell_type": "code",
   "execution_count": 4,
   "id": "901809b9",
   "metadata": {},
   "outputs": [
    {
     "name": "stdout",
     "output_type": "stream",
     "text": [
      "<class 'pandas.core.frame.DataFrame'>\n",
      "RangeIndex: 11328103 entries, 0 to 11328102\n",
      "Data columns (total 12 columns):\n",
      " #   Column                 Dtype \n",
      "---  ------                 ----- \n",
      " 0   matricula_parquimetro  object\n",
      " 1   fecha_operacion        object\n",
      " 2   fecha_inicio           object\n",
      " 3   fecha_fin              object\n",
      " 4   cod_distrito           int64 \n",
      " 5   distrito               object\n",
      " 6   cod_barrio             int64 \n",
      " 7   barrio                 object\n",
      " 8   tipo_zona              object\n",
      " 9   distintivo             object\n",
      " 10  minutos_tique          int64 \n",
      " 11  importe_tique          object\n",
      "dtypes: int64(3), object(9)\n",
      "memory usage: 1.0+ GB\n"
     ]
    }
   ],
   "source": [
    "df.info()"
   ]
  },
  {
   "cell_type": "code",
   "execution_count": 5,
   "id": "119805f7",
   "metadata": {},
   "outputs": [
    {
     "data": {
      "text/plain": [
       "matricula_parquimetro    0\n",
       "fecha_operacion          0\n",
       "fecha_inicio             0\n",
       "fecha_fin                0\n",
       "cod_distrito             0\n",
       "distrito                 0\n",
       "cod_barrio               0\n",
       "barrio                   0\n",
       "tipo_zona                0\n",
       "distintivo               0\n",
       "minutos_tique            0\n",
       "importe_tique            0\n",
       "dtype: int64"
      ]
     },
     "execution_count": 5,
     "metadata": {},
     "output_type": "execute_result"
    }
   ],
   "source": [
    "df.isnull().sum()"
   ]
  },
  {
   "cell_type": "code",
   "execution_count": 6,
   "id": "95b25a3c",
   "metadata": {},
   "outputs": [],
   "source": [
    "df['importe_tique'] = df['importe_tique'].str.replace(',', '.').astype('float64')"
   ]
  },
  {
   "cell_type": "code",
   "execution_count": 7,
   "id": "0c6d8066",
   "metadata": {},
   "outputs": [
    {
     "data": {
      "text/html": [
       "<div>\n",
       "<style scoped>\n",
       "    .dataframe tbody tr th:only-of-type {\n",
       "        vertical-align: middle;\n",
       "    }\n",
       "\n",
       "    .dataframe tbody tr th {\n",
       "        vertical-align: top;\n",
       "    }\n",
       "\n",
       "    .dataframe thead th {\n",
       "        text-align: right;\n",
       "    }\n",
       "</style>\n",
       "<table border=\"1\" class=\"dataframe\">\n",
       "  <thead>\n",
       "    <tr style=\"text-align: right;\">\n",
       "      <th></th>\n",
       "      <th>cod_distrito</th>\n",
       "      <th>distrito</th>\n",
       "    </tr>\n",
       "  </thead>\n",
       "  <tbody>\n",
       "    <tr>\n",
       "      <th>0</th>\n",
       "      <td>1</td>\n",
       "      <td>CENTRO</td>\n",
       "    </tr>\n",
       "    <tr>\n",
       "      <th>1</th>\n",
       "      <td>2</td>\n",
       "      <td>ARGANZUELA</td>\n",
       "    </tr>\n",
       "    <tr>\n",
       "      <th>2</th>\n",
       "      <td>3</td>\n",
       "      <td>RETIRO</td>\n",
       "    </tr>\n",
       "    <tr>\n",
       "      <th>3</th>\n",
       "      <td>4</td>\n",
       "      <td>SALAMANCA</td>\n",
       "    </tr>\n",
       "    <tr>\n",
       "      <th>4</th>\n",
       "      <td>5</td>\n",
       "      <td>CHAMARTIN</td>\n",
       "    </tr>\n",
       "  </tbody>\n",
       "</table>\n",
       "</div>"
      ],
      "text/plain": [
       "   cod_distrito    distrito\n",
       "0             1      CENTRO\n",
       "1             2  ARGANZUELA\n",
       "2             3      RETIRO\n",
       "3             4   SALAMANCA\n",
       "4             5   CHAMARTIN"
      ]
     },
     "execution_count": 7,
     "metadata": {},
     "output_type": "execute_result"
    }
   ],
   "source": [
    "df_distritos = df[['cod_distrito', 'distrito']].drop_duplicates().sort_values(by='cod_distrito').reset_index(drop=True)\n",
    "df_distritos.head()"
   ]
  },
  {
   "cell_type": "code",
   "execution_count": 8,
   "id": "f004dfcf",
   "metadata": {},
   "outputs": [
    {
     "data": {
      "text/html": [
       "<div>\n",
       "<style scoped>\n",
       "    .dataframe tbody tr th:only-of-type {\n",
       "        vertical-align: middle;\n",
       "    }\n",
       "\n",
       "    .dataframe tbody tr th {\n",
       "        vertical-align: top;\n",
       "    }\n",
       "\n",
       "    .dataframe thead th {\n",
       "        text-align: right;\n",
       "    }\n",
       "</style>\n",
       "<table border=\"1\" class=\"dataframe\">\n",
       "  <thead>\n",
       "    <tr style=\"text-align: right;\">\n",
       "      <th></th>\n",
       "      <th>cod_distrito</th>\n",
       "      <th>cod_barrio</th>\n",
       "      <th>barrio</th>\n",
       "    </tr>\n",
       "  </thead>\n",
       "  <tbody>\n",
       "    <tr>\n",
       "      <th>0</th>\n",
       "      <td>1</td>\n",
       "      <td>1</td>\n",
       "      <td>PALACIO</td>\n",
       "    </tr>\n",
       "    <tr>\n",
       "      <th>1</th>\n",
       "      <td>1</td>\n",
       "      <td>2</td>\n",
       "      <td>EMBAJADORES</td>\n",
       "    </tr>\n",
       "    <tr>\n",
       "      <th>2</th>\n",
       "      <td>1</td>\n",
       "      <td>3</td>\n",
       "      <td>CORTES</td>\n",
       "    </tr>\n",
       "    <tr>\n",
       "      <th>3</th>\n",
       "      <td>1</td>\n",
       "      <td>4</td>\n",
       "      <td>JUSTICIA</td>\n",
       "    </tr>\n",
       "    <tr>\n",
       "      <th>4</th>\n",
       "      <td>1</td>\n",
       "      <td>5</td>\n",
       "      <td>UNIVERSIDAD</td>\n",
       "    </tr>\n",
       "  </tbody>\n",
       "</table>\n",
       "</div>"
      ],
      "text/plain": [
       "   cod_distrito  cod_barrio       barrio\n",
       "0             1           1      PALACIO\n",
       "1             1           2  EMBAJADORES\n",
       "2             1           3       CORTES\n",
       "3             1           4     JUSTICIA\n",
       "4             1           5  UNIVERSIDAD"
      ]
     },
     "execution_count": 8,
     "metadata": {},
     "output_type": "execute_result"
    }
   ],
   "source": [
    "df_barrios = df[['cod_distrito', 'cod_barrio', 'barrio']].drop_duplicates()\\\n",
    ".sort_values(by=['cod_distrito', 'cod_barrio']).reset_index(drop=True)\n",
    "df_barrios.head()"
   ]
  },
  {
   "cell_type": "code",
   "execution_count": 9,
   "id": "3da735b5",
   "metadata": {},
   "outputs": [
    {
     "data": {
      "text/html": [
       "<div>\n",
       "<style scoped>\n",
       "    .dataframe tbody tr th:only-of-type {\n",
       "        vertical-align: middle;\n",
       "    }\n",
       "\n",
       "    .dataframe tbody tr th {\n",
       "        vertical-align: top;\n",
       "    }\n",
       "\n",
       "    .dataframe thead th {\n",
       "        text-align: right;\n",
       "    }\n",
       "</style>\n",
       "<table border=\"1\" class=\"dataframe\">\n",
       "  <thead>\n",
       "    <tr style=\"text-align: right;\">\n",
       "      <th></th>\n",
       "      <th>matricula_parquimetro</th>\n",
       "      <th>fecha_operacion</th>\n",
       "      <th>fecha_inicio</th>\n",
       "      <th>fecha_fin</th>\n",
       "      <th>cod_distrito</th>\n",
       "      <th>cod_barrio</th>\n",
       "      <th>tipo_zona</th>\n",
       "      <th>distintivo</th>\n",
       "      <th>minutos_tique</th>\n",
       "      <th>importe_tique</th>\n",
       "    </tr>\n",
       "  </thead>\n",
       "  <tbody>\n",
       "    <tr>\n",
       "      <th>0</th>\n",
       "      <td>205310544</td>\n",
       "      <td>2021-06-07 12:02:28</td>\n",
       "      <td>2021-06-07 12:02:28</td>\n",
       "      <td>2021-06-07 13:22:28</td>\n",
       "      <td>5</td>\n",
       "      <td>3</td>\n",
       "      <td>AZUL</td>\n",
       "      <td>B</td>\n",
       "      <td>80</td>\n",
       "      <td>1.50</td>\n",
       "    </tr>\n",
       "    <tr>\n",
       "      <th>1</th>\n",
       "      <td>205110427</td>\n",
       "      <td>2021-05-29 09:38:58</td>\n",
       "      <td>2021-05-29 09:38:58</td>\n",
       "      <td>2021-05-29 13:28:58</td>\n",
       "      <td>5</td>\n",
       "      <td>1</td>\n",
       "      <td>AZUL</td>\n",
       "      <td>C</td>\n",
       "      <td>230</td>\n",
       "      <td>6.95</td>\n",
       "    </tr>\n",
       "    <tr>\n",
       "      <th>2</th>\n",
       "      <td>107630067</td>\n",
       "      <td>2021-04-13 11:50:28</td>\n",
       "      <td>2021-04-13 11:50:28</td>\n",
       "      <td>2021-04-13 12:20:28</td>\n",
       "      <td>7</td>\n",
       "      <td>6</td>\n",
       "      <td>VERDE</td>\n",
       "      <td>INFORMACION NO DISPONIBLE</td>\n",
       "      <td>30</td>\n",
       "      <td>0.90</td>\n",
       "    </tr>\n",
       "    <tr>\n",
       "      <th>3</th>\n",
       "      <td>109330974</td>\n",
       "      <td>2021-05-31 16:48:49</td>\n",
       "      <td>2021-05-31 16:48:49</td>\n",
       "      <td>2021-05-31 17:04:49</td>\n",
       "      <td>9</td>\n",
       "      <td>3</td>\n",
       "      <td>VERDE</td>\n",
       "      <td>B</td>\n",
       "      <td>16</td>\n",
       "      <td>0.40</td>\n",
       "    </tr>\n",
       "    <tr>\n",
       "      <th>4</th>\n",
       "      <td>703430023</td>\n",
       "      <td>2021-05-08 14:09:56</td>\n",
       "      <td>2021-05-08 14:09:56</td>\n",
       "      <td>2021-05-08 14:55:56</td>\n",
       "      <td>3</td>\n",
       "      <td>4</td>\n",
       "      <td>VERDE</td>\n",
       "      <td>B</td>\n",
       "      <td>46</td>\n",
       "      <td>1.50</td>\n",
       "    </tr>\n",
       "  </tbody>\n",
       "</table>\n",
       "</div>"
      ],
      "text/plain": [
       "  matricula_parquimetro      fecha_operacion         fecha_inicio  \\\n",
       "0             205310544  2021-06-07 12:02:28  2021-06-07 12:02:28   \n",
       "1             205110427  2021-05-29 09:38:58  2021-05-29 09:38:58   \n",
       "2             107630067  2021-04-13 11:50:28  2021-04-13 11:50:28   \n",
       "3             109330974  2021-05-31 16:48:49  2021-05-31 16:48:49   \n",
       "4             703430023  2021-05-08 14:09:56  2021-05-08 14:09:56   \n",
       "\n",
       "             fecha_fin  cod_distrito  cod_barrio tipo_zona  \\\n",
       "0  2021-06-07 13:22:28             5           3      AZUL   \n",
       "1  2021-05-29 13:28:58             5           1      AZUL   \n",
       "2  2021-04-13 12:20:28             7           6     VERDE   \n",
       "3  2021-05-31 17:04:49             9           3     VERDE   \n",
       "4  2021-05-08 14:55:56             3           4     VERDE   \n",
       "\n",
       "                  distintivo  minutos_tique  importe_tique  \n",
       "0                          B             80           1.50  \n",
       "1                          C            230           6.95  \n",
       "2  INFORMACION NO DISPONIBLE             30           0.90  \n",
       "3                          B             16           0.40  \n",
       "4                          B             46           1.50  "
      ]
     },
     "execution_count": 9,
     "metadata": {},
     "output_type": "execute_result"
    }
   ],
   "source": [
    "drop_cols = ['distrito', 'barrio']\n",
    "df_small = df.drop(drop_cols, axis=1)\n",
    "df_small.head()"
   ]
  },
  {
   "cell_type": "code",
   "execution_count": 10,
   "id": "19432eb8",
   "metadata": {},
   "outputs": [],
   "source": [
    "df_barrios.to_csv('./datasets/barrios.csv', sep='\\t', index=False)"
   ]
  },
  {
   "cell_type": "code",
   "execution_count": 11,
   "id": "29b1b3f7",
   "metadata": {},
   "outputs": [],
   "source": [
    "df_distritos.to_csv('./datasets/distritos.csv', sep='\\t', index=False)"
   ]
  },
  {
   "cell_type": "code",
   "execution_count": 12,
   "id": "f3de0026",
   "metadata": {},
   "outputs": [
    {
     "name": "stdout",
     "output_type": "stream",
     "text": [
      "Wall time: 42.3 s\n"
     ]
    }
   ],
   "source": [
    "%%time\n",
    "\n",
    "df_small.to_csv('./datasets/tickets_parking.csv', index=False)"
   ]
  },
  {
   "cell_type": "code",
   "execution_count": 13,
   "id": "0f6e2947",
   "metadata": {},
   "outputs": [
    {
     "name": "stdout",
     "output_type": "stream",
     "text": [
      "Wall time: 10.7 s\n"
     ]
    }
   ],
   "source": [
    "%%time\n",
    "\n",
    "df_small.to_parquet('./datasets/tickets_parking.parquet')"
   ]
  },
  {
   "cell_type": "markdown",
   "id": "e5c2bc8e",
   "metadata": {},
   "source": [
    "---"
   ]
  }
 ],
 "metadata": {
  "kernelspec": {
   "display_name": "Python [conda env:ironhack]",
   "language": "python",
   "name": "conda-env-ironhack-py"
  },
  "language_info": {
   "codemirror_mode": {
    "name": "ipython",
    "version": 3
   },
   "file_extension": ".py",
   "mimetype": "text/x-python",
   "name": "python",
   "nbconvert_exporter": "python",
   "pygments_lexer": "ipython3",
   "version": "3.7.11"
  }
 },
 "nbformat": 4,
 "nbformat_minor": 5
}
