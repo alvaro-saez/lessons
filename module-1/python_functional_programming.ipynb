{
 "cells": [
  {
   "cell_type": "markdown",
   "id": "edbd153f",
   "metadata": {},
   "source": [
    "# Programming Paradigms\n",
    "---"
   ]
  },
  {
   "cell_type": "markdown",
   "id": "a188f917",
   "metadata": {},
   "source": [
    "> ### Procedural\n",
    "\n",
    "- Write sequential series of execution steps/tasks\n",
    "\n",
    "- \"Top to bottom\" code execution\n",
    "\n",
    "> ### Functional\n",
    "\n",
    "- Organize code in functions with clearly defined tasks\n",
    "\n",
    "- Pass data around via parameters\n",
    "\n",
    "> ### Object-oriented*\n",
    "\n",
    "- Organize data and logic in objects (properties and methods)\n",
    "\n",
    "- Organize code in logical entities"
   ]
  },
  {
   "cell_type": "markdown",
   "id": "33666ce3",
   "metadata": {},
   "source": [
    "---"
   ]
  },
  {
   "cell_type": "code",
   "execution_count": 1,
   "id": "0597716d",
   "metadata": {},
   "outputs": [],
   "source": [
    "# Data\n",
    "\n",
    "female_students = ['anDrea', 'IreNE', 'IZAS', 'MaLVa', 'silvia', 'SONia']\n",
    "\n",
    "male_students = ['AlBERTO' , 'AlvarO', 'DaRIo', 'GERVAsio', 'GoN', 'IVAN', 'Jorge', 'MereLLo', \n",
    "                 'Mesas', 'MohaMED Salah', ' Montes ', 'Nels0n', 'Pablo A Secas', 'SantiAGO', 'joSete', 'TONi']"
   ]
  },
  {
   "cell_type": "code",
   "execution_count": 2,
   "id": "09d391c0",
   "metadata": {},
   "outputs": [
    {
     "name": "stdout",
     "output_type": "stream",
     "text": [
      "Please, enter a new value: Andrea\n",
      "Please, enter a new value: Malva\n",
      "['Andrea', 'Irene', 'Izaskun', 'Malva', 'Silvia', 'Sonia']\n"
     ]
    }
   ],
   "source": [
    "# Procedural\n",
    "\n",
    "new_value = input('Please, enter a new value: ') \n",
    "female_students[0] = new_value\n",
    "\n",
    "female_students[1] = female_students[1].capitalize()\n",
    "\n",
    "female_students[2] = 'Izaskun'\n",
    "\n",
    "new_value = input('Please, enter a new value: ') \n",
    "\n",
    "female_students[3] = new_value\n",
    "female_students[4] = female_students[4].capitalize()\n",
    "\n",
    "female_students[5] = 'Sonia'\n",
    "\n",
    "print(female_students)"
   ]
  },
  {
   "cell_type": "code",
   "execution_count": 4,
   "id": "bafdd708",
   "metadata": {},
   "outputs": [],
   "source": [
    "# Functional\n",
    "female_students = ['anDrea', 'IreNE', 'IZAS', 'MaLVa', 'silvia', 'SONia']\n",
    "\n",
    "male_students = ['AlBERTO' , 'AlvarO', 'DaRIo', 'GERVAsio', 'GoN', 'IVAN', 'Jorge', 'MereLLo', \n",
    "                 'Mesas', 'MohaMED Salah', ' Montes ', 'Nels0n', 'Pablo A Secas', 'SantiAGO', 'joSete', 'TONi']\n",
    "\n",
    "def replace_value(item_list, item_pos):\n",
    "    new_value = input('Please, enter a new value: ')\n",
    "    item_list[item_pos] = new_value\n",
    "    return f'You have changed the item at the position {item_pos} of the list'"
   ]
  },
  {
   "cell_type": "code",
   "execution_count": 5,
   "id": "a992460e",
   "metadata": {},
   "outputs": [
    {
     "name": "stdout",
     "output_type": "stream",
     "text": [
      "Please, enter a new value: xxx\n",
      "['xxx', 'IreNE', 'IZAS', 'MaLVa', 'silvia', 'SONia']\n"
     ]
    }
   ],
   "source": [
    "replace_value(female_students, 0)\n",
    "print(female_students)"
   ]
  },
  {
   "cell_type": "code",
   "execution_count": null,
   "id": "12d363de",
   "metadata": {},
   "outputs": [],
   "source": []
  },
  {
   "cell_type": "code",
   "execution_count": 7,
   "id": "5314c1ff",
   "metadata": {},
   "outputs": [],
   "source": [
    "female_students = ['anDrea', 'IreNE', 'IZAS', 'MaLVa', 'silvia', 'SONia']\n",
    "\n",
    "male_students = ['AlBERTO' , 'AlvarO', 'DaRIo', 'GERVAsio', 'GoN', 'IVAN', 'Jorge', 'MereLLo', \n",
    "                 'Mesas', 'MohaMED Salah', ' Montes ', 'Nels0n', 'Pablo A Secas', 'SantiAGO', 'joSete', 'TONi']\n",
    "\n",
    "def svenska_namn(item_list, item_pos):\n",
    "    svenska_namn = item_list[item_pos]\n",
    "    return f'{svenska_namn}son'"
   ]
  },
  {
   "cell_type": "code",
   "execution_count": 8,
   "id": "54462c47",
   "metadata": {},
   "outputs": [
    {
     "data": {
      "text/plain": [
       "['anDreason', 'IreNEson', 'IZASson', 'MaLVason', 'silviason', 'SONiason']"
      ]
     },
     "execution_count": 8,
     "metadata": {},
     "output_type": "execute_result"
    }
   ],
   "source": [
    "[svenska_namn(female_students, item) for item in range(len(female_students))]"
   ]
  },
  {
   "cell_type": "markdown",
   "id": "3c91e180",
   "metadata": {},
   "source": [
    "---"
   ]
  },
  {
   "cell_type": "markdown",
   "id": "5598d6b8",
   "metadata": {},
   "source": [
    "__Some considerations__"
   ]
  },
  {
   "cell_type": "code",
   "execution_count": 46,
   "id": "4ea373c5",
   "metadata": {},
   "outputs": [],
   "source": [
    "# Global vs. Local variables\n",
    "\n",
    "a = 1\n",
    "\n",
    "def sum_function_global(b):\n",
    "    global a   # bad idea...\n",
    "    a = a + b\n",
    "    return a"
   ]
  },
  {
   "cell_type": "code",
   "execution_count": 47,
   "id": "83cf3704",
   "metadata": {},
   "outputs": [
    {
     "data": {
      "text/plain": [
       "9"
      ]
     },
     "execution_count": 47,
     "metadata": {},
     "output_type": "execute_result"
    }
   ],
   "source": [
    "sum_function_global(8)"
   ]
  },
  {
   "cell_type": "code",
   "execution_count": 38,
   "id": "c153d64a",
   "metadata": {},
   "outputs": [],
   "source": [
    "a = 1\n",
    "\n",
    "def sum_function_local(b):\n",
    "    c = a + b\n",
    "    return c"
   ]
  },
  {
   "cell_type": "code",
   "execution_count": 39,
   "id": "df62ea7e",
   "metadata": {},
   "outputs": [
    {
     "data": {
      "text/plain": [
       "9"
      ]
     },
     "execution_count": 39,
     "metadata": {},
     "output_type": "execute_result"
    }
   ],
   "source": [
    "sum_function_local(8)"
   ]
  },
  {
   "cell_type": "code",
   "execution_count": 17,
   "id": "012d380a",
   "metadata": {
    "scrolled": true
   },
   "outputs": [
    {
     "ename": "NameError",
     "evalue": "name 'c' is not defined",
     "output_type": "error",
     "traceback": [
      "\u001b[1;31m---------------------------------------------------------------------------\u001b[0m",
      "\u001b[1;31mNameError\u001b[0m                                 Traceback (most recent call last)",
      "\u001b[1;32mC:\\Users\\ALVARO~1\\AppData\\Local\\Temp/ipykernel_24236/2743823995.py\u001b[0m in \u001b[0;36m<module>\u001b[1;34m\u001b[0m\n\u001b[1;32m----> 1\u001b[1;33m \u001b[0mprint\u001b[0m\u001b[1;33m(\u001b[0m\u001b[0mc\u001b[0m\u001b[1;33m)\u001b[0m\u001b[1;33m\u001b[0m\u001b[1;33m\u001b[0m\u001b[0m\n\u001b[0m",
      "\u001b[1;31mNameError\u001b[0m: name 'c' is not defined"
     ]
    }
   ],
   "source": [
    "print(c)"
   ]
  },
  {
   "cell_type": "markdown",
   "id": "f46eec45",
   "metadata": {},
   "source": [
    "---"
   ]
  },
  {
   "cell_type": "code",
   "execution_count": 53,
   "id": "06857471",
   "metadata": {},
   "outputs": [],
   "source": [
    "# Mutability\n",
    "\n",
    "import random\n",
    "\n",
    "a = []\n",
    "\n",
    "def append_random(l=[3, 4, 5]):\n",
    "    print(a)\n",
    "    random_int = random.randint(1, 20)\n",
    "    l.append(random_int)\n",
    "    print(l)\n",
    "    print('be careful with mutability and default arguments')"
   ]
  },
  {
   "cell_type": "code",
   "execution_count": 54,
   "id": "1f4a0d2b",
   "metadata": {},
   "outputs": [
    {
     "name": "stdout",
     "output_type": "stream",
     "text": [
      "[]\n",
      "[3, 4, 5, 20]\n",
      "be careful with mutability and default arguments\n"
     ]
    }
   ],
   "source": [
    "append_random()"
   ]
  },
  {
   "cell_type": "markdown",
   "id": "80e10bc6",
   "metadata": {},
   "source": [
    "---"
   ]
  },
  {
   "cell_type": "code",
   "execution_count": null,
   "id": "0888352b",
   "metadata": {},
   "outputs": [],
   "source": [
    "# Undefined arguments (*args)\n",
    "\n",
    "def name_cleaner(*args):\n",
    "    return [name.capitalize() for name in args]"
   ]
  },
  {
   "cell_type": "code",
   "execution_count": null,
   "id": "eb4c8981",
   "metadata": {},
   "outputs": [],
   "source": [
    "name_cleaner('aDJA', 'PABLO', 'TRump')"
   ]
  },
  {
   "cell_type": "code",
   "execution_count": null,
   "id": "8521d0f9",
   "metadata": {},
   "outputs": [],
   "source": [
    "name_lst = ['aDJA', 'PABLO', 'TRump']\n",
    "name_cleaner(*name_lst)"
   ]
  },
  {
   "cell_type": "markdown",
   "id": "c2a9acbb",
   "metadata": {},
   "source": [
    "---"
   ]
  },
  {
   "cell_type": "code",
   "execution_count": 66,
   "id": "083aed69",
   "metadata": {},
   "outputs": [],
   "source": [
    "# Undefined arguments with key (**kwargs)\n",
    "\n",
    "def fullname_cleaner(**kwargs):\n",
    "    return kwargs"
   ]
  },
  {
   "cell_type": "code",
   "execution_count": 67,
   "id": "6078505b",
   "metadata": {},
   "outputs": [
    {
     "data": {
      "text/plain": [
       "{'name': 'Napoleon', 'surname': 'Bonaparte'}"
      ]
     },
     "execution_count": 67,
     "metadata": {},
     "output_type": "execute_result"
    }
   ],
   "source": [
    "fullname_cleaner(name='Napoleon', surname='Bonaparte')"
   ]
  },
  {
   "cell_type": "code",
   "execution_count": 68,
   "id": "e4bffd43",
   "metadata": {},
   "outputs": [
    {
     "data": {
      "text/plain": [
       "{'names': ['Gengis', 'Clint', 'Marlon'],\n",
       " 'surnames': ['Kahn', 'Eastwood', 'Brando']}"
      ]
     },
     "execution_count": 68,
     "metadata": {},
     "output_type": "execute_result"
    }
   ],
   "source": [
    "fullname_cleaner(names=['Gengis', 'Clint', 'Marlon'], surnames=['Kahn', 'Eastwood', 'Brando'])"
   ]
  },
  {
   "cell_type": "code",
   "execution_count": 69,
   "id": "9c688d9c",
   "metadata": {},
   "outputs": [],
   "source": [
    "def fullname_cleaner(**kwargs):\n",
    "    clean_name = kwargs['name'].capitalize()\n",
    "    clean_surname = kwargs['surname'].capitalize()\n",
    "    return f'{clean_name} {clean_surname}'"
   ]
  },
  {
   "cell_type": "code",
   "execution_count": 70,
   "id": "76bf6f59",
   "metadata": {},
   "outputs": [
    {
     "data": {
      "text/plain": [
       "'Donald Trump'"
      ]
     },
     "execution_count": 70,
     "metadata": {},
     "output_type": "execute_result"
    }
   ],
   "source": [
    "fullname_cleaner(name='dONALD', surname='TRUMP')"
   ]
  },
  {
   "cell_type": "markdown",
   "id": "a9692c3b",
   "metadata": {},
   "source": [
    "---"
   ]
  },
  {
   "cell_type": "code",
   "execution_count": 71,
   "id": "da514639",
   "metadata": {},
   "outputs": [],
   "source": [
    "def name_cleaner(*args, queja):\n",
    "    return [ x.capitalize()+queja for x in args]"
   ]
  },
  {
   "cell_type": "code",
   "execution_count": 72,
   "id": "2dff609d",
   "metadata": {},
   "outputs": [
    {
     "data": {
      "text/plain": [
       "['Andrea ya no puede más',\n",
       " 'Irene ya no puede más',\n",
       " 'Izas ya no puede más',\n",
       " 'Malva ya no puede más',\n",
       " 'Silvia ya no puede más',\n",
       " 'Sonia ya no puede más']"
      ]
     },
     "execution_count": 72,
     "metadata": {},
     "output_type": "execute_result"
    }
   ],
   "source": [
    "name_cleaner('anDrea', 'IreNE', 'IZAS', 'MaLVa', 'silvia', 'SONia', queja= \" ya no puede más\")"
   ]
  },
  {
   "cell_type": "markdown",
   "id": "ded39dfa",
   "metadata": {},
   "source": [
    "__OOP for the next episode...__"
   ]
  }
 ],
 "metadata": {
  "kernelspec": {
   "display_name": "Python [conda env:ironhack]",
   "language": "python",
   "name": "conda-env-ironhack-py"
  },
  "language_info": {
   "codemirror_mode": {
    "name": "ipython",
    "version": 3
   },
   "file_extension": ".py",
   "mimetype": "text/x-python",
   "name": "python",
   "nbconvert_exporter": "python",
   "pygments_lexer": "ipython3",
   "version": "3.7.11"
  }
 },
 "nbformat": 4,
 "nbformat_minor": 5
}
