{
 "cells": [
  {
   "cell_type": "markdown",
   "id": "06c357bb",
   "metadata": {},
   "source": [
    "# Object Oriented Programming\n",
    "\n",
    "- The `__init__()` method\n",
    "\n",
    "- Custom methods\n",
    "\n",
    "- Inheritance"
   ]
  },
  {
   "cell_type": "code",
   "execution_count": null,
   "id": "36579b06",
   "metadata": {},
   "outputs": [],
   "source": [
    "?object"
   ]
  },
  {
   "cell_type": "code",
   "execution_count": 9,
   "id": "082ac7ed",
   "metadata": {},
   "outputs": [],
   "source": [
    "import random"
   ]
  },
  {
   "cell_type": "code",
   "execution_count": 10,
   "id": "ce8c8521",
   "metadata": {},
   "outputs": [],
   "source": [
    "#creamos la clase, que es lo mismo que DEFINIR EL OBJETO\n",
    "#el objeto lo crearemos más adelante\n",
    "class Dog(object):   # classes are usually capitalized.\n",
    "    \n",
    "    GENDER = ['male', 'female']\n",
    "    \n",
    "    def __init__(self, #self hace referencia a la instancia\n",
    "                 name, \n",
    "                 breed, \n",
    "                 age, \n",
    "                 coat, \n",
    "                 weight):\n",
    "        \n",
    "        self.name = name\n",
    "        self.breed = breed\n",
    "        self.age = age\n",
    "        self.coat = coat\n",
    "        self.weight = weight\n",
    "        self.gender = random.choice(self.GENDER)\n",
    "        self.genus = 'Canis'"
   ]
  },
  {
   "cell_type": "code",
   "execution_count": 11,
   "id": "5a3d0113",
   "metadata": {},
   "outputs": [],
   "source": [
    "#creamos el objeto \"penny\"\n",
    "penny = Dog(name = 'Penny', \n",
    "            breed = 'Pug', \n",
    "            age = 10, \n",
    "            coat = 'fawn',\n",
    "            weight = '8 kg')"
   ]
  },
  {
   "cell_type": "code",
   "execution_count": 12,
   "id": "c4894759",
   "metadata": {},
   "outputs": [],
   "source": [
    "pancho = Dog(name = 'pancho', \n",
    "            breed = 'boder collie', \n",
    "            age = 20, \n",
    "            coat = 'fawn',\n",
    "            weight = '18 kg')"
   ]
  },
  {
   "cell_type": "code",
   "execution_count": 13,
   "id": "d05484cb",
   "metadata": {},
   "outputs": [
    {
     "data": {
      "text/plain": [
       "'Penny'"
      ]
     },
     "execution_count": 13,
     "metadata": {},
     "output_type": "execute_result"
    }
   ],
   "source": [
    "penny.name #asi llamamos a un atributo"
   ]
  },
  {
   "cell_type": "code",
   "execution_count": 14,
   "id": "ec9765f8",
   "metadata": {},
   "outputs": [
    {
     "name": "stdout",
     "output_type": "stream",
     "text": [
      "<class '__main__.Dog'>\n"
     ]
    }
   ],
   "source": [
    "print(type(penny))"
   ]
  },
  {
   "cell_type": "markdown",
   "id": "9240fdbe",
   "metadata": {},
   "source": [
    "---"
   ]
  },
  {
   "cell_type": "code",
   "execution_count": 15,
   "id": "70c7e7b2",
   "metadata": {},
   "outputs": [
    {
     "data": {
      "text/plain": [
       "['Iron', 'hack']"
      ]
     },
     "execution_count": 15,
     "metadata": {},
     "output_type": "execute_result"
    }
   ],
   "source": [
    "# Methods: you've been using them all the time!!!\n",
    "\n",
    "string = 'Iron.hack'\n",
    "string = string.split('.')\n",
    "string"
   ]
  },
  {
   "cell_type": "code",
   "execution_count": 197,
   "id": "603f0703",
   "metadata": {},
   "outputs": [],
   "source": [
    "# Now the dog must do things\n",
    "\n",
    "class Dog(object):   # classes are usually capitalized.\n",
    "    \n",
    "    GENDER = ['male', 'female']\n",
    "    \n",
    "    def __init__(self, name, breed, age, coat, weight):\n",
    "        \n",
    "        self.name = name\n",
    "        self.breed = breed\n",
    "        self.age = age\n",
    "        self.coat = coat\n",
    "        self.weight = weight\n",
    "        self.gender = random.choice(self.GENDER)\n",
    "        self.genus = 'Canis'\n",
    "        \n",
    "    def eat(self, amount): #siempre debemos de poner self\n",
    "        weight_after_food = int(self.weight.split(' ')[0]) + amount\n",
    "        caca = amount*0.9\n",
    "        final_weight = weight_after_food - caca\n",
    "        self.weight = f'{round(final_weight , 2)} kg' \n",
    "        return f'{self.name} is getting fat and now weights {self.weight}'\n",
    "    \n",
    "  #  def shit(self):\n",
    "  #      pass"
   ]
  },
  {
   "cell_type": "code",
   "execution_count": 198,
   "id": "eee926e3",
   "metadata": {},
   "outputs": [],
   "source": [
    "penny = Dog(name = 'Penny', \n",
    "            breed = 'Pug', \n",
    "            age = 10, \n",
    "            coat = 'fawn',\n",
    "            weight = '8 kg')"
   ]
  },
  {
   "cell_type": "code",
   "execution_count": 232,
   "id": "4404ca7c",
   "metadata": {},
   "outputs": [
    {
     "data": {
      "text/plain": [
       "'Penny is getting fat and now weights 22.5 kg'"
      ]
     },
     "execution_count": 232,
     "metadata": {},
     "output_type": "execute_result"
    }
   ],
   "source": [
    "# con esto alteramos el objeto:\n",
    "penny.eat(25)"
   ]
  },
  {
   "cell_type": "code",
   "execution_count": 233,
   "id": "164924ea",
   "metadata": {},
   "outputs": [
    {
     "data": {
      "text/plain": [
       "'22.5 kg'"
      ]
     },
     "execution_count": 233,
     "metadata": {},
     "output_type": "execute_result"
    }
   ],
   "source": [
    "penny.weight"
   ]
  },
  {
   "cell_type": "code",
   "execution_count": 229,
   "id": "e5b452dd",
   "metadata": {},
   "outputs": [
    {
     "data": {
      "text/plain": [
       "'20 kg'"
      ]
     },
     "execution_count": 229,
     "metadata": {},
     "output_type": "execute_result"
    }
   ],
   "source": [
    "penny.weight = '20 kg'\n",
    "penny.weight"
   ]
  },
  {
   "cell_type": "code",
   "execution_count": 211,
   "id": "63a3c2f1",
   "metadata": {},
   "outputs": [
    {
     "data": {
      "text/plain": [
       "{'name': 'Penny',\n",
       " 'breed': 'Pug',\n",
       " 'age': 10,\n",
       " 'coat': 'fawn',\n",
       " 'weight': '10.5 kg',\n",
       " 'gender': 'male',\n",
       " 'genus': 'Canis'}"
      ]
     },
     "execution_count": 211,
     "metadata": {},
     "output_type": "execute_result"
    }
   ],
   "source": [
    "a = penny.__dict__\n",
    "a\n"
   ]
  },
  {
   "cell_type": "code",
   "execution_count": 210,
   "id": "ce6452c9",
   "metadata": {},
   "outputs": [
    {
     "name": "stdout",
     "output_type": "stream",
     "text": [
      "{'__module__': '__main__', 'GENDER': ['male', 'female'], '__init__': <function Dog.__init__ at 0x0000022013B43828>, 'eat': <function Dog.eat at 0x0000022013B435E8>, '__dict__': <attribute '__dict__' of 'Dog' objects>, '__weakref__': <attribute '__weakref__' of 'Dog' objects>, '__doc__': None}\n",
      "\n",
      "{'name': 'Penny', 'breed': 'Pug', 'age': 10, 'coat': 'fawn', 'weight': '10.5 kg', 'gender': 'male', 'genus': 'Canis'}\n",
      "\n",
      "True\n",
      "\n"
     ]
    }
   ],
   "source": [
    "# Some useful methods...\n",
    "\n",
    "print(Dog.__dict__, end='\\n\\n')\n",
    "print(penny.__dict__, end='\\n\\n')\n",
    "print(isinstance(penny, Dog), end='\\n\\n')\n"
   ]
  },
  {
   "cell_type": "markdown",
   "id": "1dd9d1d9",
   "metadata": {},
   "source": [
    "---"
   ]
  },
  {
   "cell_type": "code",
   "execution_count": 225,
   "id": "57d57cf9",
   "metadata": {},
   "outputs": [],
   "source": [
    "# Inheritance --> añadiendo la clase dentro de otra\n",
    "\n",
    "class Cat(Dog):   # share attributes with Dogs.\n",
    "    def __init__(self, name, breed, age, coat, weight, species):\n",
    "        super().__init__(name, breed, age, coat, weight)\n",
    "        self.species = 'Felis'"
   ]
  },
  {
   "cell_type": "code",
   "execution_count": 223,
   "id": "6bbecb03",
   "metadata": {},
   "outputs": [],
   "source": [
    "tigre = Cat(name = 'Tigre', \n",
    "            breed = 'European', \n",
    "            age = 16, \n",
    "            coat = 'ticked tabby',\n",
    "            weight = '4 kg', \n",
    "            species = 'Felis catus')"
   ]
  },
  {
   "cell_type": "code",
   "execution_count": 224,
   "id": "7ef70ada",
   "metadata": {},
   "outputs": [
    {
     "data": {
      "text/plain": [
       "'male'"
      ]
     },
     "execution_count": 224,
     "metadata": {},
     "output_type": "execute_result"
    }
   ],
   "source": [
    "tigre.gender"
   ]
  },
  {
   "cell_type": "markdown",
   "id": "6069f069",
   "metadata": {},
   "source": [
    "### Now let's try to build our first `Class` (https://www.codewars.com/kata/5a03af9606d5b65ff7000009/train/python)"
   ]
  },
  {
   "cell_type": "code",
   "execution_count": 88,
   "id": "46e271b8",
   "metadata": {},
   "outputs": [],
   "source": [
    "class Deportista(object):\n",
    "    def __init__(self, name, altura, peso):\n",
    "        self.name = name\n",
    "        self.altura = altura\n",
    "        self.peso = peso\n",
    "        self.fuerza = \"mucha\"\n",
    "\n",
    "alvaro = Deportista(name=\"alvaro\", altura = \"175\", peso=\"75\")\n",
    "        "
   ]
  },
  {
   "cell_type": "code",
   "execution_count": null,
   "id": "2c04349c",
   "metadata": {},
   "outputs": [],
   "source": []
  }
 ],
 "metadata": {
  "kernelspec": {
   "display_name": "Python [conda env:ironhack]",
   "language": "python",
   "name": "conda-env-ironhack-py"
  },
  "language_info": {
   "codemirror_mode": {
    "name": "ipython",
    "version": 3
   },
   "file_extension": ".py",
   "mimetype": "text/x-python",
   "name": "python",
   "nbconvert_exporter": "python",
   "pygments_lexer": "ipython3",
   "version": "3.7.11"
  }
 },
 "nbformat": 4,
 "nbformat_minor": 5
}
