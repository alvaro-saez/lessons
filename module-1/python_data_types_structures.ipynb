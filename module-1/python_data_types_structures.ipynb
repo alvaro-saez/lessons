{
 "cells": [
  {
   "cell_type": "markdown",
   "id": "74222d4c",
   "metadata": {},
   "source": [
    "# Data Types\n",
    "\n",
    "- __String__\n",
    "    \n",
    "- __Integer__\n",
    "    \n",
    "- __Float__\n",
    "\n",
    "- __Boolean__"
   ]
  },
  {
   "cell_type": "code",
   "execution_count": 7,
   "id": "00de4c17",
   "metadata": {},
   "outputs": [
    {
     "name": "stdout",
     "output_type": "stream",
     "text": [
      "iron\n",
      "<class 'str'>\n"
     ]
    }
   ],
   "source": [
    "# String\n",
    "\n",
    "var = 'ironhack'\n",
    "#var = str(1)\n",
    "var = var[:4]\n",
    "\n",
    "print(var)\n",
    "print(type(var))"
   ]
  },
  {
   "cell_type": "code",
   "execution_count": 2,
   "id": "b585d9ea",
   "metadata": {},
   "outputs": [
    {
     "name": "stdout",
     "output_type": "stream",
     "text": [
      "<class 'int'>\n",
      "<class 'int'>\n",
      "<class 'float'>\n",
      "<class 'int'>\n",
      "<class 'float'>\n"
     ]
    }
   ],
   "source": [
    "# integer and float\n",
    "\n",
    "x = 10\n",
    "y = 2\n",
    "z = x / y\n",
    "i = int(z)\n",
    "f = float(i)\n",
    "\n",
    "print(type(x))\n",
    "print(type(y))\n",
    "print(type(z))\n",
    "print(type(i))\n",
    "print(type(f))"
   ]
  },
  {
   "cell_type": "code",
   "execution_count": 13,
   "id": "302fa4d1",
   "metadata": {},
   "outputs": [
    {
     "name": "stdout",
     "output_type": "stream",
     "text": [
      "True\n",
      "<class 'bool'>\n"
     ]
    }
   ],
   "source": [
    "#bvar = True\n",
    "#bvar = bool()\n",
    "bvar = bool(1)\n",
    "#bvar = bool(0)\n",
    "#bvar = bool('1')\n",
    "bvar = bool('0')\n",
    "#bvar = bool('0') * 8\n",
    "\n",
    "print(bvar)\n",
    "print(type(bvar))"
   ]
  },
  {
   "cell_type": "markdown",
   "id": "1c25590f",
   "metadata": {},
   "source": [
    "# Data Structures\n",
    "\n",
    "- __Tuple__\n",
    "    \n",
    "- __List__\n",
    "    \n",
    "- __Dict__\n",
    "\n",
    "- __Set__"
   ]
  },
  {
   "cell_type": "code",
   "execution_count": 15,
   "id": "0ee5a3c7",
   "metadata": {},
   "outputs": [
    {
     "name": "stdout",
     "output_type": "stream",
     "text": [
      "<class 'tuple'>\n"
     ]
    }
   ],
   "source": [
    "# Tuples are immutables\n",
    "\n",
    "my_tuple = (1, '1', True, ['dog', 'cat'])\n",
    "\n",
    "print(type(my_tuple))\n",
    "#print(my_tuple[2])\n",
    "#print(type(my_tuple[3]))\n",
    "#print(my_tuple.count(0))\n",
    "#print(my_tuple.index(1))"
   ]
  },
  {
   "cell_type": "code",
   "execution_count": 16,
   "id": "270f4d77",
   "metadata": {
    "scrolled": true
   },
   "outputs": [
    {
     "name": "stdout",
     "output_type": "stream",
     "text": [
      "<class 'list'>\n",
      "True\n",
      "<class 'tuple'>\n",
      "0\n",
      "0\n"
     ]
    }
   ],
   "source": [
    "# lists or arrays\n",
    "\n",
    "my_array = [1, '1', True, ('dog', 'cat')]\n",
    "\n",
    "print(type(my_array))\n",
    "print(my_array[2])\n",
    "print(type(my_array[3]))\n",
    "print(my_array.count(0))\n",
    "print(my_array.index(1))"
   ]
  },
  {
   "cell_type": "code",
   "execution_count": 40,
   "id": "a8efd3eb",
   "metadata": {},
   "outputs": [
    {
     "data": {
      "text/plain": [
       "2"
      ]
     },
     "execution_count": 40,
     "metadata": {},
     "output_type": "execute_result"
    }
   ],
   "source": [
    "my_array = ['1', 'dog','dog', 'cat']\n",
    "\n",
    "my_array.count('dog')\n"
   ]
  },
  {
   "cell_type": "code",
   "execution_count": 43,
   "id": "ee4da235",
   "metadata": {},
   "outputs": [
    {
     "name": "stdout",
     "output_type": "stream",
     "text": [
      "['1', 'dog', 'cat', ['platypus', 'tardigrade']]\n",
      "['1', 'dog', 'cat', ['platypus', 'tardigrade'], 'platypus', 'tardigrade']\n",
      "['1', 'platypus', 'dog', 'cat', ['platypus', 'tardigrade'], 'platypus', 'tardigrade']\n",
      "['1', 'dog', 'cat', ['platypus', 'tardigrade'], 'platypus', 'tardigrade']\n",
      "['1', 'cat', ['platypus', 'tardigrade'], 'platypus', 'tardigrade']\n",
      "['tardigrade', 'platypus', ['platypus', 'tardigrade'], 'cat', '1']\n"
     ]
    }
   ],
   "source": [
    "# lists mutation methods\n",
    "\n",
    "my_array = ['1', 'dog', 'cat']\n",
    "\n",
    "my_array.append(['platypus', 'tardigrade'])\n",
    "print(my_array)\n",
    "my_array.extend(['platypus', 'tardigrade'])\n",
    "print(my_array)\n",
    "my_array.insert(1,'platypus')\n",
    "print(my_array)\n",
    "my_array.pop(1)\n",
    "print(my_array)\n",
    "my_array.remove(\"dog\")\n",
    "print(my_array)\n",
    "my_array.reverse()\n",
    "print(my_array)\n",
    "#my_array.sort()\n",
    "#my_array.clear()\n",
    "my_list = my_array.copy()\n"
   ]
  },
  {
   "cell_type": "code",
   "execution_count": null,
   "id": "af97d466",
   "metadata": {},
   "outputs": [],
   "source": [
    "# Dicts\n",
    "\n",
    "my_dict = {'key1': 'value', 'key2': 1981, 'key3': ['platypus', 'tardigrade']}\n",
    "\n",
    "#print(my_dict['key1'])\n",
    "#my_dict['key1'] = 'ironhack'\n",
    "\n",
    "print(len(my_dict))\n",
    "print(my_dict.keys())\n",
    "print(my_dict.values())\n",
    "my_dict"
   ]
  },
  {
   "cell_type": "code",
   "execution_count": null,
   "id": "3bccd749",
   "metadata": {},
   "outputs": [],
   "source": [
    "for i in my_dict.keys():\n",
    "     print(i)\n",
    "        \n",
    "for i in my_dict.values():\n",
    "    print(i)\n",
    "    \n",
    "for k, v in my_dict.items():\n",
    "     print(k, v)"
   ]
  },
  {
   "cell_type": "code",
   "execution_count": null,
   "id": "e5254239",
   "metadata": {},
   "outputs": [],
   "source": [
    "# Sets\n",
    "\n",
    "girl_names = set(['Mary', 'Madison', 'Logan', 'Joanna', 'Madison', 'Logan', 'Joanna'])\n",
    "boy_names = set(['John', 'Alexander', 'Logan', 'Madison', 'Alexander', 'Logan'])\n",
    "print(girl_names)\n",
    "print(boy_names)"
   ]
  },
  {
   "cell_type": "code",
   "execution_count": null,
   "id": "118518ce",
   "metadata": {},
   "outputs": [],
   "source": [
    "# Sets intersection\n",
    "unisex_names = girl_names.intersection(boy_names)\n",
    "print(unisex_names)"
   ]
  },
  {
   "cell_type": "code",
   "execution_count": null,
   "id": "7c21b7cb",
   "metadata": {},
   "outputs": [],
   "source": [
    "# Sets union\n",
    "all_names = boy_names.union(girl_names)\n",
    "print(all_names)"
   ]
  },
  {
   "cell_type": "code",
   "execution_count": null,
   "id": "a566a1e2",
   "metadata": {},
   "outputs": [],
   "source": [
    "# Sets filtering\n",
    "boy_only_names = boy_names - girl_names\n",
    "print(boy_only_names)"
   ]
  }
 ],
 "metadata": {
  "kernelspec": {
   "display_name": "Python [conda env:ironhack]",
   "language": "python",
   "name": "conda-env-ironhack-py"
  },
  "language_info": {
   "codemirror_mode": {
    "name": "ipython",
    "version": 3
   },
   "file_extension": ".py",
   "mimetype": "text/x-python",
   "name": "python",
   "nbconvert_exporter": "python",
   "pygments_lexer": "ipython3",
   "version": "3.7.11"
  }
 },
 "nbformat": 4,
 "nbformat_minor": 5
}
