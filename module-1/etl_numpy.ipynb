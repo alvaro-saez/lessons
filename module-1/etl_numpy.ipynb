{
 "cells": [
  {
   "cell_type": "markdown",
   "id": "d3783308",
   "metadata": {},
   "source": [
    "# NumPy (Numerical Python)\n",
    "\n",
    "_It’s the universal standard for working with numerical data in Python!!!_\n",
    "\n",
    "NumPy is the fundamental package for scientific computing in Python with a __large collection of high-level mathematical functions (i.e.: METHODS)__ to operate on these arrays. It is a Python library that provides a __multidimensional array OBJECT__.\n",
    "\n",
    "https://numpy.org/doc/stable/"
   ]
  },
  {
   "cell_type": "code",
   "execution_count": 26,
   "id": "651ead57",
   "metadata": {},
   "outputs": [
    {
     "name": "stdout",
     "output_type": "stream",
     "text": [
      "Collecting package metadata (current_repodata.json): ...working... done\n",
      "Solving environment: ...working... done\n",
      "\n",
      "# All requested packages already installed.\n",
      "\n"
     ]
    }
   ],
   "source": [
    "#INSTALACION\n",
    "#si ponemos \"!\" podemos instalar \"conda install numpy\" en vez de usar la terminal\n",
    "#\"!\" te permite ejecutar una linea de la terminal\n",
    "!conda install numpy\n",
    "#!conda install numpy=1.20.2"
   ]
  },
  {
   "cell_type": "code",
   "execution_count": 27,
   "id": "5a47a76e",
   "metadata": {},
   "outputs": [
    {
     "name": "stdout",
     "output_type": "stream",
     "text": [
      "1.21.2\n"
     ]
    },
    {
     "data": {
      "text/plain": [
       "module"
      ]
     },
     "execution_count": 27,
     "metadata": {},
     "output_type": "execute_result"
    }
   ],
   "source": [
    "# import library and assign an alias\n",
    "\n",
    "import numpy as np\n",
    "print(np.__version__)\n",
    "type(np)"
   ]
  },
  {
   "cell_type": "markdown",
   "id": "6eaa89e4",
   "metadata": {},
   "source": [
    "Numpy API Reference: https://numpy.org/doc/stable/reference/index.html#\n",
    "\n",
    "---"
   ]
  },
  {
   "cell_type": "markdown",
   "id": "0a765c5e",
   "metadata": {},
   "source": [
    "__Array Object Attributes__"
   ]
  },
  {
   "cell_type": "code",
   "execution_count": 28,
   "id": "3ad380fb",
   "metadata": {
    "scrolled": true
   },
   "outputs": [
    {
     "name": "stdout",
     "output_type": "stream",
     "text": [
      "[[1 2 3]\n",
      " [4 5 6]]\n",
      "\n",
      "<class 'numpy.ndarray'>\n",
      "2\n",
      "(2, 3)\n",
      "6\n",
      "int32\n",
      "4\n"
     ]
    }
   ],
   "source": [
    "# ndarray object attributes (https://numpy.org/doc/stable/reference/arrays.ndarray.html#array-attributes)\n",
    "\n",
    "n_d_array = np.array([[1,2,3],[4,5,6]])\n",
    "\n",
    "print(n_d_array, end='\\n\\n')\n",
    "print(type(n_d_array))\n",
    "\n",
    "print(n_d_array.ndim)   # number of array dimensions\n",
    "print(n_d_array.shape)   # matrix's dimenssions size (i, j)\n",
    "print(n_d_array.size)   # data buffer (i.e.: number of elements in the array)\n",
    "\n",
    "print(n_d_array.dtype)   # https://numpy.org/doc/stable/reference/arrays.dtypes.html\n",
    "\n",
    "print(n_d_array.itemsize)   # length of one array element in bytes "
   ]
  },
  {
   "cell_type": "code",
   "execution_count": 29,
   "id": "ca9d9d0c",
   "metadata": {},
   "outputs": [
    {
     "name": "stdout",
     "output_type": "stream",
     "text": [
      "4\n"
     ]
    }
   ],
   "source": [
    "print(n_d_array.itemsize)   # length of one array element in bytes "
   ]
  },
  {
   "cell_type": "markdown",
   "id": "cd9c6ee3",
   "metadata": {},
   "source": [
    "Further reading about array objects: https://numpy.org/doc/stable/reference/arrays.html\n",
    "\n",
    "---"
   ]
  },
  {
   "cell_type": "markdown",
   "id": "9e51167d",
   "metadata": {},
   "source": [
    "__Array Object Methods__ (https://numpy.org/doc/stable/reference/arrays.ndarray.html#array-methods)"
   ]
  },
  {
   "cell_type": "code",
   "execution_count": 30,
   "id": "2774a4a0",
   "metadata": {},
   "outputs": [
    {
     "data": {
      "text/plain": [
       "array([[1, 2, 3],\n",
       "       [4, 5, 6]])"
      ]
     },
     "execution_count": 30,
     "metadata": {},
     "output_type": "execute_result"
    }
   ],
   "source": [
    "# Array conversion => .copy() --> Return a copy of the array.\n",
    "\n",
    "copy = n_d_array.copy()\n",
    "copy"
   ]
  },
  {
   "cell_type": "code",
   "execution_count": 31,
   "id": "05cc40cf",
   "metadata": {},
   "outputs": [
    {
     "data": {
      "text/plain": [
       "[[1, 2, 3], [4, 5, 6]]"
      ]
     },
     "execution_count": 31,
     "metadata": {},
     "output_type": "execute_result"
    }
   ],
   "source": [
    "# Array conversion => .tolist() --> Return the array as an a.ndim-levels deep nested list of Python scalars.\n",
    "\n",
    "py_list = n_d_array.tolist()\n",
    "py_list"
   ]
  },
  {
   "cell_type": "code",
   "execution_count": 32,
   "id": "c33d6cca",
   "metadata": {},
   "outputs": [
    {
     "data": {
      "text/plain": [
       "array([[8, 8, 8],\n",
       "       [8, 8, 8]])"
      ]
     },
     "execution_count": 32,
     "metadata": {},
     "output_type": "execute_result"
    }
   ],
   "source": [
    "# Array conversion => .fill() --> Fill the array with a scalar value.\n",
    "\n",
    "n_d_array.fill(8)\n",
    "n_d_array"
   ]
  },
  {
   "cell_type": "markdown",
   "id": "266242c3",
   "metadata": {},
   "source": [
    "---"
   ]
  },
  {
   "cell_type": "code",
   "execution_count": 33,
   "id": "4348847c",
   "metadata": {},
   "outputs": [
    {
     "data": {
      "text/plain": [
       "array([[8, 8],\n",
       "       [8, 8],\n",
       "       [8, 8]])"
      ]
     },
     "execution_count": 33,
     "metadata": {},
     "output_type": "execute_result"
    }
   ],
   "source": [
    "# Shape manipulation => .reshape() --> Returns an array containing the same data with a new shape.\n",
    "\n",
    "reshaped = n_d_array.reshape(3,2)\n",
    "reshaped"
   ]
  },
  {
   "cell_type": "code",
   "execution_count": 34,
   "id": "ac5929eb",
   "metadata": {},
   "outputs": [
    {
     "data": {
      "text/plain": [
       "array([[8, 8, 8],\n",
       "       [8, 8, 8]])"
      ]
     },
     "execution_count": 34,
     "metadata": {},
     "output_type": "execute_result"
    }
   ],
   "source": [
    "# Shape manipulation => .transpose() --> Returns a view of the array with axes transposed.\n",
    "\n",
    "transposed = reshaped.transpose()\n",
    "transposed"
   ]
  },
  {
   "cell_type": "code",
   "execution_count": 35,
   "id": "712df32b",
   "metadata": {},
   "outputs": [
    {
     "data": {
      "text/plain": [
       "array([8, 8, 8, 8, 8, 8])"
      ]
     },
     "execution_count": 35,
     "metadata": {},
     "output_type": "execute_result"
    }
   ],
   "source": [
    "# Shape manipulation => .flatten() --> Return a copy of the array collapsed into one dimension.\n",
    "\n",
    "flattened = n_d_array.flatten()\n",
    "flattened"
   ]
  },
  {
   "cell_type": "markdown",
   "id": "95261ef3",
   "metadata": {},
   "source": [
    "---"
   ]
  },
  {
   "cell_type": "code",
   "execution_count": 36,
   "id": "8a789225",
   "metadata": {},
   "outputs": [
    {
     "data": {
      "text/plain": [
       "8"
      ]
     },
     "execution_count": 36,
     "metadata": {},
     "output_type": "execute_result"
    }
   ],
   "source": [
    "# Calculation => .max() --> Return the maximum along a given axis.\n",
    "\n",
    "max_ = n_d_array.max()\n",
    "max_"
   ]
  },
  {
   "cell_type": "code",
   "execution_count": 37,
   "id": "e05bb453",
   "metadata": {},
   "outputs": [
    {
     "data": {
      "text/plain": [
       "array([8, 8, 8])"
      ]
     },
     "execution_count": 37,
     "metadata": {},
     "output_type": "execute_result"
    }
   ],
   "source": [
    "#por eje\n",
    "max_ = n_d_array.max(axis=0)\n",
    "max_"
   ]
  },
  {
   "cell_type": "code",
   "execution_count": 38,
   "id": "1e03f0e5",
   "metadata": {},
   "outputs": [
    {
     "data": {
      "text/plain": [
       "0"
      ]
     },
     "execution_count": 38,
     "metadata": {},
     "output_type": "execute_result"
    }
   ],
   "source": [
    "# Calculation => .max( --> Returns the indices of the maximum values along an axis.\n",
    "\n",
    "argmax_ = n_d_array.argmax()\n",
    "argmax_"
   ]
  },
  {
   "cell_type": "code",
   "execution_count": 39,
   "id": "bfe39463",
   "metadata": {},
   "outputs": [
    {
     "data": {
      "text/plain": [
       "array([0, 0, 0], dtype=int64)"
      ]
     },
     "execution_count": 39,
     "metadata": {},
     "output_type": "execute_result"
    }
   ],
   "source": [
    "#por eje\n",
    "argmax_ = n_d_array.argmax(axis=0)\n",
    "argmax_"
   ]
  },
  {
   "cell_type": "code",
   "execution_count": 40,
   "id": "c336f6f4",
   "metadata": {},
   "outputs": [
    {
     "data": {
      "text/plain": [
       "48"
      ]
     },
     "execution_count": 40,
     "metadata": {},
     "output_type": "execute_result"
    }
   ],
   "source": [
    "# Calculation => .sum() --> Sum of array elements over a given axis.\n",
    "\n",
    "sum_ = n_d_array.sum()\n",
    "sum_"
   ]
  },
  {
   "cell_type": "markdown",
   "id": "4b0b88ba",
   "metadata": {},
   "source": [
    "---"
   ]
  },
  {
   "cell_type": "markdown",
   "id": "b102d2b6",
   "metadata": {},
   "source": [
    "__Array creation routines__"
   ]
  },
  {
   "cell_type": "code",
   "execution_count": 41,
   "id": "fb4659eb",
   "metadata": {},
   "outputs": [
    {
     "data": {
      "text/plain": [
       "array([2, 3, 4, 5, 6, 7])"
      ]
     },
     "execution_count": 41,
     "metadata": {},
     "output_type": "execute_result"
    }
   ],
   "source": [
    "# numpy.arange() --> Return evenly spaced values within a given interval.\n",
    "\n",
    "array_range = np.arange(2,8)\n",
    "array_range"
   ]
  },
  {
   "cell_type": "code",
   "execution_count": 42,
   "id": "aa60a273",
   "metadata": {},
   "outputs": [
    {
     "data": {
      "text/plain": [
       "array([[1., 1., 1., 1., 1., 1.],\n",
       "       [1., 1., 1., 1., 1., 1.]])"
      ]
     },
     "execution_count": 42,
     "metadata": {},
     "output_type": "execute_result"
    }
   ],
   "source": [
    "# numpy.ones() --> Return a new array of given shape and type, filled with ones.\n",
    "\n",
    "ones_array = np.ones((2,6))\n",
    "ones_array\n",
    "#pone un punto después de 1 pq es un float"
   ]
  },
  {
   "cell_type": "code",
   "execution_count": 43,
   "id": "3d788c72",
   "metadata": {},
   "outputs": [
    {
     "data": {
      "text/plain": [
       "array([[0., 0., 0., 0., 0., 0., 0.],\n",
       "       [0., 0., 0., 0., 0., 0., 0.]])"
      ]
     },
     "execution_count": 43,
     "metadata": {},
     "output_type": "execute_result"
    }
   ],
   "source": [
    "# numpy.zeros() --> Return a new array of given shape and type, filled with zeros.\n",
    "\n",
    "zeros_array = np.zeros((2,7))\n",
    "zeros_array\n",
    "#pone un punto después de 1 pq es un float"
   ]
  },
  {
   "cell_type": "markdown",
   "id": "c0a398d5",
   "metadata": {},
   "source": [
    "---"
   ]
  },
  {
   "cell_type": "markdown",
   "id": "b3437fa7",
   "metadata": {},
   "source": [
    "## Indexing\n",
    "\n",
    "![Image](./img/etl_numpy_01.png)"
   ]
  },
  {
   "cell_type": "markdown",
   "id": "51d1031a",
   "metadata": {},
   "source": [
    "\n",
    "\n",
    "![Image](./img/etl_numpy_03.jpg)"
   ]
  },
  {
   "cell_type": "code",
   "execution_count": 44,
   "id": "396c77dd",
   "metadata": {},
   "outputs": [
    {
     "data": {
      "text/plain": [
       "array([ 0,  1,  2,  3,  4,  5,  6,  7,  8,  9, 10, 11])"
      ]
     },
     "execution_count": 44,
     "metadata": {},
     "output_type": "execute_result"
    }
   ],
   "source": [
    "d1_array = np.arange(12)\n",
    "d1_array"
   ]
  },
  {
   "cell_type": "markdown",
   "id": "4c8c1afa",
   "metadata": {},
   "source": [
    "![Image](./img/etl_numpy_07.PNG)"
   ]
  },
  {
   "cell_type": "code",
   "execution_count": 45,
   "id": "227c51de",
   "metadata": {},
   "outputs": [
    {
     "data": {
      "text/plain": [
       "array([[ 0,  1,  2,  3],\n",
       "       [ 4,  5,  6,  7],\n",
       "       [ 8,  9, 10, 11]])"
      ]
     },
     "execution_count": 45,
     "metadata": {},
     "output_type": "execute_result"
    }
   ],
   "source": [
    "d2_array = d1_array.reshape((3,4))\n",
    "d2_array"
   ]
  },
  {
   "cell_type": "markdown",
   "id": "6d009fd3",
   "metadata": {},
   "source": [
    "![Image](./img/etl_numpy_08.PNG)"
   ]
  },
  {
   "cell_type": "code",
   "execution_count": 46,
   "id": "05ad76ce",
   "metadata": {},
   "outputs": [
    {
     "data": {
      "text/plain": [
       "array([[[ 0,  1],\n",
       "        [ 2,  3],\n",
       "        [ 4,  5]],\n",
       "\n",
       "       [[ 6,  7],\n",
       "        [ 8,  9],\n",
       "        [10, 11]]])"
      ]
     },
     "execution_count": 46,
     "metadata": {},
     "output_type": "execute_result"
    }
   ],
   "source": [
    "d3_array = d2_array.reshape((2,3,2))\n",
    "d3_array"
   ]
  },
  {
   "cell_type": "markdown",
   "id": "21b0ba73",
   "metadata": {},
   "source": [
    "![Image](./img/etl_numpy_05.png)"
   ]
  },
  {
   "cell_type": "code",
   "execution_count": 47,
   "id": "4c69df98",
   "metadata": {},
   "outputs": [
    {
     "data": {
      "text/plain": [
       "array([[[10., 10., 10.],\n",
       "        [10., 10., 10.],\n",
       "        [10., 10., 10.]],\n",
       "\n",
       "       [[10., 10., 10.],\n",
       "        [10., 10., 10.],\n",
       "        [10., 10., 10.]],\n",
       "\n",
       "       [[10., 10., 10.],\n",
       "        [10., 10., 10.],\n",
       "        [10., 10., 10.]]])"
      ]
     },
     "execution_count": 47,
     "metadata": {},
     "output_type": "execute_result"
    }
   ],
   "source": [
    "d3_array = np.zeros((3,3,3)) + 10\n",
    "d3_array"
   ]
  },
  {
   "cell_type": "code",
   "execution_count": 68,
   "id": "2e08713f",
   "metadata": {},
   "outputs": [
    {
     "data": {
      "text/plain": [
       "array([[[[[ 0],\n",
       "          [ 1],\n",
       "          [ 2],\n",
       "          [ 3],\n",
       "          [ 4],\n",
       "          [ 5]]],\n",
       "\n",
       "\n",
       "        [[[ 6],\n",
       "          [ 7],\n",
       "          [ 8],\n",
       "          [ 9],\n",
       "          [10],\n",
       "          [11]]]]])"
      ]
     },
     "execution_count": 68,
     "metadata": {},
     "output_type": "execute_result"
    }
   ],
   "source": [
    "dn_array = np.arange(0,12).reshape((1,2, 1, 6, 1))\n",
    "dn_array\n",
    "#geométricamente se ha añadido una diemensión ás, a nivel analítico habrá una menos.\n",
    "#para calcular hay que empezar por un corchete en adelante."
   ]
  },
  {
   "cell_type": "markdown",
   "id": "c33a1e2b",
   "metadata": {},
   "source": [
    "![Image](./img/etl_numpy_09.PNG)"
   ]
  },
  {
   "cell_type": "code",
   "execution_count": 54,
   "id": "9cea3112",
   "metadata": {},
   "outputs": [
    {
     "data": {
      "text/plain": [
       "11"
      ]
     },
     "execution_count": 54,
     "metadata": {},
     "output_type": "execute_result"
    }
   ],
   "source": [
    "dn_array[0,1,0,5,0] #para ver el valor que está en esa posición"
   ]
  },
  {
   "cell_type": "markdown",
   "id": "8b6af21f",
   "metadata": {},
   "source": [
    "## Slicing"
   ]
  },
  {
   "cell_type": "markdown",
   "id": "fa8750c4",
   "metadata": {},
   "source": [
    "![Image](./img/etl_numpy_02.png)"
   ]
  },
  {
   "cell_type": "code",
   "execution_count": 58,
   "id": "bb1cb571",
   "metadata": {},
   "outputs": [
    {
     "name": "stdout",
     "output_type": "stream",
     "text": [
      "[[0.32565241 0.71635649 0.31758953]\n",
      " [0.69870177 0.10801026 0.17690796]\n",
      " [0.18389217 0.06067152 0.07447611]]\n"
     ]
    },
    {
     "data": {
      "text/plain": [
       "array([[0.71635649, 0.31758953],\n",
       "       [0.10801026, 0.17690796]])"
      ]
     },
     "execution_count": 58,
     "metadata": {},
     "output_type": "execute_result"
    }
   ],
   "source": [
    "# Slicing (3,3)\n",
    "\n",
    "slicing_array_3_3 = np.random.rand(3,3)\n",
    "print(slicing_array_3_3)\n",
    "\n",
    "slicing_array_3_3[:2,1:]"
   ]
  },
  {
   "cell_type": "markdown",
   "id": "97750930",
   "metadata": {},
   "source": [
    "![Image](./img/etl_numpy_04.png)"
   ]
  },
  {
   "cell_type": "code",
   "execution_count": 63,
   "id": "aafd7b3d",
   "metadata": {},
   "outputs": [
    {
     "ename": "SyntaxError",
     "evalue": "invalid syntax (Temp/ipykernel_2644/2801135836.py, line 3)",
     "output_type": "error",
     "traceback": [
      "\u001b[1;36m  File \u001b[1;32m\"C:\\Users\\ALVARO~1\\AppData\\Local\\Temp/ipykernel_2644/2801135836.py\"\u001b[1;36m, line \u001b[1;32m3\u001b[0m\n\u001b[1;33m    slicing_array_6_6 = np.arange(1,6 size=(6,6))\u001b[0m\n\u001b[1;37m                                         ^\u001b[0m\n\u001b[1;31mSyntaxError\u001b[0m\u001b[1;31m:\u001b[0m invalid syntax\n"
     ]
    }
   ],
   "source": [
    "# Slicing deep_dive (6,6)\n",
    "\n",
    "slicing_array_6_6 \n",
    "\n"
   ]
  },
  {
   "cell_type": "markdown",
   "id": "50450696",
   "metadata": {},
   "source": [
    "---"
   ]
  },
  {
   "cell_type": "markdown",
   "id": "abd8723c",
   "metadata": {},
   "source": [
    "__More info:__ https://numpy.org/doc/stable/user/absolute_beginners.html"
   ]
  },
  {
   "cell_type": "code",
   "execution_count": null,
   "id": "76d339f2",
   "metadata": {},
   "outputs": [],
   "source": [
    "hhh = np.random.random((10,4))\n",
    "print(hhh)"
   ]
  },
  {
   "cell_type": "code",
   "execution_count": null,
   "id": "d26566b0",
   "metadata": {},
   "outputs": [],
   "source": [
    "print(hhh[0])"
   ]
  },
  {
   "cell_type": "code",
   "execution_count": null,
   "id": "67d4d24c",
   "metadata": {},
   "outputs": [],
   "source": [
    "print(hhh[1:3,0])"
   ]
  },
  {
   "cell_type": "code",
   "execution_count": null,
   "id": "ad541aa7",
   "metadata": {},
   "outputs": [],
   "source": [
    "print(hhh[4,2])"
   ]
  },
  {
   "cell_type": "code",
   "execution_count": null,
   "id": "cbf9ef8b",
   "metadata": {},
   "outputs": [],
   "source": [
    "c = np.random.random((2,3,4,5))\n",
    "print(c)"
   ]
  },
  {
   "cell_type": "code",
   "execution_count": null,
   "id": "2024de23",
   "metadata": {},
   "outputs": [],
   "source": [
    "print(c[0])"
   ]
  },
  {
   "cell_type": "code",
   "execution_count": null,
   "id": "4afce752",
   "metadata": {},
   "outputs": [],
   "source": [
    "print(c[0,1])"
   ]
  },
  {
   "cell_type": "code",
   "execution_count": null,
   "id": "70889f53",
   "metadata": {
    "scrolled": true
   },
   "outputs": [],
   "source": [
    "print(c[0,1,2])"
   ]
  },
  {
   "cell_type": "code",
   "execution_count": null,
   "id": "0ab267b8",
   "metadata": {},
   "outputs": [],
   "source": [
    "print(c[0,1,2:4])"
   ]
  },
  {
   "cell_type": "code",
   "execution_count": null,
   "id": "28fa90c3",
   "metadata": {},
   "outputs": [],
   "source": [
    "print(c[0,:,2:4,4])"
   ]
  },
  {
   "cell_type": "code",
   "execution_count": null,
   "id": "6b89b0ac",
   "metadata": {},
   "outputs": [],
   "source": [
    "a = c[0,:,2:4,4].shape\n",
    "a"
   ]
  },
  {
   "cell_type": "code",
   "execution_count": null,
   "id": "a964344a",
   "metadata": {},
   "outputs": [],
   "source": []
  }
 ],
 "metadata": {
  "kernelspec": {
   "display_name": "Python [conda env:ironhack]",
   "language": "python",
   "name": "conda-env-ironhack-py"
  },
  "language_info": {
   "codemirror_mode": {
    "name": "ipython",
    "version": 3
   },
   "file_extension": ".py",
   "mimetype": "text/x-python",
   "name": "python",
   "nbconvert_exporter": "python",
   "pygments_lexer": "ipython3",
   "version": "3.7.11"
  }
 },
 "nbformat": 4,
 "nbformat_minor": 5
}
