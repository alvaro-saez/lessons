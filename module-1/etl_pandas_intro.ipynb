{
 "cells": [
  {
   "cell_type": "markdown",
   "id": "45b28995",
   "metadata": {},
   "source": [
    "# Pandas (Python Data Analysis Library)\n",
    "\n",
    "__pandas__ is a fast, powerful, flexible and easy to use open source data analysis and manipulation tool,\n",
    "built on top of the Python programming language!!!\n",
    "\n",
    "---\n",
    "\n",
    "_\"In the future, I think that programming languages are going to diminish in importance relative to data itself and common computational libraries\"_\n",
    "\n",
    "__Wes McKinney__ - Pandas Benevolent Dictator for Life\n",
    "\n",
    "https://pandas.pydata.org/docs/reference/index.html"
   ]
  },
  {
   "cell_type": "code",
   "execution_count": 1,
   "id": "46c78561",
   "metadata": {},
   "outputs": [],
   "source": [
    "#installation (https://pandas.pydata.org/docs/getting_started/install.html)\n",
    "\n",
    "#!conda install pandas\n",
    "#!conda install pandas=1.20.2"
   ]
  },
  {
   "cell_type": "code",
   "execution_count": 2,
   "id": "aa118085",
   "metadata": {},
   "outputs": [
    {
     "name": "stdout",
     "output_type": "stream",
     "text": [
      "1.3.4\n"
     ]
    }
   ],
   "source": [
    "# import library and assign an alias\n",
    "\n",
    "import numpy as np\n",
    "import pandas as pd\n",
    "print(pd.__version__)"
   ]
  },
  {
   "cell_type": "markdown",
   "id": "d63e8906",
   "metadata": {},
   "source": [
    "---"
   ]
  },
  {
   "cell_type": "markdown",
   "id": "da330655",
   "metadata": {},
   "source": [
    "### Pandas Data Structures\n",
    "\n",
    "https://pandas.pydata.org/docs/user_guide/dsintro.html#dsintro"
   ]
  },
  {
   "cell_type": "code",
   "execution_count": 4,
   "id": "e51bf0e1",
   "metadata": {},
   "outputs": [
    {
     "name": "stdout",
     "output_type": "stream",
     "text": [
      "0    0.305294\n",
      "1    0.412992\n",
      "2    0.679693\n",
      "3    0.133333\n",
      "4    0.973997\n",
      "5    0.810655\n",
      "6    0.337172\n",
      "7    0.730173\n",
      "8    0.386460\n",
      "9    0.377391\n",
      "dtype: float64\n"
     ]
    }
   ],
   "source": [
    "a = pd.Series(np.random.random(10))\n",
    "print(a)"
   ]
  },
  {
   "cell_type": "code",
   "execution_count": 5,
   "id": "1a6c6968",
   "metadata": {},
   "outputs": [
    {
     "data": {
      "text/plain": [
       "0.3052937230979882"
      ]
     },
     "execution_count": 5,
     "metadata": {},
     "output_type": "execute_result"
    }
   ],
   "source": [
    "a[0]"
   ]
  },
  {
   "cell_type": "code",
   "execution_count": 3,
   "id": "0e286a8d",
   "metadata": {},
   "outputs": [
    {
     "name": "stdout",
     "output_type": "stream",
     "text": [
      "<class 'pandas.core.series.Series'>\n",
      "0    1\n",
      "1    2\n",
      "2    3\n",
      "3    4\n",
      "4    5\n",
      "5    6\n",
      "6    7\n",
      "7    8\n",
      "dtype: int64\n",
      "<class 'pandas.core.series.Series'>\n",
      "0    1\n",
      "1    2\n",
      "2    3\n",
      "3    4\n",
      "4    5\n",
      "5    6\n",
      "6    7\n",
      "dtype: int32\n",
      "<class 'pandas.core.series.Series'>\n",
      "0        football\n",
      "1           rugby\n",
      "2    beach volley\n",
      "3        atletism\n",
      "dtype: object\n"
     ]
    }
   ],
   "source": [
    "# Series\n",
    "\n",
    "s1 = pd.Series([1,2,3,4,5,6,7,8])\n",
    "print(type(s1))\n",
    "print(s1)\n",
    "\n",
    "s2 = pd.Series(np.arange(1,8))\n",
    "print(type(s2))\n",
    "print(s2)\n",
    "\n",
    "str_lst = ['football', 'rugby', 'beach volley', 'atletism']\n",
    "s3 = pd.Series(str_lst)\n",
    "print(type(s3))\n",
    "print(s3)"
   ]
  },
  {
   "cell_type": "code",
   "execution_count": 15,
   "id": "3d023adb",
   "metadata": {},
   "outputs": [
    {
     "name": "stdout",
     "output_type": "stream",
     "text": [
      "RangeIndex(start=0, stop=8, step=1)\n",
      "8\n",
      "(8,)\n",
      "1\n",
      "object\n",
      "[RangeIndex(start=0, stop=4, step=1)]\n",
      "160 bytes\n",
      "count    8.00000\n",
      "mean     4.50000\n",
      "std      2.44949\n",
      "min      1.00000\n",
      "25%      2.75000\n",
      "50%      4.50000\n",
      "75%      6.25000\n",
      "max      8.00000\n",
      "dtype: float64\n",
      "0    1\n",
      "1    2\n",
      "2    3\n",
      "3    4\n",
      "4    5\n",
      "dtype: int64\n",
      "3    4\n",
      "4    5\n",
      "5    6\n",
      "6    7\n",
      "7    8\n",
      "dtype: int64\n"
     ]
    },
    {
     "data": {
      "text/plain": [
       "0    1\n",
       "1    2\n",
       "2    3\n",
       "3    4\n",
       "4    5\n",
       "5    6\n",
       "6    7\n",
       "7    8\n",
       "dtype: int64"
      ]
     },
     "metadata": {},
     "output_type": "display_data"
    }
   ],
   "source": [
    "# Series attributes\n",
    "\n",
    "print(s1.index)\n",
    "print(s1.size)\n",
    "print(s1.shape)\n",
    "print(s1.ndim)\n",
    "print(s3.dtypes)\n",
    "print(s3.axes)\n",
    "print(s3.memory_usage(), 'bytes')\n",
    "print(s1.describe())\n",
    "print(s1.head())\n",
    "print(s1.tail())\n",
    "display(s1)"
   ]
  },
  {
   "cell_type": "code",
   "execution_count": 17,
   "id": "62b97384",
   "metadata": {
    "scrolled": true
   },
   "outputs": [
    {
     "data": {
      "text/plain": [
       "a   -0.272740\n",
       "b    0.966670\n",
       "c    0.568923\n",
       "d   -0.653188\n",
       "e    1.465900\n",
       "dtype: float64"
      ]
     },
     "execution_count": 17,
     "metadata": {},
     "output_type": "execute_result"
    }
   ],
   "source": [
    "s = pd.Series(np.random.randn(5), \n",
    "index=[\"a\", \"b\", \"c\", \"d\", \"e\"])\n",
    "s"
   ]
  },
  {
   "cell_type": "markdown",
   "id": "aa43c6e0",
   "metadata": {},
   "source": [
    "__Pandas Data Types__\n",
    "\n",
    "![Image](./img/etl_intro_pandas_01.png)"
   ]
  },
  {
   "cell_type": "code",
   "execution_count": 18,
   "id": "1f86f89b",
   "metadata": {},
   "outputs": [
    {
     "name": "stdout",
     "output_type": "stream",
     "text": [
      "<class 'pandas.core.frame.DataFrame'>\n"
     ]
    },
    {
     "data": {
      "text/html": [
       "<div>\n",
       "<style scoped>\n",
       "    .dataframe tbody tr th:only-of-type {\n",
       "        vertical-align: middle;\n",
       "    }\n",
       "\n",
       "    .dataframe tbody tr th {\n",
       "        vertical-align: top;\n",
       "    }\n",
       "\n",
       "    .dataframe thead th {\n",
       "        text-align: right;\n",
       "    }\n",
       "</style>\n",
       "<table border=\"1\" class=\"dataframe\">\n",
       "  <thead>\n",
       "    <tr style=\"text-align: right;\">\n",
       "      <th></th>\n",
       "      <th>0</th>\n",
       "    </tr>\n",
       "  </thead>\n",
       "  <tbody>\n",
       "    <tr>\n",
       "      <th>0</th>\n",
       "      <td>1</td>\n",
       "    </tr>\n",
       "    <tr>\n",
       "      <th>1</th>\n",
       "      <td>2</td>\n",
       "    </tr>\n",
       "    <tr>\n",
       "      <th>2</th>\n",
       "      <td>3</td>\n",
       "    </tr>\n",
       "    <tr>\n",
       "      <th>3</th>\n",
       "      <td>4</td>\n",
       "    </tr>\n",
       "    <tr>\n",
       "      <th>4</th>\n",
       "      <td>5</td>\n",
       "    </tr>\n",
       "    <tr>\n",
       "      <th>5</th>\n",
       "      <td>6</td>\n",
       "    </tr>\n",
       "    <tr>\n",
       "      <th>6</th>\n",
       "      <td>7</td>\n",
       "    </tr>\n",
       "    <tr>\n",
       "      <th>7</th>\n",
       "      <td>8</td>\n",
       "    </tr>\n",
       "  </tbody>\n",
       "</table>\n",
       "</div>"
      ],
      "text/plain": [
       "   0\n",
       "0  1\n",
       "1  2\n",
       "2  3\n",
       "3  4\n",
       "4  5\n",
       "5  6\n",
       "6  7\n",
       "7  8"
      ]
     },
     "metadata": {},
     "output_type": "display_data"
    },
    {
     "name": "stdout",
     "output_type": "stream",
     "text": [
      "<class 'pandas.core.frame.DataFrame'>\n"
     ]
    },
    {
     "data": {
      "text/html": [
       "<div>\n",
       "<style scoped>\n",
       "    .dataframe tbody tr th:only-of-type {\n",
       "        vertical-align: middle;\n",
       "    }\n",
       "\n",
       "    .dataframe tbody tr th {\n",
       "        vertical-align: top;\n",
       "    }\n",
       "\n",
       "    .dataframe thead th {\n",
       "        text-align: right;\n",
       "    }\n",
       "</style>\n",
       "<table border=\"1\" class=\"dataframe\">\n",
       "  <thead>\n",
       "    <tr style=\"text-align: right;\">\n",
       "      <th></th>\n",
       "      <th>0</th>\n",
       "    </tr>\n",
       "  </thead>\n",
       "  <tbody>\n",
       "    <tr>\n",
       "      <th>0</th>\n",
       "      <td>1</td>\n",
       "    </tr>\n",
       "    <tr>\n",
       "      <th>1</th>\n",
       "      <td>2</td>\n",
       "    </tr>\n",
       "    <tr>\n",
       "      <th>2</th>\n",
       "      <td>3</td>\n",
       "    </tr>\n",
       "    <tr>\n",
       "      <th>3</th>\n",
       "      <td>4</td>\n",
       "    </tr>\n",
       "    <tr>\n",
       "      <th>4</th>\n",
       "      <td>5</td>\n",
       "    </tr>\n",
       "    <tr>\n",
       "      <th>5</th>\n",
       "      <td>6</td>\n",
       "    </tr>\n",
       "    <tr>\n",
       "      <th>6</th>\n",
       "      <td>7</td>\n",
       "    </tr>\n",
       "  </tbody>\n",
       "</table>\n",
       "</div>"
      ],
      "text/plain": [
       "   0\n",
       "0  1\n",
       "1  2\n",
       "2  3\n",
       "3  4\n",
       "4  5\n",
       "5  6\n",
       "6  7"
      ]
     },
     "metadata": {},
     "output_type": "display_data"
    },
    {
     "name": "stdout",
     "output_type": "stream",
     "text": [
      "<class 'pandas.core.frame.DataFrame'>\n"
     ]
    },
    {
     "data": {
      "text/html": [
       "<div>\n",
       "<style scoped>\n",
       "    .dataframe tbody tr th:only-of-type {\n",
       "        vertical-align: middle;\n",
       "    }\n",
       "\n",
       "    .dataframe tbody tr th {\n",
       "        vertical-align: top;\n",
       "    }\n",
       "\n",
       "    .dataframe thead th {\n",
       "        text-align: right;\n",
       "    }\n",
       "</style>\n",
       "<table border=\"1\" class=\"dataframe\">\n",
       "  <thead>\n",
       "    <tr style=\"text-align: right;\">\n",
       "      <th></th>\n",
       "      <th>0</th>\n",
       "    </tr>\n",
       "  </thead>\n",
       "  <tbody>\n",
       "    <tr>\n",
       "      <th>0</th>\n",
       "      <td>football</td>\n",
       "    </tr>\n",
       "    <tr>\n",
       "      <th>1</th>\n",
       "      <td>rugby</td>\n",
       "    </tr>\n",
       "    <tr>\n",
       "      <th>2</th>\n",
       "      <td>beach volley</td>\n",
       "    </tr>\n",
       "    <tr>\n",
       "      <th>3</th>\n",
       "      <td>atletism</td>\n",
       "    </tr>\n",
       "  </tbody>\n",
       "</table>\n",
       "</div>"
      ],
      "text/plain": [
       "              0\n",
       "0      football\n",
       "1         rugby\n",
       "2  beach volley\n",
       "3      atletism"
      ]
     },
     "metadata": {},
     "output_type": "display_data"
    }
   ],
   "source": [
    "# DataFrames I\n",
    "\n",
    "df1 = pd.DataFrame([1,2,3,4,5,6,7,8])\n",
    "print(type(df1))\n",
    "display(df1)\n",
    "\n",
    "df2 = pd.DataFrame(np.arange(1,8))\n",
    "print(type(df2))\n",
    "display(df2)\n",
    "\n",
    "str_lst = ['football', 'rugby', 'beach volley', 'atletism']\n",
    "df3 = pd.DataFrame(str_lst)\n",
    "print(type(df3))\n",
    "display(df3)"
   ]
  },
  {
   "cell_type": "code",
   "execution_count": 19,
   "id": "27815fda",
   "metadata": {},
   "outputs": [
    {
     "name": "stdout",
     "output_type": "stream",
     "text": [
      "<class 'pandas.core.frame.DataFrame'>\n"
     ]
    },
    {
     "data": {
      "text/html": [
       "<div>\n",
       "<style scoped>\n",
       "    .dataframe tbody tr th:only-of-type {\n",
       "        vertical-align: middle;\n",
       "    }\n",
       "\n",
       "    .dataframe tbody tr th {\n",
       "        vertical-align: top;\n",
       "    }\n",
       "\n",
       "    .dataframe thead th {\n",
       "        text-align: right;\n",
       "    }\n",
       "</style>\n",
       "<table border=\"1\" class=\"dataframe\">\n",
       "  <thead>\n",
       "    <tr style=\"text-align: right;\">\n",
       "      <th></th>\n",
       "      <th>col1</th>\n",
       "      <th>col2</th>\n",
       "      <th>col3</th>\n",
       "      <th>col4</th>\n",
       "    </tr>\n",
       "  </thead>\n",
       "  <tbody>\n",
       "    <tr>\n",
       "      <th>0</th>\n",
       "      <td>1</td>\n",
       "      <td>3</td>\n",
       "      <td>ironhack</td>\n",
       "      <td>True</td>\n",
       "    </tr>\n",
       "    <tr>\n",
       "      <th>1</th>\n",
       "      <td>2</td>\n",
       "      <td>4</td>\n",
       "      <td>Madrid</td>\n",
       "      <td>None</td>\n",
       "    </tr>\n",
       "  </tbody>\n",
       "</table>\n",
       "</div>"
      ],
      "text/plain": [
       "   col1  col2      col3  col4\n",
       "0     1     3  ironhack  True\n",
       "1     2     4    Madrid  None"
      ]
     },
     "metadata": {},
     "output_type": "display_data"
    },
    {
     "name": "stdout",
     "output_type": "stream",
     "text": [
      "<class 'pandas.core.frame.DataFrame'>\n"
     ]
    },
    {
     "data": {
      "text/html": [
       "<div>\n",
       "<style scoped>\n",
       "    .dataframe tbody tr th:only-of-type {\n",
       "        vertical-align: middle;\n",
       "    }\n",
       "\n",
       "    .dataframe tbody tr th {\n",
       "        vertical-align: top;\n",
       "    }\n",
       "\n",
       "    .dataframe thead th {\n",
       "        text-align: right;\n",
       "    }\n",
       "</style>\n",
       "<table border=\"1\" class=\"dataframe\">\n",
       "  <thead>\n",
       "    <tr style=\"text-align: right;\">\n",
       "      <th></th>\n",
       "      <th>a</th>\n",
       "      <th>b</th>\n",
       "      <th>c</th>\n",
       "    </tr>\n",
       "  </thead>\n",
       "  <tbody>\n",
       "    <tr>\n",
       "      <th>0</th>\n",
       "      <td>0</td>\n",
       "      <td>1</td>\n",
       "      <td>2</td>\n",
       "    </tr>\n",
       "    <tr>\n",
       "      <th>1</th>\n",
       "      <td>3</td>\n",
       "      <td>4</td>\n",
       "      <td>5</td>\n",
       "    </tr>\n",
       "    <tr>\n",
       "      <th>2</th>\n",
       "      <td>6</td>\n",
       "      <td>7</td>\n",
       "      <td>8</td>\n",
       "    </tr>\n",
       "    <tr>\n",
       "      <th>3</th>\n",
       "      <td>9</td>\n",
       "      <td>10</td>\n",
       "      <td>11</td>\n",
       "    </tr>\n",
       "  </tbody>\n",
       "</table>\n",
       "</div>"
      ],
      "text/plain": [
       "   a   b   c\n",
       "0  0   1   2\n",
       "1  3   4   5\n",
       "2  6   7   8\n",
       "3  9  10  11"
      ]
     },
     "metadata": {},
     "output_type": "display_data"
    },
    {
     "name": "stdout",
     "output_type": "stream",
     "text": [
      "<class 'pandas.core.frame.DataFrame'>\n"
     ]
    },
    {
     "data": {
      "text/html": [
       "<div>\n",
       "<style scoped>\n",
       "    .dataframe tbody tr th:only-of-type {\n",
       "        vertical-align: middle;\n",
       "    }\n",
       "\n",
       "    .dataframe tbody tr th {\n",
       "        vertical-align: top;\n",
       "    }\n",
       "\n",
       "    .dataframe thead th {\n",
       "        text-align: right;\n",
       "    }\n",
       "</style>\n",
       "<table border=\"1\" class=\"dataframe\">\n",
       "  <thead>\n",
       "    <tr style=\"text-align: right;\">\n",
       "      <th></th>\n",
       "      <th>Python Dictionaries</th>\n",
       "      <th>Numpy Arrays</th>\n",
       "      <th>Pandas DataFrames</th>\n",
       "      <th>Python Variables</th>\n",
       "    </tr>\n",
       "  </thead>\n",
       "  <tbody>\n",
       "    <tr>\n",
       "      <th>0</th>\n",
       "      <td>{'col1': [1, 2], 'col2': [3, 4], 'col3': ['iro...</td>\n",
       "      <td>[[0, 3, 6], [9, 12, 15], [18, 21, 24], [27, 30...</td>\n",
       "      <td>0\n",
       "0      football\n",
       "1         rugb...</td>\n",
       "      <td>1</td>\n",
       "    </tr>\n",
       "    <tr>\n",
       "      <th>1</th>\n",
       "      <td>{'col1': [1, 2], 'col2': [3, 4], 'col3': ['iro...</td>\n",
       "      <td>[[0, 2, 4], [6, 8, 10], [12, 14, 16], [18, 20,...</td>\n",
       "      <td>col1  col2      col3  col4\n",
       "0     1     3  i...</td>\n",
       "      <td>True</td>\n",
       "    </tr>\n",
       "    <tr>\n",
       "      <th>2</th>\n",
       "      <td>{'col1': [1, 2], 'col2': [3, 4], 'col3': ['iro...</td>\n",
       "      <td>[[[0.0, 0.0, 0.0, 0.0, 0.0], [0.0, 0.0, 0.0, 0...</td>\n",
       "      <td>a   b   c\n",
       "0  0   1   2\n",
       "1  3   4   5\n",
       "2  6   ...</td>\n",
       "      <td>I love Pandas</td>\n",
       "    </tr>\n",
       "  </tbody>\n",
       "</table>\n",
       "</div>"
      ],
      "text/plain": [
       "                                 Python Dictionaries  \\\n",
       "0  {'col1': [1, 2], 'col2': [3, 4], 'col3': ['iro...   \n",
       "1  {'col1': [1, 2], 'col2': [3, 4], 'col3': ['iro...   \n",
       "2  {'col1': [1, 2], 'col2': [3, 4], 'col3': ['iro...   \n",
       "\n",
       "                                        Numpy Arrays  \\\n",
       "0  [[0, 3, 6], [9, 12, 15], [18, 21, 24], [27, 30...   \n",
       "1  [[0, 2, 4], [6, 8, 10], [12, 14, 16], [18, 20,...   \n",
       "2  [[[0.0, 0.0, 0.0, 0.0, 0.0], [0.0, 0.0, 0.0, 0...   \n",
       "\n",
       "                                   Pandas DataFrames Python Variables  \n",
       "0                0\n",
       "0      football\n",
       "1         rugb...                1  \n",
       "1     col1  col2      col3  col4\n",
       "0     1     3  i...             True  \n",
       "2     a   b   c\n",
       "0  0   1   2\n",
       "1  3   4   5\n",
       "2  6   ...    I love Pandas  "
      ]
     },
     "metadata": {},
     "output_type": "display_data"
    }
   ],
   "source": [
    "# DataFrames II\n",
    "\n",
    "df_dict = {'col1': [1, 2], 'col2': [3, 4], 'col3': ['ironhack', 'Madrid'], 'col4': [True, None]}\n",
    "df4 = pd.DataFrame(df_dict)\n",
    "print(type(df4))\n",
    "display(df4)\n",
    "\n",
    "df_array = np.arange(12).reshape(4,3)\n",
    "df5 = pd.DataFrame(df_array, columns=['a', 'b', 'c'])\n",
    "print(type(df5))\n",
    "display(df5)\n",
    "\n",
    "df6 = pd.DataFrame({'Python Dictionaries': [df_dict, df_dict, df_dict],\n",
    "                    'Numpy Arrays': [df_array * 3, df_array + df_array, np.zeros((5, 5, 5))], \n",
    "                    'Pandas DataFrames': [df3.head(), df4.tail(), df5], \n",
    "                    'Python Variables': [1, True, 'I love Pandas']})\n",
    "print(type(df6))\n",
    "display(df6)"
   ]
  },
  {
   "cell_type": "code",
   "execution_count": 27,
   "id": "5f83f59d",
   "metadata": {},
   "outputs": [
    {
     "data": {
      "text/html": [
       "<div>\n",
       "<style scoped>\n",
       "    .dataframe tbody tr th:only-of-type {\n",
       "        vertical-align: middle;\n",
       "    }\n",
       "\n",
       "    .dataframe tbody tr th {\n",
       "        vertical-align: top;\n",
       "    }\n",
       "\n",
       "    .dataframe thead th {\n",
       "        text-align: right;\n",
       "    }\n",
       "</style>\n",
       "<table border=\"1\" class=\"dataframe\">\n",
       "  <thead>\n",
       "    <tr style=\"text-align: right;\">\n",
       "      <th></th>\n",
       "      <th>col1</th>\n",
       "      <th>col2</th>\n",
       "      <th>col3</th>\n",
       "      <th>col4</th>\n",
       "    </tr>\n",
       "  </thead>\n",
       "  <tbody>\n",
       "    <tr>\n",
       "      <th>0</th>\n",
       "      <td>1</td>\n",
       "      <td>3</td>\n",
       "      <td>ironhack</td>\n",
       "      <td>True</td>\n",
       "    </tr>\n",
       "    <tr>\n",
       "      <th>1</th>\n",
       "      <td>2</td>\n",
       "      <td>4</td>\n",
       "      <td>Madrid</td>\n",
       "      <td>None</td>\n",
       "    </tr>\n",
       "  </tbody>\n",
       "</table>\n",
       "</div>"
      ],
      "text/plain": [
       "   col1  col2      col3  col4\n",
       "0     1     3  ironhack  True\n",
       "1     2     4    Madrid  None"
      ]
     },
     "metadata": {},
     "output_type": "display_data"
    },
    {
     "data": {
      "text/html": [
       "<div>\n",
       "<style scoped>\n",
       "    .dataframe tbody tr th:only-of-type {\n",
       "        vertical-align: middle;\n",
       "    }\n",
       "\n",
       "    .dataframe tbody tr th {\n",
       "        vertical-align: top;\n",
       "    }\n",
       "\n",
       "    .dataframe thead th {\n",
       "        text-align: right;\n",
       "    }\n",
       "</style>\n",
       "<table border=\"1\" class=\"dataframe\">\n",
       "  <thead>\n",
       "    <tr style=\"text-align: right;\">\n",
       "      <th></th>\n",
       "      <th>col1</th>\n",
       "      <th>col2</th>\n",
       "    </tr>\n",
       "  </thead>\n",
       "  <tbody>\n",
       "    <tr>\n",
       "      <th>0</th>\n",
       "      <td>1</td>\n",
       "      <td>3</td>\n",
       "    </tr>\n",
       "    <tr>\n",
       "      <th>1</th>\n",
       "      <td>2</td>\n",
       "      <td>4</td>\n",
       "    </tr>\n",
       "  </tbody>\n",
       "</table>\n",
       "</div>"
      ],
      "text/plain": [
       "   col1  col2\n",
       "0     1     3\n",
       "1     2     4"
      ]
     },
     "execution_count": 27,
     "metadata": {},
     "output_type": "execute_result"
    }
   ],
   "source": [
    "df_dict = {'col1': [1, 2], 'col2': [3, 4], 'col3': ['ironhack', 'Madrid'], 'col4': [True, None]}\n",
    "df4 = pd.DataFrame(df_dict)\n",
    "display(df4)\n",
    "df4[[\"col1\",\"col2\"]]"
   ]
  },
  {
   "cell_type": "code",
   "execution_count": 29,
   "id": "600f3c75",
   "metadata": {
    "scrolled": true
   },
   "outputs": [
    {
     "name": "stdout",
     "output_type": "stream",
     "text": [
      "RangeIndex(start=0, stop=3, step=1)\n",
      "12\n",
      "(3, 4)\n",
      "2\n",
      "Python Dictionaries    object\n",
      "Numpy Arrays           object\n",
      "Pandas DataFrames      object\n",
      "Python Variables       object\n",
      "dtype: object\n",
      "[RangeIndex(start=0, stop=3, step=1), Index(['Python Dictionaries', 'Numpy Arrays', 'Pandas DataFrames',\n",
      "       'Python Variables'],\n",
      "      dtype='object')]\n",
      "Index                  128\n",
      "Python Dictionaries     24\n",
      "Numpy Arrays            24\n",
      "Pandas DataFrames       24\n",
      "Python Variables        24\n",
      "dtype: int64 bytes\n",
      "                                      Python Dictionaries  \\\n",
      "count                                                   3   \n",
      "unique                                                  1   \n",
      "top     {'col1': [1, 2], 'col2': [3, 4], 'col3': ['iro...   \n",
      "freq                                                    3   \n",
      "\n",
      "                                             Numpy Arrays  \\\n",
      "count                                                   3   \n",
      "unique                                                  3   \n",
      "top     [[0, 3, 6], [9, 12, 15], [18, 21, 24], [27, 30...   \n",
      "freq                                                    1   \n",
      "\n",
      "                                        Pandas DataFrames  Python Variables  \n",
      "count                                                   3                 3  \n",
      "unique                                                  3                 2  \n",
      "top                   0\n",
      "0      football\n",
      "1         rugb...                 1  \n",
      "freq                                                    1                 2  \n"
     ]
    },
    {
     "data": {
      "text/html": [
       "<div>\n",
       "<style scoped>\n",
       "    .dataframe tbody tr th:only-of-type {\n",
       "        vertical-align: middle;\n",
       "    }\n",
       "\n",
       "    .dataframe tbody tr th {\n",
       "        vertical-align: top;\n",
       "    }\n",
       "\n",
       "    .dataframe thead th {\n",
       "        text-align: right;\n",
       "    }\n",
       "</style>\n",
       "<table border=\"1\" class=\"dataframe\">\n",
       "  <thead>\n",
       "    <tr style=\"text-align: right;\">\n",
       "      <th></th>\n",
       "      <th>Python Dictionaries</th>\n",
       "      <th>Numpy Arrays</th>\n",
       "      <th>Pandas DataFrames</th>\n",
       "      <th>Python Variables</th>\n",
       "    </tr>\n",
       "  </thead>\n",
       "  <tbody>\n",
       "    <tr>\n",
       "      <th>0</th>\n",
       "      <td>{'col1': [1, 2], 'col2': [3, 4], 'col3': ['iro...</td>\n",
       "      <td>[[0, 3, 6], [9, 12, 15], [18, 21, 24], [27, 30...</td>\n",
       "      <td>0\n",
       "0      football\n",
       "1         rugb...</td>\n",
       "      <td>1</td>\n",
       "    </tr>\n",
       "  </tbody>\n",
       "</table>\n",
       "</div>"
      ],
      "text/plain": [
       "                                 Python Dictionaries  \\\n",
       "0  {'col1': [1, 2], 'col2': [3, 4], 'col3': ['iro...   \n",
       "\n",
       "                                        Numpy Arrays  \\\n",
       "0  [[0, 3, 6], [9, 12, 15], [18, 21, 24], [27, 30...   \n",
       "\n",
       "                                   Pandas DataFrames Python Variables  \n",
       "0                0\n",
       "0      football\n",
       "1         rugb...                1  "
      ]
     },
     "metadata": {},
     "output_type": "display_data"
    },
    {
     "data": {
      "text/html": [
       "<div>\n",
       "<style scoped>\n",
       "    .dataframe tbody tr th:only-of-type {\n",
       "        vertical-align: middle;\n",
       "    }\n",
       "\n",
       "    .dataframe tbody tr th {\n",
       "        vertical-align: top;\n",
       "    }\n",
       "\n",
       "    .dataframe thead th {\n",
       "        text-align: right;\n",
       "    }\n",
       "</style>\n",
       "<table border=\"1\" class=\"dataframe\">\n",
       "  <thead>\n",
       "    <tr style=\"text-align: right;\">\n",
       "      <th></th>\n",
       "      <th>Python Dictionaries</th>\n",
       "      <th>Numpy Arrays</th>\n",
       "      <th>Pandas DataFrames</th>\n",
       "      <th>Python Variables</th>\n",
       "    </tr>\n",
       "  </thead>\n",
       "  <tbody>\n",
       "    <tr>\n",
       "      <th>2</th>\n",
       "      <td>{'col1': [1, 2], 'col2': [3, 4], 'col3': ['iro...</td>\n",
       "      <td>[[[0.0, 0.0, 0.0, 0.0, 0.0], [0.0, 0.0, 0.0, 0...</td>\n",
       "      <td>a   b   c\n",
       "0  0   1   2\n",
       "1  3   4   5\n",
       "2  6   ...</td>\n",
       "      <td>I love Pandas</td>\n",
       "    </tr>\n",
       "  </tbody>\n",
       "</table>\n",
       "</div>"
      ],
      "text/plain": [
       "                                 Python Dictionaries  \\\n",
       "2  {'col1': [1, 2], 'col2': [3, 4], 'col3': ['iro...   \n",
       "\n",
       "                                        Numpy Arrays  \\\n",
       "2  [[[0.0, 0.0, 0.0, 0.0, 0.0], [0.0, 0.0, 0.0, 0...   \n",
       "\n",
       "                                   Pandas DataFrames Python Variables  \n",
       "2     a   b   c\n",
       "0  0   1   2\n",
       "1  3   4   5\n",
       "2  6   ...    I love Pandas  "
      ]
     },
     "metadata": {},
     "output_type": "display_data"
    },
    {
     "name": "stdout",
     "output_type": "stream",
     "text": [
      "Index(['Python Dictionaries', 'Numpy Arrays', 'Pandas DataFrames',\n",
      "       'Python Variables'],\n",
      "      dtype='object')\n",
      "<class 'pandas.core.frame.DataFrame'>\n",
      "RangeIndex: 3 entries, 0 to 2\n",
      "Data columns (total 4 columns):\n",
      " #   Column               Non-Null Count  Dtype \n",
      "---  ------               --------------  ----- \n",
      " 0   Python Dictionaries  3 non-null      object\n",
      " 1   Numpy Arrays         3 non-null      object\n",
      " 2   Pandas DataFrames    3 non-null      object\n",
      " 3   Python Variables     3 non-null      object\n",
      "dtypes: object(4)\n",
      "memory usage: 224.0+ bytes\n",
      "None\n"
     ]
    }
   ],
   "source": [
    "# DataFrames attributes\n",
    "\n",
    "print(df6.index)\n",
    "print(df6.size)\n",
    "print(df6.shape)\n",
    "print(df6.ndim)\n",
    "print(df6.dtypes)\n",
    "print(df6.axes)\n",
    "print(df6.memory_usage(), 'bytes')\n",
    "print(df6.describe())\n",
    "display(df6.head(1))\n",
    "display(df6.tail(1))\n",
    "\n",
    "print(df6.columns)\n",
    "print(df6.info())"
   ]
  },
  {
   "cell_type": "markdown",
   "id": "aea7b1ae",
   "metadata": {},
   "source": [
    "---"
   ]
  },
  {
   "cell_type": "code",
   "execution_count": 34,
   "id": "6dc495b1",
   "metadata": {},
   "outputs": [
    {
     "data": {
      "text/html": [
       "<div>\n",
       "<style scoped>\n",
       "    .dataframe tbody tr th:only-of-type {\n",
       "        vertical-align: middle;\n",
       "    }\n",
       "\n",
       "    .dataframe tbody tr th {\n",
       "        vertical-align: top;\n",
       "    }\n",
       "\n",
       "    .dataframe thead th {\n",
       "        text-align: right;\n",
       "    }\n",
       "</style>\n",
       "<table border=\"1\" class=\"dataframe\">\n",
       "  <thead>\n",
       "    <tr style=\"text-align: right;\">\n",
       "      <th></th>\n",
       "      <th>dogs</th>\n",
       "      <th>cats</th>\n",
       "      <th>horses</th>\n",
       "    </tr>\n",
       "  </thead>\n",
       "  <tbody>\n",
       "    <tr>\n",
       "      <th>cute</th>\n",
       "      <td>pug</td>\n",
       "      <td>siamese</td>\n",
       "      <td>arabian</td>\n",
       "    </tr>\n",
       "    <tr>\n",
       "      <th>strong</th>\n",
       "      <td>malinois</td>\n",
       "      <td>persian</td>\n",
       "      <td>andalusian</td>\n",
       "    </tr>\n",
       "    <tr>\n",
       "      <th>smart</th>\n",
       "      <td>border collie</td>\n",
       "      <td>european</td>\n",
       "      <td>mustang</td>\n",
       "    </tr>\n",
       "  </tbody>\n",
       "</table>\n",
       "</div>"
      ],
      "text/plain": [
       "                 dogs      cats      horses\n",
       "cute              pug   siamese     arabian\n",
       "strong       malinois   persian  andalusian\n",
       "smart   border collie  european     mustang"
      ]
     },
     "metadata": {},
     "output_type": "display_data"
    },
    {
     "name": "stdout",
     "output_type": "stream",
     "text": [
      "pug\n",
      "pug\n"
     ]
    }
   ],
   "source": [
    "# Pandas exploration methods => .loc[], .iloc[]\n",
    "\n",
    "breeds = {'dogs': ['pug', 'malinois', 'border collie'], \n",
    "          'cats': ['siamese', 'persian', 'european'], \n",
    "          'horses': ['arabian', 'andalusian', 'mustang']}\n",
    "df7 = pd.DataFrame(breeds)\n",
    "df7.index = ['cute', 'strong', 'smart']\n",
    "display(df7)\n",
    "\n",
    "df7.index\n",
    "\n",
    "print(df7.loc[\"cute\", 'dogs'])\n",
    "print(df7.iloc[0, 0])"
   ]
  },
  {
   "cell_type": "markdown",
   "id": "7371800b",
   "metadata": {},
   "source": [
    "More about `.loc[]` and `.iloc[]`: https://towardsdatascience.com/how-to-use-loc-and-iloc-for-selecting-data-in-pandas-bd09cb4c3d79"
   ]
  },
  {
   "cell_type": "markdown",
   "id": "1a549a5c",
   "metadata": {},
   "source": [
    "---"
   ]
  },
  {
   "cell_type": "code",
   "execution_count": 35,
   "id": "54e15e8e",
   "metadata": {},
   "outputs": [
    {
     "data": {
      "text/html": [
       "<div>\n",
       "<style scoped>\n",
       "    .dataframe tbody tr th:only-of-type {\n",
       "        vertical-align: middle;\n",
       "    }\n",
       "\n",
       "    .dataframe tbody tr th {\n",
       "        vertical-align: top;\n",
       "    }\n",
       "\n",
       "    .dataframe thead th {\n",
       "        text-align: right;\n",
       "    }\n",
       "</style>\n",
       "<table border=\"1\" class=\"dataframe\">\n",
       "  <thead>\n",
       "    <tr style=\"text-align: right;\">\n",
       "      <th></th>\n",
       "      <th>cute</th>\n",
       "      <th>strong</th>\n",
       "      <th>smart</th>\n",
       "    </tr>\n",
       "  </thead>\n",
       "  <tbody>\n",
       "    <tr>\n",
       "      <th>dogs</th>\n",
       "      <td>pug</td>\n",
       "      <td>malinois</td>\n",
       "      <td>border collie</td>\n",
       "    </tr>\n",
       "    <tr>\n",
       "      <th>cats</th>\n",
       "      <td>siamese</td>\n",
       "      <td>persian</td>\n",
       "      <td>european</td>\n",
       "    </tr>\n",
       "    <tr>\n",
       "      <th>horses</th>\n",
       "      <td>arabian</td>\n",
       "      <td>andalusian</td>\n",
       "      <td>mustang</td>\n",
       "    </tr>\n",
       "  </tbody>\n",
       "</table>\n",
       "</div>"
      ],
      "text/plain": [
       "           cute      strong          smart\n",
       "dogs        pug    malinois  border collie\n",
       "cats    siamese     persian       european\n",
       "horses  arabian  andalusian        mustang"
      ]
     },
     "execution_count": 35,
     "metadata": {},
     "output_type": "execute_result"
    }
   ],
   "source": [
    "# Pandas MORE exploration methods I\n",
    "\n",
    "df8 = df7.transpose()\n",
    "df8"
   ]
  },
  {
   "cell_type": "markdown",
   "id": "8ea16b5f",
   "metadata": {},
   "source": [
    "---"
   ]
  },
  {
   "cell_type": "code",
   "execution_count": 37,
   "id": "f0cc09c7",
   "metadata": {},
   "outputs": [],
   "source": [
    "# Pandas MORE exploration methods II\n",
    "\n",
    "#df9 = pd.read_csv('./datasets/mount_everest_deaths.csv', index_col='No.')\n",
    "#print(df9.shape)\n",
    "#df9.head()"
   ]
  },
  {
   "cell_type": "code",
   "execution_count": null,
   "id": "4752d316",
   "metadata": {},
   "outputs": [],
   "source": [
    "df9['Nationality'].value_counts()"
   ]
  },
  {
   "cell_type": "code",
   "execution_count": null,
   "id": "6e678173",
   "metadata": {},
   "outputs": [],
   "source": [
    "df9['Cause of death'].unique()"
   ]
  },
  {
   "cell_type": "code",
   "execution_count": null,
   "id": "268641f4",
   "metadata": {},
   "outputs": [],
   "source": [
    "df9.sort_values(by='Location')"
   ]
  },
  {
   "cell_type": "markdown",
   "id": "ab129246",
   "metadata": {},
   "source": [
    "---"
   ]
  },
  {
   "cell_type": "markdown",
   "id": "e99a7374",
   "metadata": {},
   "source": [
    "__To be continued...__"
   ]
  }
 ],
 "metadata": {
  "kernelspec": {
   "display_name": "Python [conda env:ironhack]",
   "language": "python",
   "name": "conda-env-ironhack-py"
  },
  "language_info": {
   "codemirror_mode": {
    "name": "ipython",
    "version": 3
   },
   "file_extension": ".py",
   "mimetype": "text/x-python",
   "name": "python",
   "nbconvert_exporter": "python",
   "pygments_lexer": "ipython3",
   "version": "3.7.11"
  }
 },
 "nbformat": 4,
 "nbformat_minor": 5
}
