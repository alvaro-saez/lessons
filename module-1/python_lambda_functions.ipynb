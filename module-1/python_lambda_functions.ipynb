{
 "cells": [
  {
   "cell_type": "markdown",
   "id": "b621af6c",
   "metadata": {},
   "source": [
    "# Lambda Functions\n",
    "\n",
    "- Is an Anonymous Function\n",
    "\n",
    "- Usually, is meant for one-time use.\n",
    "\n",
    "- Can have only One Expression."
   ]
  },
  {
   "cell_type": "code",
   "execution_count": 66,
   "id": "5e8f11a2",
   "metadata": {},
   "outputs": [],
   "source": [
    "# Function\n",
    "\n",
    "def currency_converter(amount, rate):\n",
    "    return amount * rate"
   ]
  },
  {
   "cell_type": "code",
   "execution_count": 67,
   "id": "22d25aae",
   "metadata": {},
   "outputs": [
    {
     "data": {
      "text/plain": [
       "440.0"
      ]
     },
     "execution_count": 67,
     "metadata": {},
     "output_type": "execute_result"
    }
   ],
   "source": [
    "euro_amount = 500\n",
    "current_rate = 0.88\n",
    "\n",
    "currency_converter(euro_amount, current_rate)"
   ]
  },
  {
   "cell_type": "markdown",
   "id": "69331a78",
   "metadata": {},
   "source": [
    "---"
   ]
  },
  {
   "cell_type": "code",
   "execution_count": 68,
   "id": "4c64437b",
   "metadata": {},
   "outputs": [],
   "source": [
    "# Lambda function\n",
    "\n",
    "lambda_converter = lambda amount, rate : amount * rate"
   ]
  },
  {
   "cell_type": "code",
   "execution_count": 69,
   "id": "98cf95e6",
   "metadata": {},
   "outputs": [
    {
     "data": {
      "text/plain": [
       "440.0"
      ]
     },
     "execution_count": 69,
     "metadata": {},
     "output_type": "execute_result"
    }
   ],
   "source": [
    "euro_amount = 500\n",
    "current_rate = 0.88\n",
    "\n",
    "lambda_converter(euro_amount, current_rate)"
   ]
  },
  {
   "cell_type": "markdown",
   "id": "c8027fde",
   "metadata": {},
   "source": [
    "---"
   ]
  },
  {
   "cell_type": "code",
   "execution_count": 70,
   "id": "237e2495",
   "metadata": {},
   "outputs": [],
   "source": [
    "# Lambda function with condition\n",
    "\n",
    "clever_converter = lambda amount, rate, bid : amount * rate if bid >= rate else \"I'm not interested\""
   ]
  },
  {
   "cell_type": "code",
   "execution_count": 71,
   "id": "4841948f",
   "metadata": {},
   "outputs": [
    {
     "data": {
      "text/plain": [
       "\"I'm not interested\""
      ]
     },
     "execution_count": 71,
     "metadata": {},
     "output_type": "execute_result"
    }
   ],
   "source": [
    "euro_amount = 500\n",
    "current_rate = 0.88\n",
    "offered_bid = 0.7\n",
    "\n",
    "clever_converter(euro_amount, current_rate, offered_bid)"
   ]
  },
  {
   "cell_type": "markdown",
   "id": "6c11c34f",
   "metadata": {},
   "source": [
    "---"
   ]
  },
  {
   "cell_type": "code",
   "execution_count": 87,
   "id": "13952984",
   "metadata": {},
   "outputs": [
    {
     "data": {
      "text/plain": [
       "[1606, 1538, 139, 691, 80, 763, 1882, 342, 1962, 273]"
      ]
     },
     "execution_count": 87,
     "metadata": {},
     "output_type": "execute_result"
    }
   ],
   "source": [
    "#ejercicio list comprehensions, NO lambda\n",
    "import random\n",
    "random_amounts = []\n",
    "for i in range(10):\n",
    "    random_amounts.append(random.randint(20,2000))\n",
    "    \n",
    "random_amounts\n",
    "\n",
    "#se puede hacer con una list comprehensions"
   ]
  },
  {
   "cell_type": "code",
   "execution_count": 88,
   "id": "23e271f5",
   "metadata": {},
   "outputs": [
    {
     "data": {
      "text/plain": [
       "[1238, 41, 1177, 1678, 1649, 1747, 1890, 1019, 1566, 485]"
      ]
     },
     "execution_count": 88,
     "metadata": {},
     "output_type": "execute_result"
    }
   ],
   "source": [
    "import random\n",
    "\n",
    "random_amounts = [random.randint(20, 2000) for i in range(10)]\n",
    "random_amounts"
   ]
  },
  {
   "cell_type": "code",
   "execution_count": 89,
   "id": "446f1d5d",
   "metadata": {},
   "outputs": [
    {
     "data": {
      "text/plain": [
       "[1089.44,\n",
       " 36.08,\n",
       " 1035.76,\n",
       " 1476.64,\n",
       " 1451.12,\n",
       " 1537.36,\n",
       " 1663.2,\n",
       " 896.72,\n",
       " 1378.08,\n",
       " 426.8]"
      ]
     },
     "execution_count": 89,
     "metadata": {},
     "output_type": "execute_result"
    }
   ],
   "source": [
    "#ejercicio list comprehensions Y lambda (random_amounts se pasa de lo anterior)\n",
    "final_random_amounts = [(lambda amount : round(amount * 0.88, 2))(amount) for amount in random_amounts]\n",
    "final_random_amounts"
   ]
  },
  {
   "cell_type": "code",
   "execution_count": 90,
   "id": "b7c250db",
   "metadata": {},
   "outputs": [],
   "source": [
    "#la siguiente funcion se divide de la siguiente manera"
   ]
  },
  {
   "cell_type": "code",
   "execution_count": 91,
   "id": "ae72e0d3",
   "metadata": {},
   "outputs": [],
   "source": [
    "def lambda_function(amount):\n",
    "    return round(amount * 0.88, 2)"
   ]
  },
  {
   "cell_type": "code",
   "execution_count": 92,
   "id": "4de62b0d",
   "metadata": {},
   "outputs": [],
   "source": [
    "#es igual a lo siguiente:\n",
    "lambda_function = lambda amount : round(amount * 0.88, 2)"
   ]
  },
  {
   "cell_type": "code",
   "execution_count": 96,
   "id": "37a53509",
   "metadata": {},
   "outputs": [
    {
     "data": {
      "text/plain": [
       "[1089.44,\n",
       " 36.08,\n",
       " 1035.76,\n",
       " 1476.64,\n",
       " 1451.12,\n",
       " 1537.36,\n",
       " 1663.2,\n",
       " 896.72,\n",
       " 1378.08,\n",
       " 426.8]"
      ]
     },
     "execution_count": 96,
     "metadata": {},
     "output_type": "execute_result"
    }
   ],
   "source": [
    "#resultado final \n",
    "lambda_function = lambda amount : round(amount * 0.88, 2)\n",
    "\n",
    "final_random_amounts = [lambda_function(amount) for amount in random_amounts]\n",
    "final_random_amounts"
   ]
  },
  {
   "cell_type": "code",
   "execution_count": 97,
   "id": "fd516300",
   "metadata": {},
   "outputs": [
    {
     "data": {
      "text/plain": [
       "[1089.44,\n",
       " 36.08,\n",
       " 1035.76,\n",
       " 1476.64,\n",
       " 1451.12,\n",
       " 1537.36,\n",
       " 1663.2,\n",
       " 896.72,\n",
       " 1378.08,\n",
       " 426.8]"
      ]
     },
     "execution_count": 97,
     "metadata": {},
     "output_type": "execute_result"
    }
   ],
   "source": [
    "#resultado final c\n",
    "final_random_amounts = [round(amount * 0.88, 2) for amount in random_amounts]\n",
    "final_random_amounts"
   ]
  },
  {
   "cell_type": "code",
   "execution_count": 48,
   "id": "2a6e3dc5",
   "metadata": {},
   "outputs": [],
   "source": [
    "def generate_range(lower):\n",
    "    return lambda upper: range(lower, upper)"
   ]
  },
  {
   "cell_type": "code",
   "execution_count": 54,
   "id": "cce3dcec",
   "metadata": {},
   "outputs": [
    {
     "data": {
      "text/plain": [
       "range(0, 10)"
      ]
     },
     "execution_count": 54,
     "metadata": {},
     "output_type": "execute_result"
    }
   ],
   "source": [
    "custom_range = generate_range(0)\n",
    "custom_range(10)"
   ]
  },
  {
   "cell_type": "code",
   "execution_count": 100,
   "id": "ff7b2822",
   "metadata": {},
   "outputs": [
    {
     "name": "stdout",
     "output_type": "stream",
     "text": [
      "[1, 4, 9, 16, 25, 36, 49, 64, 81]\n"
     ]
    }
   ],
   "source": [
    "square = lambda x: x * x # alamcenamos el valor de lambda en una var\n",
    "squared = [square(x) for x in range(1, 10)] #utilizamos esa var (que en realidad es una función) para la List Comprehensions\n",
    " \n",
    "print(squared)"
   ]
  },
  {
   "cell_type": "code",
   "execution_count": 101,
   "id": "212133e1",
   "metadata": {},
   "outputs": [
    {
     "name": "stdout",
     "output_type": "stream",
     "text": [
      "[1, 4, 9, 16, 25, 36, 49, 64, 81]\n"
     ]
    }
   ],
   "source": [
    "square = lambda x: x * x # alamcenamos el valor de lambda en una var\n",
    "squared = [(lambda x: x * x)(x) for x in range(1, 10)] #utilizamos esa var (que en realidad es una función) para la List Comprehensions\n",
    " \n",
    "print(squared)"
   ]
  },
  {
   "cell_type": "markdown",
   "id": "59c0a559",
   "metadata": {},
   "source": []
  },
  {
   "cell_type": "code",
   "execution_count": 126,
   "id": "67287f43",
   "metadata": {},
   "outputs": [
    {
     "name": "stdout",
     "output_type": "stream",
     "text": [
      "['Calclulus', 'Philosophy', 'Art History', 'Computer Science']\n"
     ]
    }
   ],
   "source": [
    "school_dash = ['Calclulus', 'Philosophy', 'Art-History', 'Computer-Science']\n",
    " \n",
    "school_space = [(lambda x: x.replace('-', ' '))(x) for x in school_dash]\n",
    " \n",
    "print(school_space)"
   ]
  },
  {
   "cell_type": "code",
   "execution_count": 127,
   "id": "aaafe3d9",
   "metadata": {},
   "outputs": [
    {
     "data": {
      "text/plain": [
       "['Art History', 'Calclulus', 'Computer Science', 'Philosophy']"
      ]
     },
     "execution_count": 127,
     "metadata": {},
     "output_type": "execute_result"
    }
   ],
   "source": [
    "sorted(school_space)"
   ]
  },
  {
   "cell_type": "code",
   "execution_count": 131,
   "id": "333ba1a7",
   "metadata": {},
   "outputs": [
    {
     "data": {
      "text/plain": [
       "['Computer Science', 'Calclulus', 'Philosophy', 'Art History']"
      ]
     },
     "execution_count": 131,
     "metadata": {},
     "output_type": "execute_result"
    }
   ],
   "source": [
    "#queremos ordenarlo por la última letra de cada elemento\n",
    "last = lambda x: x[-1]\n",
    "\n",
    " \n",
    "sorted(school_space, key=last)"
   ]
  },
  {
   "cell_type": "code",
   "execution_count": null,
   "id": "64fac8fb",
   "metadata": {},
   "outputs": [],
   "source": []
  }
 ],
 "metadata": {
  "kernelspec": {
   "display_name": "Python [conda env:ironhack]",
   "language": "python",
   "name": "conda-env-ironhack-py"
  },
  "language_info": {
   "codemirror_mode": {
    "name": "ipython",
    "version": 3
   },
   "file_extension": ".py",
   "mimetype": "text/x-python",
   "name": "python",
   "nbconvert_exporter": "python",
   "pygments_lexer": "ipython3",
   "version": "3.7.11"
  }
 },
 "nbformat": 4,
 "nbformat_minor": 5
}
