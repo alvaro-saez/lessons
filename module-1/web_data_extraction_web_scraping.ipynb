{
 "cells": [
  {
   "cell_type": "markdown",
   "id": "f8688f96",
   "metadata": {},
   "source": [
    "# Web Data Extraction - Part II\n",
    "\n",
    "__WEB SCRAPING:__ data extraction from human-readable output coming from a web browser.\n",
    "\n",
    "__HTTP library for Python:__ [BeautifulSoup](https://www.crummy.com/software/BeautifulSoup/bs4/doc/) ==> _a Python package for parsing HTML and XML documents_"
   ]
  },
  {
   "cell_type": "markdown",
   "id": "de8b386d",
   "metadata": {},
   "source": [
    "---"
   ]
  },
  {
   "cell_type": "code",
   "execution_count": 1,
   "id": "22d966a8",
   "metadata": {},
   "outputs": [],
   "source": [
    "# Import libraries\n",
    "import pandas as pd\n",
    "import requests\n",
    "import bs4   # !pip install beautifulsoup4\n",
    "import re"
   ]
  },
  {
   "cell_type": "markdown",
   "id": "6e0051ea",
   "metadata": {},
   "source": [
    "---"
   ]
  },
  {
   "cell_type": "code",
   "execution_count": 3,
   "id": "44e8c42b",
   "metadata": {},
   "outputs": [
    {
     "name": "stdout",
     "output_type": "stream",
     "text": [
      "Status code is: 200\n",
      "<class 'bytes'>\n"
     ]
    }
   ],
   "source": [
    "# DOM content\n",
    "headers = {'user-agent': 'Mozilla/5.0 (Windows NT 6.1; Win64; x64; rv:47.0) Gecko/20100101 Firefox/47.0'}\n",
    "# https://developer.mozilla.org/en-US/docs/Web/HTTP/Headers/User-Agent\n",
    "\n",
    "url = 'https://www.marca.com/'\n",
    "response = requests.get(url)#, headers=headers, timeout=0.05)\n",
    "html = response.content\n",
    "print(f'Status code is: {response.status_code}')\n",
    "print(type(html))"
   ]
  },
  {
   "cell_type": "code",
   "execution_count": 4,
   "id": "497907d8",
   "metadata": {},
   "outputs": [
    {
     "data": {
      "text/plain": [
       "b' <!DOCTYPE html><html lang=\"es\"><head><script>/\\\\/radio(\\\\/parrilla)?.html/gmi.test(location.href||\"\")&&/MSIE|Trident/gm.test(navigator.userAgent||\"\")&&!!window.MSInputMethodContext&&!!document.documentMode&&function(){var a=document.createElement(\"script\");a.src=\"//e00-elmundo.uecdn.es/js/ue-polyfills.min.js\",a.type=\"text/javascript\";var b=document.getElementsByTagName(\"script\")[0];b.parentNode.insertBefore(a,b)}();</script>\\n<script type=\"text/javascript\" language=\"javascript\" src=\"https://e00-ue.uecdn.es/cookies/js/policy_v4.js\"></script>\\n<script>window.googlefc=window.googlefc||{},window.googlefc.callbackQueue=window.googlefc.callbackQueue||[],googlefc.controlledMessagingFunction=function(b){var a=!1;try{if(/https?:\\\\/\\\\/(www.marca.com(\\\\/claro-mx|\\\\/en)?|(us|co|ar).marca.com\\\\/claro)\\\\/$/.test(window.location.origin+window.location.pathname))console.log(\"GFC in homepage\"),a=!1;else{var c=function(a){var b=document.cookie.match(\"(^|;) ?\"+a+\"=([^;]*)(;|$)\");return b?b[2]:null},d=c(\"REGMARCA\"'"
      ]
     },
     "execution_count": 4,
     "metadata": {},
     "output_type": "execute_result"
    }
   ],
   "source": [
    "html[:1000]"
   ]
  },
  {
   "cell_type": "markdown",
   "id": "e337b020",
   "metadata": {},
   "source": [
    "---"
   ]
  },
  {
   "cell_type": "markdown",
   "id": "4514b76d",
   "metadata": {},
   "source": [
    "__Lets make some broth...__\n",
    "\n",
    "![Image](./img/web_data_01.png)"
   ]
  },
  {
   "cell_type": "code",
   "execution_count": 6,
   "id": "6f3f019c",
   "metadata": {},
   "outputs": [
    {
     "name": "stdout",
     "output_type": "stream",
     "text": [
      "<class 'bs4.BeautifulSoup'>\n"
     ]
    },
    {
     "data": {
      "text/plain": [
       "<a class=\"intro\" href=\"url.com\" id=\"example\" itemprop=\"url\" title=\"Web Scraping\">Hello World</a>"
      ]
     },
     "execution_count": 6,
     "metadata": {},
     "output_type": "execute_result"
    }
   ],
   "source": [
    "html_sample = '<a href=\"url.com\" title=\"Web Scraping\" itemprop=\"url\" id=\"example\" class=\"intro\">Hello World</a>' #paso1\n",
    "broth = bs4.BeautifulSoup(html_sample, \"html.parser\") #paso2, lo parseo\n",
    "print(type(broth))\n",
    "broth"
   ]
  },
  {
   "cell_type": "code",
   "execution_count": 7,
   "id": "dfcc14d3",
   "metadata": {},
   "outputs": [
    {
     "name": "stdout",
     "output_type": "stream",
     "text": [
      "<class 'bs4.element.Tag'>\n"
     ]
    },
    {
     "data": {
      "text/plain": [
       "<a class=\"intro\" href=\"url.com\" id=\"example\" itemprop=\"url\" title=\"Web Scraping\">Hello World</a>"
      ]
     },
     "execution_count": 7,
     "metadata": {},
     "output_type": "execute_result"
    }
   ],
   "source": [
    "tag = broth.a #paso 3 creo la var tag\n",
    "print(type(tag))\n",
    "tag"
   ]
  },
  {
   "cell_type": "code",
   "execution_count": 8,
   "id": "300510fd",
   "metadata": {},
   "outputs": [
    {
     "data": {
      "text/plain": [
       "'a'"
      ]
     },
     "execution_count": 8,
     "metadata": {},
     "output_type": "execute_result"
    }
   ],
   "source": [
    "tag.name\n",
    "#tag.name = 'b'\n",
    "#tag.name"
   ]
  },
  {
   "cell_type": "code",
   "execution_count": 9,
   "id": "96033441",
   "metadata": {},
   "outputs": [
    {
     "data": {
      "text/plain": [
       "{'href': 'url.com',\n",
       " 'title': 'Web Scraping',\n",
       " 'itemprop': 'url',\n",
       " 'id': 'example',\n",
       " 'class': ['intro']}"
      ]
     },
     "execution_count": 9,
     "metadata": {},
     "output_type": "execute_result"
    }
   ],
   "source": [
    "tag.attrs"
   ]
  },
  {
   "cell_type": "code",
   "execution_count": 10,
   "id": "1aa6c504",
   "metadata": {},
   "outputs": [
    {
     "data": {
      "text/plain": [
       "['intro']"
      ]
     },
     "execution_count": 10,
     "metadata": {},
     "output_type": "execute_result"
    }
   ],
   "source": [
    "tag['class']"
   ]
  },
  {
   "cell_type": "code",
   "execution_count": 11,
   "id": "093ca3ba",
   "metadata": {},
   "outputs": [
    {
     "data": {
      "text/plain": [
       "'Hello World'"
      ]
     },
     "execution_count": 11,
     "metadata": {},
     "output_type": "execute_result"
    }
   ],
   "source": [
    "tag.string"
   ]
  },
  {
   "cell_type": "code",
   "execution_count": 13,
   "id": "38ec9e8c",
   "metadata": {},
   "outputs": [
    {
     "data": {
      "text/plain": [
       "'[document]'"
      ]
     },
     "execution_count": 13,
     "metadata": {},
     "output_type": "execute_result"
    }
   ],
   "source": [
    "broth.name"
   ]
  },
  {
   "cell_type": "markdown",
   "id": "098f470e",
   "metadata": {},
   "source": [
    "---"
   ]
  },
  {
   "cell_type": "markdown",
   "id": "5a9fe7e1",
   "metadata": {},
   "source": [
    "__Now, let's make some soup...__ find_all()"
   ]
  },
  {
   "cell_type": "code",
   "execution_count": 14,
   "id": "c85dd747",
   "metadata": {},
   "outputs": [
    {
     "name": "stdout",
     "output_type": "stream",
     "text": [
      "<class 'bs4.BeautifulSoup'>\n"
     ]
    },
    {
     "data": {
      "text/plain": [
       "\n",
       "<html><head><title>The Dormouse's story</title></head>\n",
       "<body>\n",
       "<p class=\"title\"><b>The Dormouse's story</b></p>\n",
       "<p class=\"story\">Once upon a time there were three little sisters; and their names were\n",
       "<a class=\"sister\" href=\"http://example.com/elsie\" id=\"link1\">Elsie</a>,\n",
       "<a class=\"sister\" href=\"http://example.com/lacie\" id=\"link2\">Lacie</a> and\n",
       "<a class=\"sister\" href=\"http://example.com/tillie\" id=\"link3\">Tillie</a>;\n",
       "and they lived at the bottom of a well.</p>\n",
       "<p class=\"story\">...</p>\n",
       "</body></html>"
      ]
     },
     "execution_count": 14,
     "metadata": {},
     "output_type": "execute_result"
    }
   ],
   "source": [
    "html_doc = \"\"\"\n",
    "<html><head><title>The Dormouse's story</title></head>\n",
    "<body>\n",
    "<p class=\"title\"><b>The Dormouse's story</b></p>\n",
    "\n",
    "<p class=\"story\">Once upon a time there were three little sisters; and their names were\n",
    "<a href=\"http://example.com/elsie\" class=\"sister\" id=\"link1\">Elsie</a>,\n",
    "<a href=\"http://example.com/lacie\" class=\"sister\" id=\"link2\">Lacie</a> and\n",
    "<a href=\"http://example.com/tillie\" class=\"sister\" id=\"link3\">Tillie</a>;\n",
    "and they lived at the bottom of a well.</p>\n",
    "\n",
    "<p class=\"story\">...</p>\n",
    "\"\"\"\n",
    "soup = bs4.BeautifulSoup(html_doc, \"html.parser\") \n",
    "print(type(soup))\n",
    "soup"
   ]
  },
  {
   "cell_type": "code",
   "execution_count": 15,
   "id": "beee4953",
   "metadata": {
    "scrolled": true
   },
   "outputs": [
    {
     "name": "stdout",
     "output_type": "stream",
     "text": [
      "<class 'bs4.element.Tag'>\n"
     ]
    },
    {
     "data": {
      "text/plain": [
       "<html><head><title>The Dormouse's story</title></head>\n",
       "<body>\n",
       "<p class=\"title\"><b>The Dormouse's story</b></p>\n",
       "<p class=\"story\">Once upon a time there were three little sisters; and their names were\n",
       "<a class=\"sister\" href=\"http://example.com/elsie\" id=\"link1\">Elsie</a>,\n",
       "<a class=\"sister\" href=\"http://example.com/lacie\" id=\"link2\">Lacie</a> and\n",
       "<a class=\"sister\" href=\"http://example.com/tillie\" id=\"link3\">Tillie</a>;\n",
       "and they lived at the bottom of a well.</p>\n",
       "<p class=\"story\">...</p>\n",
       "</body></html>"
      ]
     },
     "execution_count": 15,
     "metadata": {},
     "output_type": "execute_result"
    }
   ],
   "source": [
    "print(type(soup.html))\n",
    "soup.html # soup.find('html')"
   ]
  },
  {
   "cell_type": "code",
   "execution_count": 16,
   "id": "17382032",
   "metadata": {},
   "outputs": [
    {
     "name": "stdout",
     "output_type": "stream",
     "text": [
      "<class 'bs4.element.ResultSet'>\n"
     ]
    },
    {
     "data": {
      "text/plain": [
       "[<a class=\"sister\" href=\"http://example.com/elsie\" id=\"link1\">Elsie</a>,\n",
       " <a class=\"sister\" href=\"http://example.com/lacie\" id=\"link2\">Lacie</a>,\n",
       " <a class=\"sister\" href=\"http://example.com/tillie\" id=\"link3\">Tillie</a>]"
      ]
     },
     "execution_count": 16,
     "metadata": {},
     "output_type": "execute_result"
    }
   ],
   "source": [
    "print(type(soup.find_all('a')))\n",
    "soup.find_all('a')\n",
    "#soup.find_all([\"a\", \"b\"])"
   ]
  },
  {
   "cell_type": "code",
   "execution_count": 17,
   "id": "754ded22",
   "metadata": {},
   "outputs": [
    {
     "name": "stdout",
     "output_type": "stream",
     "text": [
      "<class 'list'>\n"
     ]
    },
    {
     "data": {
      "text/plain": [
       "['html', 'head', 'title', 'body', 'p', 'b', 'p', 'a', 'a', 'a', 'p']"
      ]
     },
     "execution_count": 17,
     "metadata": {},
     "output_type": "execute_result"
    }
   ],
   "source": [
    "all_tags = [tag.name for tag in soup.find_all(True)]\n",
    "print(type(all_tags))\n",
    "all_tags"
   ]
  },
  {
   "cell_type": "code",
   "execution_count": 18,
   "id": "d6bf94d5",
   "metadata": {},
   "outputs": [
    {
     "data": {
      "text/plain": [
       "['body', 'b']"
      ]
     },
     "execution_count": 18,
     "metadata": {},
     "output_type": "execute_result"
    }
   ],
   "source": [
    "some_tags = [tag.name for tag in soup.find_all(re.compile(\"^b\"))]\n",
    "some_tags"
   ]
  },
  {
   "cell_type": "code",
   "execution_count": 19,
   "id": "7007c557",
   "metadata": {},
   "outputs": [],
   "source": [
    "# Using a function\n",
    "def has_class_but_no_id(tag):\n",
    "    return tag.has_attr('class') and not tag.has_attr('id')"
   ]
  },
  {
   "cell_type": "code",
   "execution_count": 20,
   "id": "3ea6c68f",
   "metadata": {},
   "outputs": [
    {
     "data": {
      "text/plain": [
       "[<p class=\"title\"><b>The Dormouse's story</b></p>,\n",
       " <p class=\"story\">Once upon a time there were three little sisters; and their names were\n",
       " <a class=\"sister\" href=\"http://example.com/elsie\" id=\"link1\">Elsie</a>,\n",
       " <a class=\"sister\" href=\"http://example.com/lacie\" id=\"link2\">Lacie</a> and\n",
       " <a class=\"sister\" href=\"http://example.com/tillie\" id=\"link3\">Tillie</a>;\n",
       " and they lived at the bottom of a well.</p>,\n",
       " <p class=\"story\">...</p>]"
      ]
     },
     "execution_count": 20,
     "metadata": {},
     "output_type": "execute_result"
    }
   ],
   "source": [
    "soup.find_all(has_class_but_no_id)"
   ]
  },
  {
   "cell_type": "markdown",
   "id": "3ac6dbb1",
   "metadata": {},
   "source": [
    "---"
   ]
  },
  {
   "cell_type": "markdown",
   "id": "80ce0d8c",
   "metadata": {},
   "source": [
    "__Finally, let's make a stew...__"
   ]
  },
  {
   "cell_type": "code",
   "execution_count": 21,
   "id": "ae75b394",
   "metadata": {},
   "outputs": [
    {
     "data": {
      "text/plain": [
       "[<a class=\"sister\" href=\"http://example.com/elsie\" id=\"link1\">Elsie</a>,\n",
       " <a class=\"sister\" href=\"http://example.com/lacie\" id=\"link2\">Lacie</a>,\n",
       " <a class=\"sister\" href=\"http://example.com/tillie\" id=\"link3\">Tillie</a>]"
      ]
     },
     "execution_count": 21,
     "metadata": {},
     "output_type": "execute_result"
    }
   ],
   "source": [
    "stew = soup.find_all(\"a\", {\"class\": \"sister\"})\n",
    "stew"
   ]
  },
  {
   "cell_type": "code",
   "execution_count": 22,
   "id": "2fe28033",
   "metadata": {},
   "outputs": [
    {
     "data": {
      "text/plain": [
       "['Elsie', 'Lacie', 'Tillie']"
      ]
     },
     "execution_count": 22,
     "metadata": {},
     "output_type": "execute_result"
    }
   ],
   "source": [
    "all_strings = [tag.string for tag in stew]\n",
    "all_strings"
   ]
  },
  {
   "cell_type": "markdown",
   "id": "a433c275",
   "metadata": {},
   "source": [
    "---"
   ]
  },
  {
   "cell_type": "markdown",
   "id": "7e990515",
   "metadata": {},
   "source": [
    "__Back to the original HTML content...__"
   ]
  },
  {
   "cell_type": "code",
   "execution_count": 24,
   "id": "7edc2255",
   "metadata": {},
   "outputs": [
    {
     "data": {
      "text/plain": [
       "{'a',\n",
       " 'address',\n",
       " 'article',\n",
       " 'aside',\n",
       " 'body',\n",
       " 'button',\n",
       " 'circle',\n",
       " 'div',\n",
       " 'fieldset',\n",
       " 'figure',\n",
       " 'footer',\n",
       " 'form',\n",
       " 'g',\n",
       " 'h1',\n",
       " 'h2',\n",
       " 'h3',\n",
       " 'head',\n",
       " 'header',\n",
       " 'html',\n",
       " 'i',\n",
       " 'iframe',\n",
       " 'img',\n",
       " 'input',\n",
       " 'label',\n",
       " 'legend',\n",
       " 'li',\n",
       " 'link',\n",
       " 'main',\n",
       " 'meta',\n",
       " 'nav',\n",
       " 'noscript',\n",
       " 'p',\n",
       " 'path',\n",
       " 'picture',\n",
       " 'polygon',\n",
       " 'polyline',\n",
       " 'rect',\n",
       " 'script',\n",
       " 'section',\n",
       " 'source',\n",
       " 'span',\n",
       " 'strong',\n",
       " 'style',\n",
       " 'svg',\n",
       " 'time',\n",
       " 'title',\n",
       " 'ue-sport-events-carousel',\n",
       " 'ul'}"
      ]
     },
     "execution_count": 24,
     "metadata": {},
     "output_type": "execute_result"
    }
   ],
   "source": [
    "parsed_html = bs4.BeautifulSoup(html, \"html.parser\")\n",
    "parsed_tags = set([tag.name for tag in parsed_html.find_all(True)]) #para que solo te saque los elementos unicos\n",
    "parsed_tags"
   ]
  },
  {
   "cell_type": "code",
   "execution_count": 34,
   "id": "93513017",
   "metadata": {},
   "outputs": [
    {
     "name": "stdout",
     "output_type": "stream",
     "text": [
      "<a href=\"https://www.marca.com/futbol/barcelona/2021/12/11/61b327edca47415c588b45c5.html\" itemprop=\"url\" title=\"Quedan señalados\"> Quedan señalados\n",
      "</a>\n"
     ]
    },
    {
     "data": {
      "text/plain": [
       "[{'href': 'https://www.marca.com/futbol/barcelona/2021/12/11/61b327edca47415c588b45c5.html',\n",
       "  'title': 'Quedan señalados',\n",
       "  'itemprop': 'url'},\n",
       " {'href': 'https://www.marca.com/motor/formula1/gp-abu-dhabi/2021/12/11/61b47b4646163f98498b45ad.html',\n",
       "  'title': 'Hamilton y Verstappen esconden sus cartas',\n",
       "  'itemprop': 'url'},\n",
       " {'href': 'https://www.marca.com/futbol/real-madrid/2021/12/11/61b23c9be2704e2e728b4619.html',\n",
       "  'title': 'Así ficha el Madrid',\n",
       "  'itemprop': 'url'},\n",
       " {'href': 'https://www.marca.com/motor/formula1/gp-abu-dhabi/2021/12/11/61b45a1246163f0a9d8b45e6.html',\n",
       "  'title': 'La F1 se rinde a Sainz y bendice el regreso de Alonso',\n",
       "  'itemprop': 'url'},\n",
       " {'href': 'https://www.marca.com/baloncesto/nba/2021/12/11/61b4630b268e3e51168b45ab.html',\n",
       "  'title': 'La versión más bestial de Antetokounmpo: acabará siendo el logo de los Bucks',\n",
       "  'itemprop': 'url'},\n",
       " {'href': 'https://noesfutboleslaliga.marca.com/directos-al-futuro/un-nuevo-impulso-para-el-futuro-del-futbol-profesional-espanol',\n",
       "  'rel': ['sponsored'],\n",
       "  'itemprop': 'url'},\n",
       " {'href': 'https://www.marca.com/futbol/bundesliga/2021/12/11/61b4707ce2704ed1678b459d.html',\n",
       "  'title': 'Nagelsmann explica por qué rechazó al Madrid',\n",
       "  'itemprop': 'url'},\n",
       " {'href': 'https://www.marca.com/baloncesto/nba/2021/12/11/61b442d5268e3e99198b458c.html',\n",
       "  'title': \"La 'venganza' de Ricky en Minnesota\",\n",
       "  'itemprop': 'url'},\n",
       " {'href': 'https://www.marca.com/ajedrez/2021/12/11/61b470e7e2704e1ab38b45f7.html',\n",
       "  'title': 'El reinado de Carlsen: ¿quién podrá acabar con su aura de invencibilidad?',\n",
       "  'itemprop': 'url'},\n",
       " {'href': 'https://leyendas.marca.com/sainz/sainz-o-el-caracter-que-forjo-a-un-numero.html',\n",
       "  'title': 'Sainz o el carácter que forjó a un Número 1',\n",
       "  'itemprop': 'url'},\n",
       " {'href': 'https://www.marca.com/tiramillas/actualidad/2021/12/11/61b46168ca4741646e8b4591.html',\n",
       "  'title': 'Rifirrafe entre Santiago Abascal y Mariano Rajoy: \"Ningún elector normal...\"',\n",
       "  'itemprop': 'url'},\n",
       " {'href': 'https://www.marca.com/futbol/valencia/2021/12/11/61b4682f22601dd41d8b460b.html',\n",
       "  'title': 'Valencia se echa a la calle contra Lim: ¡Más de 10.000 personas protestan contra el dirigente!',\n",
       "  'itemprop': 'url'},\n",
       " {'href': 'https://videos.marca.com/v/0_yf8wfizg-la-opinion-de-este-aficionado-del-barca-si-es-que-tampoco-vamos-a-ganar-la-europa-league?uetv_pl=0&count=0',\n",
       "  'title': 'La radical opinión de este culé que dolerá al barcelonismo',\n",
       "  'itemprop': 'url'},\n",
       " {'href': 'https://www.marca.com/futbol/premier-league/2021/12/11/61b3ab22e2704e4d478b4614.html',\n",
       "  'title': 'Gerrard vuelve a Anfield: \"Puede que se escuche más su nombre que el de Klopp\"',\n",
       "  'itemprop': 'url'},\n",
       " {'href': 'https://www.marca.com/futbol/real-madrid/2021/12/11/61b47c93ca474123168b459a.html',\n",
       "  'title': 'Benzema apunta al derbi',\n",
       "  'itemprop': 'url'},\n",
       " {'href': 'https://www.marca.com/apuestas-deportivas.html',\n",
       "  'title': 'Descubre la mejor información de apuestas deportivas',\n",
       "  'itemprop': 'url'},\n",
       " {'href': 'https://www.marca.com/tiramillas/television/2021/12/11/61b45cf2ca474124448b45fa.html',\n",
       "  'itemprop': 'url'},\n",
       " {'href': 'https://www.marca.com/futbol/primera-division/mallorca-vs-celta/cronica/2021/12/10/61b3bfa8e2704ed8208b45d5.html',\n",
       "  'title': 'Un vendaval anula al Mallorca y al Celta',\n",
       "  'itemprop': 'url'},\n",
       " {'href': 'https://www.marca.com/laliga-fantasy/2021/12/09/61b27be6e2704e56278b4585.html',\n",
       "  'title': 'Duelo de Zamoras en un derbi Fantasy con premios',\n",
       "  'itemprop': 'url'},\n",
       " {'href': 'https://www.marca.com/regalos-promociones/2021/12/11/61b341fd22601d9f218b460d.html',\n",
       "  'title': 'Una camiseta Helly Hansen al 44%, un electroestimulador al 60% y otros chollos de Amazon',\n",
       "  'itemprop': 'url'},\n",
       " {'href': 'https://cuidateplus.marca.com/bienestar/2021/12/09/cuesta-amigos-adultos-179369.html?intcmp=MODNOT01',\n",
       "  'title': '¿Por qué nos cuesta tanto hacer amigos cuando somos adultos?',\n",
       "  'itemprop': 'url'},\n",
       " {'href': 'https://www.marca.com/videojuegos/playstation/2021/12/10/61b3896e268e3ee5688b4579.html',\n",
       "  'title': 'Vinícius Junior, POTM de noviembre de LaLiga en FIFA 22 y solución barata a su SBC',\n",
       "  'itemprop': 'url'},\n",
       " {'href': 'https://www.marca.com/baloncesto/nba/2021/12/11/61b46a2d268e3e8d668b45ed.html',\n",
       "  'title': \"Gasol 'vuelve' a la NBA: Se une a las leyendas para un spot muy especial\",\n",
       "  'itemprop': 'url'},\n",
       " {'href': 'https://www.marca.com/motor/formula1/gp-abu-dhabi/2021/12/11/61b46f8be2704e8fa38b460e.html',\n",
       "  'title': 'Ricciardo entra en El Plan de Alonso',\n",
       "  'itemprop': 'url'},\n",
       " {'href': 'https://videos.marca.com/v/0_b8lk3uqv-otra-nueva-bronca-sobre-el-hielo-dantesco-espectaculo?uetv_pl=otros-deportes&count=0',\n",
       "  'title': 'Otra nueva bronca sobre el hielo: ¡Dantesco espectáculo!',\n",
       "  'itemprop': 'url'},\n",
       " {'href': 'https://www.marca.com/baloncesto/nba/2021/12/11/61b45243268e3ecd578b45c1.html',\n",
       "  'title': 'Los Mavericks \"apestan\" en Indiana pese a que Doncic roza el triple-doble',\n",
       "  'itemprop': 'url'},\n",
       " {'href': 'https://www.marca.com/tiramillas/television/2021/12/11/61b46bc0ca47410d5e8b4613.html',\n",
       "  'title': 'Marta López le estaría poniendo los cuernos a su novio con un conocido personaje',\n",
       "  'itemprop': 'url'},\n",
       " {'href': 'https://www.marca.com/tiramillas/actualidad/2021/12/11/61b4782b268e3ebf178b4572.html',\n",
       "  'title': '\"Mis amigas cuando vieron que me liaba con Risto y pensaron que nos lo pagaría todo...\"',\n",
       "  'itemprop': 'url'},\n",
       " {'href': 'https://www.marca.com/tiramillas/musica/2021/12/10/61b2f06046163f82b88b456e.html',\n",
       "  'title': 'El rapero Slim 400 muere tiroteado en Los Ángeles: el escalofriante vídeo de su asesinato',\n",
       "  'itemprop': 'url'},\n",
       " {'href': 'https://www.marca.com/tiramillas/television/2021/12/10/61b2f92346163f988d8b4586.html',\n",
       "  'title': \"El cabreo de Puri eclipsa a la cita más sucia y morbosa de 'First Dates'\",\n",
       "  'itemprop': 'url'},\n",
       " {'href': 'https://videos.marca.com/v/0_qs1xp252-guardiola-corta-a-un-periodista-por-su-pregunta-sobre-haaland-y-su-agente-raiola?uetv_pl=futbol&count=0?cid=MARCATV001&s_kw=titular',\n",
       "  'title': 'La desternillante broma de Klopp sobre Gerrard en rueda de prensa: \"Antes de nada...\"',\n",
       "  'itemprop': 'url'},\n",
       " {'href': 'https://videos.marca.com/v/0_8nqjibou-el-gesto-de-raiola-al-nombrar-al-barca-entre-los-pretendientes-para-haaland-que-explica-su-situacion?uetv_pl=futbol&count=0?cid=MARCATV001&s_kw=titular',\n",
       "  'title': 'El gesto de Raiola al nombrar al Barça entre los pretendientes para Haaland que muestra su situación',\n",
       "  'itemprop': 'url'},\n",
       " {'href': 'https://videos.marca.com/v/0_xraxkopm-el-doble-de-messi-experto-en-coronavirus-que-causa-furor-en-francia?uetv_pl=futbol&count=0?cid=MARCATV001&s_kw=titular',\n",
       "  'title': '\"El doble de Messi experto en coronavirus que causa furor en Francia\"',\n",
       "  'itemprop': 'url'},\n",
       " {'href': 'https://www.marca.com/coches-y-motos/trafico/2021/12/09/61b226e846163fb2728b45db.html',\n",
       "  'title': 'Hoy empiezan las multas en Madrid Central: estos son los coches que no pueden entrar',\n",
       "  'itemprop': 'url'},\n",
       " {'href': 'https://www.marca.com/apuestas-deportivas/datos/2021/12/11/61b48b9222601dd41d8b4614.html',\n",
       "  'title': 'Vinicius y Lemar, los llamados a ser decisivos en el derbi según la Inteligencia Artificial',\n",
       "  'itemprop': 'url'},\n",
       " {'href': 'https://www.marca.com/ciclismo/2021/12/11/61b4709446163f2a078b458d.html',\n",
       "  'title': 'Groenewegen y Jumbo separan sorprendentemente sus caminos',\n",
       "  'itemprop': 'url'},\n",
       " {'href': 'https://www.marca.com/apuestas-deportivas/datos/2021/12/11/61b357a8ca4741f1428b45e3.html',\n",
       "  'title': \"El Sadar, ¿'bueno' para el Barcelona?\",\n",
       "  'itemprop': 'url'}]"
      ]
     },
     "execution_count": 34,
     "metadata": {},
     "output_type": "execute_result"
    }
   ],
   "source": [
    "element = parsed_html.find_all(\"a\", {\"itemprop\": \"url\"})\n",
    "print(element[0])\n",
    "element[0]['title']\n",
    "links = [tag.attrs for tag in element]\n",
    "links"
   ]
  },
  {
   "cell_type": "code",
   "execution_count": 35,
   "id": "241dcf40",
   "metadata": {},
   "outputs": [
    {
     "data": {
      "text/html": [
       "<div>\n",
       "<style scoped>\n",
       "    .dataframe tbody tr th:only-of-type {\n",
       "        vertical-align: middle;\n",
       "    }\n",
       "\n",
       "    .dataframe tbody tr th {\n",
       "        vertical-align: top;\n",
       "    }\n",
       "\n",
       "    .dataframe thead th {\n",
       "        text-align: right;\n",
       "    }\n",
       "</style>\n",
       "<table border=\"1\" class=\"dataframe\">\n",
       "  <thead>\n",
       "    <tr style=\"text-align: right;\">\n",
       "      <th></th>\n",
       "      <th>title</th>\n",
       "      <th>href</th>\n",
       "      <th>itemprop</th>\n",
       "      <th>rel</th>\n",
       "    </tr>\n",
       "  </thead>\n",
       "  <tbody>\n",
       "    <tr>\n",
       "      <th>0</th>\n",
       "      <td>Quedan señalados</td>\n",
       "      <td>https://www.marca.com/futbol/barcelona/2021/12...</td>\n",
       "      <td>url</td>\n",
       "      <td>NaN</td>\n",
       "    </tr>\n",
       "    <tr>\n",
       "      <th>1</th>\n",
       "      <td>Hamilton y Verstappen esconden sus cartas</td>\n",
       "      <td>https://www.marca.com/motor/formula1/gp-abu-dh...</td>\n",
       "      <td>url</td>\n",
       "      <td>NaN</td>\n",
       "    </tr>\n",
       "    <tr>\n",
       "      <th>2</th>\n",
       "      <td>Así ficha el Madrid</td>\n",
       "      <td>https://www.marca.com/futbol/real-madrid/2021/...</td>\n",
       "      <td>url</td>\n",
       "      <td>NaN</td>\n",
       "    </tr>\n",
       "    <tr>\n",
       "      <th>3</th>\n",
       "      <td>La F1 se rinde a Sainz y bendice el regreso de...</td>\n",
       "      <td>https://www.marca.com/motor/formula1/gp-abu-dh...</td>\n",
       "      <td>url</td>\n",
       "      <td>NaN</td>\n",
       "    </tr>\n",
       "    <tr>\n",
       "      <th>4</th>\n",
       "      <td>La versión más bestial de Antetokounmpo: acaba...</td>\n",
       "      <td>https://www.marca.com/baloncesto/nba/2021/12/1...</td>\n",
       "      <td>url</td>\n",
       "      <td>NaN</td>\n",
       "    </tr>\n",
       "    <tr>\n",
       "      <th>5</th>\n",
       "      <td>NaN</td>\n",
       "      <td>https://noesfutboleslaliga.marca.com/directos-...</td>\n",
       "      <td>url</td>\n",
       "      <td>[sponsored]</td>\n",
       "    </tr>\n",
       "    <tr>\n",
       "      <th>6</th>\n",
       "      <td>Nagelsmann explica por qué rechazó al Madrid</td>\n",
       "      <td>https://www.marca.com/futbol/bundesliga/2021/1...</td>\n",
       "      <td>url</td>\n",
       "      <td>NaN</td>\n",
       "    </tr>\n",
       "    <tr>\n",
       "      <th>7</th>\n",
       "      <td>La 'venganza' de Ricky en Minnesota</td>\n",
       "      <td>https://www.marca.com/baloncesto/nba/2021/12/1...</td>\n",
       "      <td>url</td>\n",
       "      <td>NaN</td>\n",
       "    </tr>\n",
       "    <tr>\n",
       "      <th>8</th>\n",
       "      <td>El reinado de Carlsen: ¿quién podrá acabar con...</td>\n",
       "      <td>https://www.marca.com/ajedrez/2021/12/11/61b47...</td>\n",
       "      <td>url</td>\n",
       "      <td>NaN</td>\n",
       "    </tr>\n",
       "    <tr>\n",
       "      <th>9</th>\n",
       "      <td>Sainz o el carácter que forjó a un Número 1</td>\n",
       "      <td>https://leyendas.marca.com/sainz/sainz-o-el-ca...</td>\n",
       "      <td>url</td>\n",
       "      <td>NaN</td>\n",
       "    </tr>\n",
       "    <tr>\n",
       "      <th>10</th>\n",
       "      <td>Rifirrafe entre Santiago Abascal y Mariano Raj...</td>\n",
       "      <td>https://www.marca.com/tiramillas/actualidad/20...</td>\n",
       "      <td>url</td>\n",
       "      <td>NaN</td>\n",
       "    </tr>\n",
       "    <tr>\n",
       "      <th>11</th>\n",
       "      <td>Valencia se echa a la calle contra Lim: ¡Más d...</td>\n",
       "      <td>https://www.marca.com/futbol/valencia/2021/12/...</td>\n",
       "      <td>url</td>\n",
       "      <td>NaN</td>\n",
       "    </tr>\n",
       "    <tr>\n",
       "      <th>12</th>\n",
       "      <td>La radical opinión de este culé que dolerá al ...</td>\n",
       "      <td>https://videos.marca.com/v/0_yf8wfizg-la-opini...</td>\n",
       "      <td>url</td>\n",
       "      <td>NaN</td>\n",
       "    </tr>\n",
       "    <tr>\n",
       "      <th>13</th>\n",
       "      <td>Gerrard vuelve a Anfield: \"Puede que se escuch...</td>\n",
       "      <td>https://www.marca.com/futbol/premier-league/20...</td>\n",
       "      <td>url</td>\n",
       "      <td>NaN</td>\n",
       "    </tr>\n",
       "    <tr>\n",
       "      <th>14</th>\n",
       "      <td>Benzema apunta al derbi</td>\n",
       "      <td>https://www.marca.com/futbol/real-madrid/2021/...</td>\n",
       "      <td>url</td>\n",
       "      <td>NaN</td>\n",
       "    </tr>\n",
       "    <tr>\n",
       "      <th>15</th>\n",
       "      <td>Descubre la mejor información de apuestas depo...</td>\n",
       "      <td>https://www.marca.com/apuestas-deportivas.html</td>\n",
       "      <td>url</td>\n",
       "      <td>NaN</td>\n",
       "    </tr>\n",
       "    <tr>\n",
       "      <th>16</th>\n",
       "      <td>NaN</td>\n",
       "      <td>https://www.marca.com/tiramillas/television/20...</td>\n",
       "      <td>url</td>\n",
       "      <td>NaN</td>\n",
       "    </tr>\n",
       "    <tr>\n",
       "      <th>17</th>\n",
       "      <td>Un vendaval anula al Mallorca y al Celta</td>\n",
       "      <td>https://www.marca.com/futbol/primera-division/...</td>\n",
       "      <td>url</td>\n",
       "      <td>NaN</td>\n",
       "    </tr>\n",
       "    <tr>\n",
       "      <th>18</th>\n",
       "      <td>Duelo de Zamoras en un derbi Fantasy con premios</td>\n",
       "      <td>https://www.marca.com/laliga-fantasy/2021/12/0...</td>\n",
       "      <td>url</td>\n",
       "      <td>NaN</td>\n",
       "    </tr>\n",
       "    <tr>\n",
       "      <th>19</th>\n",
       "      <td>Una camiseta Helly Hansen al 44%, un electroes...</td>\n",
       "      <td>https://www.marca.com/regalos-promociones/2021...</td>\n",
       "      <td>url</td>\n",
       "      <td>NaN</td>\n",
       "    </tr>\n",
       "    <tr>\n",
       "      <th>20</th>\n",
       "      <td>¿Por qué nos cuesta tanto hacer amigos cuando ...</td>\n",
       "      <td>https://cuidateplus.marca.com/bienestar/2021/1...</td>\n",
       "      <td>url</td>\n",
       "      <td>NaN</td>\n",
       "    </tr>\n",
       "    <tr>\n",
       "      <th>21</th>\n",
       "      <td>Vinícius Junior, POTM de noviembre de LaLiga e...</td>\n",
       "      <td>https://www.marca.com/videojuegos/playstation/...</td>\n",
       "      <td>url</td>\n",
       "      <td>NaN</td>\n",
       "    </tr>\n",
       "    <tr>\n",
       "      <th>22</th>\n",
       "      <td>Gasol 'vuelve' a la NBA: Se une a las leyendas...</td>\n",
       "      <td>https://www.marca.com/baloncesto/nba/2021/12/1...</td>\n",
       "      <td>url</td>\n",
       "      <td>NaN</td>\n",
       "    </tr>\n",
       "    <tr>\n",
       "      <th>23</th>\n",
       "      <td>Ricciardo entra en El Plan de Alonso</td>\n",
       "      <td>https://www.marca.com/motor/formula1/gp-abu-dh...</td>\n",
       "      <td>url</td>\n",
       "      <td>NaN</td>\n",
       "    </tr>\n",
       "    <tr>\n",
       "      <th>24</th>\n",
       "      <td>Otra nueva bronca sobre el hielo: ¡Dantesco es...</td>\n",
       "      <td>https://videos.marca.com/v/0_b8lk3uqv-otra-nue...</td>\n",
       "      <td>url</td>\n",
       "      <td>NaN</td>\n",
       "    </tr>\n",
       "    <tr>\n",
       "      <th>25</th>\n",
       "      <td>Los Mavericks \"apestan\" en Indiana pese a que ...</td>\n",
       "      <td>https://www.marca.com/baloncesto/nba/2021/12/1...</td>\n",
       "      <td>url</td>\n",
       "      <td>NaN</td>\n",
       "    </tr>\n",
       "    <tr>\n",
       "      <th>26</th>\n",
       "      <td>Marta López le estaría poniendo los cuernos a ...</td>\n",
       "      <td>https://www.marca.com/tiramillas/television/20...</td>\n",
       "      <td>url</td>\n",
       "      <td>NaN</td>\n",
       "    </tr>\n",
       "    <tr>\n",
       "      <th>27</th>\n",
       "      <td>\"Mis amigas cuando vieron que me liaba con Ris...</td>\n",
       "      <td>https://www.marca.com/tiramillas/actualidad/20...</td>\n",
       "      <td>url</td>\n",
       "      <td>NaN</td>\n",
       "    </tr>\n",
       "    <tr>\n",
       "      <th>28</th>\n",
       "      <td>El rapero Slim 400 muere tiroteado en Los Ánge...</td>\n",
       "      <td>https://www.marca.com/tiramillas/musica/2021/1...</td>\n",
       "      <td>url</td>\n",
       "      <td>NaN</td>\n",
       "    </tr>\n",
       "    <tr>\n",
       "      <th>29</th>\n",
       "      <td>El cabreo de Puri eclipsa a la cita más sucia ...</td>\n",
       "      <td>https://www.marca.com/tiramillas/television/20...</td>\n",
       "      <td>url</td>\n",
       "      <td>NaN</td>\n",
       "    </tr>\n",
       "    <tr>\n",
       "      <th>30</th>\n",
       "      <td>La desternillante broma de Klopp sobre Gerrard...</td>\n",
       "      <td>https://videos.marca.com/v/0_qs1xp252-guardiol...</td>\n",
       "      <td>url</td>\n",
       "      <td>NaN</td>\n",
       "    </tr>\n",
       "    <tr>\n",
       "      <th>31</th>\n",
       "      <td>El gesto de Raiola al nombrar al Barça entre l...</td>\n",
       "      <td>https://videos.marca.com/v/0_8nqjibou-el-gesto...</td>\n",
       "      <td>url</td>\n",
       "      <td>NaN</td>\n",
       "    </tr>\n",
       "    <tr>\n",
       "      <th>32</th>\n",
       "      <td>\"El doble de Messi experto en coronavirus que ...</td>\n",
       "      <td>https://videos.marca.com/v/0_xraxkopm-el-doble...</td>\n",
       "      <td>url</td>\n",
       "      <td>NaN</td>\n",
       "    </tr>\n",
       "    <tr>\n",
       "      <th>33</th>\n",
       "      <td>Hoy empiezan las multas en Madrid Central: est...</td>\n",
       "      <td>https://www.marca.com/coches-y-motos/trafico/2...</td>\n",
       "      <td>url</td>\n",
       "      <td>NaN</td>\n",
       "    </tr>\n",
       "    <tr>\n",
       "      <th>34</th>\n",
       "      <td>Vinicius y Lemar, los llamados a ser decisivos...</td>\n",
       "      <td>https://www.marca.com/apuestas-deportivas/dato...</td>\n",
       "      <td>url</td>\n",
       "      <td>NaN</td>\n",
       "    </tr>\n",
       "    <tr>\n",
       "      <th>35</th>\n",
       "      <td>Groenewegen y Jumbo separan sorprendentemente ...</td>\n",
       "      <td>https://www.marca.com/ciclismo/2021/12/11/61b4...</td>\n",
       "      <td>url</td>\n",
       "      <td>NaN</td>\n",
       "    </tr>\n",
       "    <tr>\n",
       "      <th>36</th>\n",
       "      <td>El Sadar, ¿'bueno' para el Barcelona?</td>\n",
       "      <td>https://www.marca.com/apuestas-deportivas/dato...</td>\n",
       "      <td>url</td>\n",
       "      <td>NaN</td>\n",
       "    </tr>\n",
       "  </tbody>\n",
       "</table>\n",
       "</div>"
      ],
      "text/plain": [
       "                                                title  \\\n",
       "0                                    Quedan señalados   \n",
       "1           Hamilton y Verstappen esconden sus cartas   \n",
       "2                                 Así ficha el Madrid   \n",
       "3   La F1 se rinde a Sainz y bendice el regreso de...   \n",
       "4   La versión más bestial de Antetokounmpo: acaba...   \n",
       "5                                                 NaN   \n",
       "6        Nagelsmann explica por qué rechazó al Madrid   \n",
       "7                 La 'venganza' de Ricky en Minnesota   \n",
       "8   El reinado de Carlsen: ¿quién podrá acabar con...   \n",
       "9         Sainz o el carácter que forjó a un Número 1   \n",
       "10  Rifirrafe entre Santiago Abascal y Mariano Raj...   \n",
       "11  Valencia se echa a la calle contra Lim: ¡Más d...   \n",
       "12  La radical opinión de este culé que dolerá al ...   \n",
       "13  Gerrard vuelve a Anfield: \"Puede que se escuch...   \n",
       "14                            Benzema apunta al derbi   \n",
       "15  Descubre la mejor información de apuestas depo...   \n",
       "16                                                NaN   \n",
       "17           Un vendaval anula al Mallorca y al Celta   \n",
       "18   Duelo de Zamoras en un derbi Fantasy con premios   \n",
       "19  Una camiseta Helly Hansen al 44%, un electroes...   \n",
       "20  ¿Por qué nos cuesta tanto hacer amigos cuando ...   \n",
       "21  Vinícius Junior, POTM de noviembre de LaLiga e...   \n",
       "22  Gasol 'vuelve' a la NBA: Se une a las leyendas...   \n",
       "23               Ricciardo entra en El Plan de Alonso   \n",
       "24  Otra nueva bronca sobre el hielo: ¡Dantesco es...   \n",
       "25  Los Mavericks \"apestan\" en Indiana pese a que ...   \n",
       "26  Marta López le estaría poniendo los cuernos a ...   \n",
       "27  \"Mis amigas cuando vieron que me liaba con Ris...   \n",
       "28  El rapero Slim 400 muere tiroteado en Los Ánge...   \n",
       "29  El cabreo de Puri eclipsa a la cita más sucia ...   \n",
       "30  La desternillante broma de Klopp sobre Gerrard...   \n",
       "31  El gesto de Raiola al nombrar al Barça entre l...   \n",
       "32  \"El doble de Messi experto en coronavirus que ...   \n",
       "33  Hoy empiezan las multas en Madrid Central: est...   \n",
       "34  Vinicius y Lemar, los llamados a ser decisivos...   \n",
       "35  Groenewegen y Jumbo separan sorprendentemente ...   \n",
       "36              El Sadar, ¿'bueno' para el Barcelona?   \n",
       "\n",
       "                                                 href itemprop          rel  \n",
       "0   https://www.marca.com/futbol/barcelona/2021/12...      url          NaN  \n",
       "1   https://www.marca.com/motor/formula1/gp-abu-dh...      url          NaN  \n",
       "2   https://www.marca.com/futbol/real-madrid/2021/...      url          NaN  \n",
       "3   https://www.marca.com/motor/formula1/gp-abu-dh...      url          NaN  \n",
       "4   https://www.marca.com/baloncesto/nba/2021/12/1...      url          NaN  \n",
       "5   https://noesfutboleslaliga.marca.com/directos-...      url  [sponsored]  \n",
       "6   https://www.marca.com/futbol/bundesliga/2021/1...      url          NaN  \n",
       "7   https://www.marca.com/baloncesto/nba/2021/12/1...      url          NaN  \n",
       "8   https://www.marca.com/ajedrez/2021/12/11/61b47...      url          NaN  \n",
       "9   https://leyendas.marca.com/sainz/sainz-o-el-ca...      url          NaN  \n",
       "10  https://www.marca.com/tiramillas/actualidad/20...      url          NaN  \n",
       "11  https://www.marca.com/futbol/valencia/2021/12/...      url          NaN  \n",
       "12  https://videos.marca.com/v/0_yf8wfizg-la-opini...      url          NaN  \n",
       "13  https://www.marca.com/futbol/premier-league/20...      url          NaN  \n",
       "14  https://www.marca.com/futbol/real-madrid/2021/...      url          NaN  \n",
       "15     https://www.marca.com/apuestas-deportivas.html      url          NaN  \n",
       "16  https://www.marca.com/tiramillas/television/20...      url          NaN  \n",
       "17  https://www.marca.com/futbol/primera-division/...      url          NaN  \n",
       "18  https://www.marca.com/laliga-fantasy/2021/12/0...      url          NaN  \n",
       "19  https://www.marca.com/regalos-promociones/2021...      url          NaN  \n",
       "20  https://cuidateplus.marca.com/bienestar/2021/1...      url          NaN  \n",
       "21  https://www.marca.com/videojuegos/playstation/...      url          NaN  \n",
       "22  https://www.marca.com/baloncesto/nba/2021/12/1...      url          NaN  \n",
       "23  https://www.marca.com/motor/formula1/gp-abu-dh...      url          NaN  \n",
       "24  https://videos.marca.com/v/0_b8lk3uqv-otra-nue...      url          NaN  \n",
       "25  https://www.marca.com/baloncesto/nba/2021/12/1...      url          NaN  \n",
       "26  https://www.marca.com/tiramillas/television/20...      url          NaN  \n",
       "27  https://www.marca.com/tiramillas/actualidad/20...      url          NaN  \n",
       "28  https://www.marca.com/tiramillas/musica/2021/1...      url          NaN  \n",
       "29  https://www.marca.com/tiramillas/television/20...      url          NaN  \n",
       "30  https://videos.marca.com/v/0_qs1xp252-guardiol...      url          NaN  \n",
       "31  https://videos.marca.com/v/0_8nqjibou-el-gesto...      url          NaN  \n",
       "32  https://videos.marca.com/v/0_xraxkopm-el-doble...      url          NaN  \n",
       "33  https://www.marca.com/coches-y-motos/trafico/2...      url          NaN  \n",
       "34  https://www.marca.com/apuestas-deportivas/dato...      url          NaN  \n",
       "35  https://www.marca.com/ciclismo/2021/12/11/61b4...      url          NaN  \n",
       "36  https://www.marca.com/apuestas-deportivas/dato...      url          NaN  "
      ]
     },
     "execution_count": 35,
     "metadata": {},
     "output_type": "execute_result"
    }
   ],
   "source": [
    "# Pandas!!!\n",
    "\n",
    "df = pd.DataFrame(links, columns=['title', 'href', 'itemprop', 'rel'])\n",
    "df"
   ]
  },
  {
   "cell_type": "markdown",
   "id": "3690c101",
   "metadata": {},
   "source": [
    "---"
   ]
  },
  {
   "cell_type": "code",
   "execution_count": 45,
   "id": "3d5e1b24",
   "metadata": {},
   "outputs": [
    {
     "data": {
      "text/plain": [
       "[]"
      ]
     },
     "execution_count": 45,
     "metadata": {},
     "output_type": "execute_result"
    }
   ],
   "source": [
    "element2 = parsed_html.find_all(\"script\",\"ueDataPage\")\n"
   ]
  },
  {
   "cell_type": "markdown",
   "id": "a5c02de9",
   "metadata": {},
   "source": [
    "__More info:__\n",
    "\n",
    "- An example for creating a pipeline where the Acquisition part involves REST API and Web Scraping [link](https://towardsdatascience.com/data-engineering-create-your-own-dataset-9c4d267eb838)\n",
    "\n",
    "- If you have dynamic content, you should consider using [Selenium](https://selenium-python.readthedocs.io/)\n",
    "\n",
    "- [What would happen if you tried to scrape Idealista?](https://www.idealista.com/ayuda/articulos/legal-statement/?lang=en#:~:text=Specifically%2C%20it%20is,prior%20written%20permission.)"
   ]
  }
 ],
 "metadata": {
  "kernelspec": {
   "display_name": "Python [conda env:ironhack]",
   "language": "python",
   "name": "conda-env-ironhack-py"
  },
  "language_info": {
   "codemirror_mode": {
    "name": "ipython",
    "version": 3
   },
   "file_extension": ".py",
   "mimetype": "text/x-python",
   "name": "python",
   "nbconvert_exporter": "python",
   "pygments_lexer": "ipython3",
   "version": "3.7.11"
  }
 },
 "nbformat": 4,
 "nbformat_minor": 5
}
