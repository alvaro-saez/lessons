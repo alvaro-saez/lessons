{
 "cells": [
  {
   "cell_type": "markdown",
   "id": "053c3aae",
   "metadata": {},
   "source": [
    "# List Comprehension"
   ]
  },
  {
   "cell_type": "code",
   "execution_count": 31,
   "id": "23480d2d",
   "metadata": {},
   "outputs": [
    {
     "name": "stdout",
     "output_type": "stream",
     "text": [
      "Wall time: 0 ns\n"
     ]
    }
   ],
   "source": [
    "%%time\n",
    "\n",
    "# for loop\n",
    "\n",
    "lst = []\n",
    "for i in range(10):\n",
    "    lst.append(i)\n",
    "#print(lst)"
   ]
  },
  {
   "cell_type": "code",
   "execution_count": 32,
   "id": "96a75281",
   "metadata": {},
   "outputs": [
    {
     "name": "stdout",
     "output_type": "stream",
     "text": [
      "[0, 1, 2, 3, 4, 5, 6, 7, 8, 9]\n",
      "Wall time: 0 ns\n"
     ]
    }
   ],
   "source": [
    "%%time\n",
    "\n",
    "lst = [i for i in range(10)]\n",
    "print(lst)"
   ]
  },
  {
   "cell_type": "code",
   "execution_count": 33,
   "id": "f7eaa35c",
   "metadata": {},
   "outputs": [
    {
     "name": "stdout",
     "output_type": "stream",
     "text": [
      "['name', 'Surname', 'pHone', 'EMAIL', 'CiTy']\n",
      "['name', 'surname', 'phone', 'email', 'city']\n"
     ]
    }
   ],
   "source": [
    "item_lst = ['name', 'Surname', 'pHone', 'EMAIL', 'CiTy']\n",
    "print(item_lst)\n",
    "item_lst = [i.lower() for i in item_lst]\n",
    "print(item_lst)"
   ]
  },
  {
   "cell_type": "code",
   "execution_count": 34,
   "id": "d6cc540a",
   "metadata": {},
   "outputs": [],
   "source": [
    "# for loop\n",
    "\n"
   ]
  },
  {
   "cell_type": "markdown",
   "id": "9c63e0b6",
   "metadata": {},
   "source": [
    "__Adding Conditions to List Comprehensions__"
   ]
  },
  {
   "cell_type": "code",
   "execution_count": 35,
   "id": "daeb99bb",
   "metadata": {},
   "outputs": [
    {
     "name": "stdout",
     "output_type": "stream",
     "text": [
      "[5, 6, 7, 8, 9, 10, 11, 12, 13, 14, 15, 16, 17, 18, 19]\n"
     ]
    }
   ],
   "source": [
    "# for loop\n",
    "lst = []\n",
    "for i in range(20):\n",
    "    if i >= 5:\n",
    "        lst.append(i)\n",
    "print(lst)"
   ]
  },
  {
   "cell_type": "code",
   "execution_count": 36,
   "id": "382b6e86",
   "metadata": {},
   "outputs": [
    {
     "name": "stdout",
     "output_type": "stream",
     "text": [
      "[5, 6, 7, 8, 9, 10, 11, 12, 13, 14, 15, 16, 17, 18, 19]\n"
     ]
    }
   ],
   "source": [
    "lst = []\n",
    "lst = [i for i in range(20) if i >=5]\n",
    "print(lst)"
   ]
  },
  {
   "cell_type": "markdown",
   "id": "779c4588",
   "metadata": {},
   "source": [
    "__Multiple For-Loops in List Comprehensions__"
   ]
  },
  {
   "cell_type": "code",
   "execution_count": 37,
   "id": "ff685a20",
   "metadata": {},
   "outputs": [
    {
     "name": "stdout",
     "output_type": "stream",
     "text": [
      "[[1, 2, 3], [4, 5, 6], [7, 8, 9]]\n",
      "[1, 2, 3, 4, 5, 6, 7, 8, 9]\n"
     ]
    }
   ],
   "source": [
    "# Flatten a list of lists\n",
    "\n",
    "lst_lst = [[1,2,3], [4,5,6], [7,8,9]]\n",
    "print(lst_lst)\n",
    "\n",
    "lst = []\n",
    "for i in lst_lst:\n",
    "    for e in i:\n",
    "        lst.append(e)\n",
    "print(lst)        \n"
   ]
  },
  {
   "cell_type": "code",
   "execution_count": 38,
   "id": "1a6932aa",
   "metadata": {},
   "outputs": [
    {
     "name": "stdout",
     "output_type": "stream",
     "text": [
      "[[1, 2, 3], [4, 5, 6], [7, 8, 9]]\n",
      "[1, 2, 3, 4, 5, 6, 7, 8, 9]\n"
     ]
    }
   ],
   "source": [
    "# list comprehension\n",
    "\n",
    "lst_lst = [[1,2,3], [4,5,6], [7,8,9]]\n",
    "print(lst_lst)\n",
    "\n",
    "lst = []\n",
    "\n",
    "lst = [e for i in lst_lst for e in i]\n",
    "print(lst)\n"
   ]
  },
  {
   "cell_type": "markdown",
   "id": "2fda2020",
   "metadata": {},
   "source": [
    "__Multiple For-Loops in List Comprehensions and Conditions__"
   ]
  },
  {
   "cell_type": "code",
   "execution_count": 42,
   "id": "840e4c78",
   "metadata": {},
   "outputs": [
    {
     "name": "stdout",
     "output_type": "stream",
     "text": [
      "[6, 8, 10]\n"
     ]
    }
   ],
   "source": [
    "# for loop\n",
    "lst_lst = [[1,2,3,4,5], [6,7,8], [9,10]]\n",
    "\n",
    "lst = []\n",
    "for x in lst_lst:\n",
    "    if len(x) < 4:\n",
    "        for y in x:\n",
    "            if y % 2 == 0:\n",
    "                lst.append(y)\n",
    "print(lst)\n"
   ]
  },
  {
   "cell_type": "code",
   "execution_count": 41,
   "id": "07d8a271",
   "metadata": {},
   "outputs": [
    {
     "name": "stdout",
     "output_type": "stream",
     "text": [
      "[6, 8, 10]\n"
     ]
    }
   ],
   "source": [
    "lst_lst = [[1,2,3,4,5], [6,7,8], [9,10]]\n",
    "\n",
    "lst = []\n",
    "\n",
    "lst = [y for x in lst_lst if len(x)<4 for y in x if y%2==0]\n",
    "print(lst)"
   ]
  },
  {
   "cell_type": "markdown",
   "id": "18ef373e",
   "metadata": {},
   "source": [
    "__Recap: Matrix Example__"
   ]
  },
  {
   "cell_type": "code",
   "execution_count": 64,
   "id": "d1712b71",
   "metadata": {
    "scrolled": true
   },
   "outputs": [
    {
     "name": "stdout",
     "output_type": "stream",
     "text": [
      "[[1, 4], [2, 5], [3, 6], [4, 8]]\n"
     ]
    }
   ],
   "source": [
    "transposed_matrix = []\n",
    "matrix = [[1, 2, 3, 4], [4, 5, 6, 8]] #2X4\n",
    "#Queremos obtener un 4x2\n",
    "#Por lo que primero iteramos 4 veces y después 2\n",
    "for i in range(len(matrix[0])): # 4 veces\n",
    "    transposed_row = []\n",
    "    for row in matrix:\n",
    "        transposed_row.append(row[i]) # 2 veces\n",
    "    transposed_matrix.append(transposed_row)\n",
    "print(transposed_matrix)"
   ]
  },
  {
   "cell_type": "code",
   "execution_count": 65,
   "id": "917ef4f8",
   "metadata": {},
   "outputs": [
    {
     "data": {
      "text/plain": [
       "[[1, 4], [2, 5], [3, 6], [4, 8]]"
      ]
     },
     "execution_count": 65,
     "metadata": {},
     "output_type": "execute_result"
    }
   ],
   "source": [
    "matrix = [[1, 2, 3, 4], [4, 5, 6, 8]]#2X4\n",
    "#Queremos obtener un 4x2\n",
    "#Por lo que primero iteramos 4 veces y después 2\n",
    "transposed_matrix = [[row[i] for row in matrix] for i in range(len(matrix[0]))]\n",
    "#iteramos 4 veces obteniendo i (será el index)\n",
    "#iteramos sobre matrix para llamar al index de sus dos elementos\n",
    "transposed_matrix"
   ]
  },
  {
   "cell_type": "markdown",
   "id": "4c438bb0",
   "metadata": {},
   "source": [
    "__Practical Uses for List Comprehensions__"
   ]
  },
  {
   "cell_type": "code",
   "execution_count": null,
   "id": "c158a1d1",
   "metadata": {},
   "outputs": [],
   "source": [
    "my_lst_lst = [[\"let's\", \"take\"], [\"a\", \"break\", \"of\"], {'amount': [5, 10, 15], 'units': ['seconds', 'minutes'] }]"
   ]
  },
  {
   "cell_type": "code",
   "execution_count": null,
   "id": "cdfdc47a",
   "metadata": {},
   "outputs": [],
   "source": [
    "my_message = list(map(lambda word: word.upper(), [word for lst in my_lst_lst[:2] for word in lst]))\n",
    "print(my_message)\n",
    "print(f\"{(' '.join(my_message))}: {my_lst_lst[2]['amount'][1]} {my_lst_lst[2]['units'][0]}\")"
   ]
  },
  {
   "cell_type": "markdown",
   "id": "983d844a",
   "metadata": {},
   "source": [
    "__Worth reading:__\n",
    "\n",
    "- https://medium.com/techtofreedom/8-levels-of-using-list-comprehension-in-python-efc3c339a1f0\n",
    "\n",
    "- https://betterprogramming.pub/3-misuses-of-python-list-comprehension-to-avoid-54adc312e48c\n"
   ]
  }
 ],
 "metadata": {
  "kernelspec": {
   "display_name": "Python [conda env:ironhack]",
   "language": "python",
   "name": "conda-env-ironhack-py"
  },
  "language_info": {
   "codemirror_mode": {
    "name": "ipython",
    "version": 3
   },
   "file_extension": ".py",
   "mimetype": "text/x-python",
   "name": "python",
   "nbconvert_exporter": "python",
   "pygments_lexer": "ipython3",
   "version": "3.7.11"
  }
 },
 "nbformat": 4,
 "nbformat_minor": 5
}
